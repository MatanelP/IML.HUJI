{
 "cells": [
  {
   "cell_type": "markdown",
   "metadata": {},
   "source": [
    "# Chapter 5 - Ensmble Methods"
   ]
  },
  {
   "cell_type": "code",
   "execution_count": 7,
   "metadata": {},
   "outputs": [],
   "source": [
    "import sys\n",
    "sys.path.append(\"../\")\n",
    "from utils import *\n",
    "\n",
    "np.random.seed(7)"
   ]
  },
  {
   "cell_type": "markdown",
   "metadata": {},
   "source": [
    "## Bias-Variance Trade-off\n",
    "\n",
    "$\\newcommand{\\coloneqq}{\\mathrel{\\vcenter{:}}=}$\n",
    "$\\newcommand{\\E}{\\mathbb{E}}$\n",
    "$\\newcommand{\\y}{\\mathbf{y}}$\n",
    "\n",
    "Let us compute the bias-variance trade-off graph for a problem of polynomial fitting. Recall, that the error decomposition for the MSE loss function is: $$ MSE_{\\y}\\left(\\widehat{\\y}\\right)=\\E\\left[\\left(\\widehat{\\y}-\\y^*\\right)^2\\right] = Var\\left(\\widehat{\\y}\\right) + Bias^2\\left(\\widehat{\\y}\\right) $$\n",
    "\n",
    "Where the bias and variances of estimators are defined as: $$ Bias\\left(\\widehat{\\y}\\right) \\coloneqq \\E\\left[\\widehat{\\y}\\right] - \\y, \\quad Var\\left(\\widehat{\\y}\\right)\\coloneqq \\E\\left[\\left(\\widehat{\\y}-\\E\\left[\\widehat{\\y}\\right]\\right)^2\\right]$$\n",
    "\n",
    "As the $\\E\\left[\\widehat{\\y}\\right]$ is over the selection of the training sets, we will first defined the \"ground truth\" model and retrieve a set $\\mathbf{X},\\y$ from it. Then, we will repeatedly sample Gaussian noise $\\varepsilon$ and fit a polynomial model over $\\mathbf{X},\\y+\\varepsilon$. In the code below `y_` denotes the true $\\y$ values and `y` the responses after adding the noise."
   ]
  },
  {
   "cell_type": "code",
   "execution_count": 8,
   "metadata": {},
   "outputs": [
    {
     "data": {
      "application/vnd.plotly.v1+json": {
       "config": {
        "plotlyServerURL": "https://plot.ly"
       },
       "data": [
        {
         "name": "$Bias^2$",
         "type": "scatter",
         "x": [
          0,
          1,
          2,
          3,
          4,
          5,
          6,
          7,
          8,
          9,
          10
         ],
         "y": [
          15.84442708823929,
          4.435476303075782,
          2.0157533408893427,
          0.9374629194643652,
          0.012720719846463906,
          0.004130239327445777,
          0.026229620920544136,
          0.12387765708473612,
          0.2420858757607401,
          0.041606008380916645,
          0.09568746955178734
         ]
        },
        {
         "name": "$Variance$",
         "type": "scatter",
         "x": [
          0,
          1,
          2,
          3,
          4,
          5,
          6,
          7,
          8,
          9,
          10
         ],
         "y": [
          0.25733899396949583,
          0.6715056606940425,
          1.0048142341239963,
          1.0981009132914206,
          1.7654002285405928,
          2.4444427546149377,
          3.227385856369508,
          5.567301235541692,
          6.6755898328345475,
          7.817693990364801,
          10.194602032859608
         ]
        },
        {
         "name": "$Bias^2+Variance$",
         "type": "scatter",
         "x": [
          0,
          1,
          2,
          3,
          4,
          5,
          6,
          7,
          8,
          9,
          10
         ],
         "y": [
          16.101766082208783,
          5.106981963769824,
          3.020567575013339,
          2.035563832755786,
          1.7781209483870566,
          2.4485729939423835,
          3.2536154772900523,
          5.691178892626429,
          6.917675708595287,
          7.859299998745717,
          10.290289502411396
         ]
        },
        {
         "name": "$Generalization\\,\\,Error$",
         "type": "scatter",
         "x": [
          0,
          1,
          2,
          3,
          4,
          5,
          6,
          7,
          8,
          9,
          10
         ],
         "y": [
          16.099192692269092,
          5.100266907162886,
          3.0105194326720994,
          2.024582823622872,
          1.7604669461016504,
          2.424128566396234,
          3.2213416187263575,
          5.635505880271013,
          6.850919810266942,
          7.781123058842069,
          10.188343482082802
         ]
        }
       ],
       "layout": {
        "height": 500,
        "template": {
         "data": {
          "bar": [
           {
            "error_x": {
             "color": "rgb(36,36,36)"
            },
            "error_y": {
             "color": "rgb(36,36,36)"
            },
            "marker": {
             "line": {
              "color": "white",
              "width": 0.5
             },
             "pattern": {
              "fillmode": "overlay",
              "size": 10,
              "solidity": 0.2
             }
            },
            "type": "bar"
           }
          ],
          "barpolar": [
           {
            "marker": {
             "line": {
              "color": "white",
              "width": 0.5
             },
             "pattern": {
              "fillmode": "overlay",
              "size": 10,
              "solidity": 0.2
             }
            },
            "type": "barpolar"
           }
          ],
          "carpet": [
           {
            "aaxis": {
             "endlinecolor": "rgb(36,36,36)",
             "gridcolor": "white",
             "linecolor": "white",
             "minorgridcolor": "white",
             "startlinecolor": "rgb(36,36,36)"
            },
            "baxis": {
             "endlinecolor": "rgb(36,36,36)",
             "gridcolor": "white",
             "linecolor": "white",
             "minorgridcolor": "white",
             "startlinecolor": "rgb(36,36,36)"
            },
            "type": "carpet"
           }
          ],
          "choropleth": [
           {
            "colorbar": {
             "outlinewidth": 1,
             "tickcolor": "rgb(36,36,36)",
             "ticks": "outside"
            },
            "type": "choropleth"
           }
          ],
          "contour": [
           {
            "colorbar": {
             "outlinewidth": 1,
             "tickcolor": "rgb(36,36,36)",
             "ticks": "outside"
            },
            "colorscale": [
             [
              0,
              "#440154"
             ],
             [
              0.1111111111111111,
              "#482878"
             ],
             [
              0.2222222222222222,
              "#3e4989"
             ],
             [
              0.3333333333333333,
              "#31688e"
             ],
             [
              0.4444444444444444,
              "#26828e"
             ],
             [
              0.5555555555555556,
              "#1f9e89"
             ],
             [
              0.6666666666666666,
              "#35b779"
             ],
             [
              0.7777777777777778,
              "#6ece58"
             ],
             [
              0.8888888888888888,
              "#b5de2b"
             ],
             [
              1,
              "#fde725"
             ]
            ],
            "type": "contour"
           }
          ],
          "contourcarpet": [
           {
            "colorbar": {
             "outlinewidth": 1,
             "tickcolor": "rgb(36,36,36)",
             "ticks": "outside"
            },
            "type": "contourcarpet"
           }
          ],
          "heatmap": [
           {
            "colorbar": {
             "outlinewidth": 1,
             "tickcolor": "rgb(36,36,36)",
             "ticks": "outside"
            },
            "colorscale": [
             [
              0,
              "#440154"
             ],
             [
              0.1111111111111111,
              "#482878"
             ],
             [
              0.2222222222222222,
              "#3e4989"
             ],
             [
              0.3333333333333333,
              "#31688e"
             ],
             [
              0.4444444444444444,
              "#26828e"
             ],
             [
              0.5555555555555556,
              "#1f9e89"
             ],
             [
              0.6666666666666666,
              "#35b779"
             ],
             [
              0.7777777777777778,
              "#6ece58"
             ],
             [
              0.8888888888888888,
              "#b5de2b"
             ],
             [
              1,
              "#fde725"
             ]
            ],
            "type": "heatmap"
           }
          ],
          "heatmapgl": [
           {
            "colorbar": {
             "outlinewidth": 1,
             "tickcolor": "rgb(36,36,36)",
             "ticks": "outside"
            },
            "colorscale": [
             [
              0,
              "#440154"
             ],
             [
              0.1111111111111111,
              "#482878"
             ],
             [
              0.2222222222222222,
              "#3e4989"
             ],
             [
              0.3333333333333333,
              "#31688e"
             ],
             [
              0.4444444444444444,
              "#26828e"
             ],
             [
              0.5555555555555556,
              "#1f9e89"
             ],
             [
              0.6666666666666666,
              "#35b779"
             ],
             [
              0.7777777777777778,
              "#6ece58"
             ],
             [
              0.8888888888888888,
              "#b5de2b"
             ],
             [
              1,
              "#fde725"
             ]
            ],
            "type": "heatmapgl"
           }
          ],
          "histogram": [
           {
            "marker": {
             "line": {
              "color": "white",
              "width": 0.6
             }
            },
            "type": "histogram"
           }
          ],
          "histogram2d": [
           {
            "colorbar": {
             "outlinewidth": 1,
             "tickcolor": "rgb(36,36,36)",
             "ticks": "outside"
            },
            "colorscale": [
             [
              0,
              "#440154"
             ],
             [
              0.1111111111111111,
              "#482878"
             ],
             [
              0.2222222222222222,
              "#3e4989"
             ],
             [
              0.3333333333333333,
              "#31688e"
             ],
             [
              0.4444444444444444,
              "#26828e"
             ],
             [
              0.5555555555555556,
              "#1f9e89"
             ],
             [
              0.6666666666666666,
              "#35b779"
             ],
             [
              0.7777777777777778,
              "#6ece58"
             ],
             [
              0.8888888888888888,
              "#b5de2b"
             ],
             [
              1,
              "#fde725"
             ]
            ],
            "type": "histogram2d"
           }
          ],
          "histogram2dcontour": [
           {
            "colorbar": {
             "outlinewidth": 1,
             "tickcolor": "rgb(36,36,36)",
             "ticks": "outside"
            },
            "colorscale": [
             [
              0,
              "#440154"
             ],
             [
              0.1111111111111111,
              "#482878"
             ],
             [
              0.2222222222222222,
              "#3e4989"
             ],
             [
              0.3333333333333333,
              "#31688e"
             ],
             [
              0.4444444444444444,
              "#26828e"
             ],
             [
              0.5555555555555556,
              "#1f9e89"
             ],
             [
              0.6666666666666666,
              "#35b779"
             ],
             [
              0.7777777777777778,
              "#6ece58"
             ],
             [
              0.8888888888888888,
              "#b5de2b"
             ],
             [
              1,
              "#fde725"
             ]
            ],
            "type": "histogram2dcontour"
           }
          ],
          "mesh3d": [
           {
            "colorbar": {
             "outlinewidth": 1,
             "tickcolor": "rgb(36,36,36)",
             "ticks": "outside"
            },
            "type": "mesh3d"
           }
          ],
          "parcoords": [
           {
            "line": {
             "colorbar": {
              "outlinewidth": 1,
              "tickcolor": "rgb(36,36,36)",
              "ticks": "outside"
             }
            },
            "type": "parcoords"
           }
          ],
          "pie": [
           {
            "automargin": true,
            "type": "pie"
           }
          ],
          "scatter": [
           {
            "marker": {
             "colorbar": {
              "outlinewidth": 1,
              "tickcolor": "rgb(36,36,36)",
              "ticks": "outside"
             }
            },
            "type": "scatter"
           }
          ],
          "scatter3d": [
           {
            "line": {
             "colorbar": {
              "outlinewidth": 1,
              "tickcolor": "rgb(36,36,36)",
              "ticks": "outside"
             }
            },
            "marker": {
             "colorbar": {
              "outlinewidth": 1,
              "tickcolor": "rgb(36,36,36)",
              "ticks": "outside"
             }
            },
            "type": "scatter3d"
           }
          ],
          "scattercarpet": [
           {
            "marker": {
             "colorbar": {
              "outlinewidth": 1,
              "tickcolor": "rgb(36,36,36)",
              "ticks": "outside"
             }
            },
            "type": "scattercarpet"
           }
          ],
          "scattergeo": [
           {
            "marker": {
             "colorbar": {
              "outlinewidth": 1,
              "tickcolor": "rgb(36,36,36)",
              "ticks": "outside"
             }
            },
            "type": "scattergeo"
           }
          ],
          "scattergl": [
           {
            "marker": {
             "colorbar": {
              "outlinewidth": 1,
              "tickcolor": "rgb(36,36,36)",
              "ticks": "outside"
             }
            },
            "type": "scattergl"
           }
          ],
          "scattermapbox": [
           {
            "marker": {
             "colorbar": {
              "outlinewidth": 1,
              "tickcolor": "rgb(36,36,36)",
              "ticks": "outside"
             }
            },
            "type": "scattermapbox"
           }
          ],
          "scatterpolar": [
           {
            "marker": {
             "colorbar": {
              "outlinewidth": 1,
              "tickcolor": "rgb(36,36,36)",
              "ticks": "outside"
             }
            },
            "type": "scatterpolar"
           }
          ],
          "scatterpolargl": [
           {
            "marker": {
             "colorbar": {
              "outlinewidth": 1,
              "tickcolor": "rgb(36,36,36)",
              "ticks": "outside"
             }
            },
            "type": "scatterpolargl"
           }
          ],
          "scatterternary": [
           {
            "marker": {
             "colorbar": {
              "outlinewidth": 1,
              "tickcolor": "rgb(36,36,36)",
              "ticks": "outside"
             }
            },
            "type": "scatterternary"
           }
          ],
          "surface": [
           {
            "colorbar": {
             "outlinewidth": 1,
             "tickcolor": "rgb(36,36,36)",
             "ticks": "outside"
            },
            "colorscale": [
             [
              0,
              "#440154"
             ],
             [
              0.1111111111111111,
              "#482878"
             ],
             [
              0.2222222222222222,
              "#3e4989"
             ],
             [
              0.3333333333333333,
              "#31688e"
             ],
             [
              0.4444444444444444,
              "#26828e"
             ],
             [
              0.5555555555555556,
              "#1f9e89"
             ],
             [
              0.6666666666666666,
              "#35b779"
             ],
             [
              0.7777777777777778,
              "#6ece58"
             ],
             [
              0.8888888888888888,
              "#b5de2b"
             ],
             [
              1,
              "#fde725"
             ]
            ],
            "type": "surface"
           }
          ],
          "table": [
           {
            "cells": {
             "fill": {
              "color": "rgb(237,237,237)"
             },
             "line": {
              "color": "white"
             }
            },
            "header": {
             "fill": {
              "color": "rgb(217,217,217)"
             },
             "line": {
              "color": "white"
             }
            },
            "type": "table"
           }
          ]
         },
         "layout": {
          "annotationdefaults": {
           "arrowhead": 0,
           "arrowwidth": 1
          },
          "autotypenumbers": "strict",
          "coloraxis": {
           "colorbar": {
            "outlinewidth": 1,
            "tickcolor": "rgb(36,36,36)",
            "ticks": "outside"
           }
          },
          "colorscale": {
           "diverging": [
            [
             0,
             "rgb(103,0,31)"
            ],
            [
             0.1,
             "rgb(178,24,43)"
            ],
            [
             0.2,
             "rgb(214,96,77)"
            ],
            [
             0.3,
             "rgb(244,165,130)"
            ],
            [
             0.4,
             "rgb(253,219,199)"
            ],
            [
             0.5,
             "rgb(247,247,247)"
            ],
            [
             0.6,
             "rgb(209,229,240)"
            ],
            [
             0.7,
             "rgb(146,197,222)"
            ],
            [
             0.8,
             "rgb(67,147,195)"
            ],
            [
             0.9,
             "rgb(33,102,172)"
            ],
            [
             1,
             "rgb(5,48,97)"
            ]
           ],
           "sequential": [
            [
             0,
             "#440154"
            ],
            [
             0.1111111111111111,
             "#482878"
            ],
            [
             0.2222222222222222,
             "#3e4989"
            ],
            [
             0.3333333333333333,
             "#31688e"
            ],
            [
             0.4444444444444444,
             "#26828e"
            ],
            [
             0.5555555555555556,
             "#1f9e89"
            ],
            [
             0.6666666666666666,
             "#35b779"
            ],
            [
             0.7777777777777778,
             "#6ece58"
            ],
            [
             0.8888888888888888,
             "#b5de2b"
            ],
            [
             1,
             "#fde725"
            ]
           ],
           "sequentialminus": [
            [
             0,
             "#440154"
            ],
            [
             0.1111111111111111,
             "#482878"
            ],
            [
             0.2222222222222222,
             "#3e4989"
            ],
            [
             0.3333333333333333,
             "#31688e"
            ],
            [
             0.4444444444444444,
             "#26828e"
            ],
            [
             0.5555555555555556,
             "#1f9e89"
            ],
            [
             0.6666666666666666,
             "#35b779"
            ],
            [
             0.7777777777777778,
             "#6ece58"
            ],
            [
             0.8888888888888888,
             "#b5de2b"
            ],
            [
             1,
             "#fde725"
            ]
           ]
          },
          "colorway": [
           "#1F77B4",
           "#FF7F0E",
           "#2CA02C",
           "#D62728",
           "#9467BD",
           "#8C564B",
           "#E377C2",
           "#7F7F7F",
           "#BCBD22",
           "#17BECF"
          ],
          "font": {
           "color": "rgb(36,36,36)"
          },
          "geo": {
           "bgcolor": "white",
           "lakecolor": "white",
           "landcolor": "white",
           "showlakes": true,
           "showland": true,
           "subunitcolor": "white"
          },
          "hoverlabel": {
           "align": "left"
          },
          "hovermode": "closest",
          "mapbox": {
           "style": "light"
          },
          "margin": {
           "b": 0,
           "l": 20,
           "r": 20,
           "t": 40
          },
          "paper_bgcolor": "white",
          "plot_bgcolor": "white",
          "polar": {
           "angularaxis": {
            "gridcolor": "rgb(232,232,232)",
            "linecolor": "rgb(36,36,36)",
            "showgrid": false,
            "showline": true,
            "ticks": "outside"
           },
           "bgcolor": "white",
           "radialaxis": {
            "gridcolor": "rgb(232,232,232)",
            "linecolor": "rgb(36,36,36)",
            "showgrid": false,
            "showline": true,
            "ticks": "outside"
           }
          },
          "scene": {
           "xaxis": {
            "backgroundcolor": "white",
            "gridcolor": "rgb(232,232,232)",
            "gridwidth": 2,
            "linecolor": "rgb(36,36,36)",
            "showbackground": true,
            "showgrid": false,
            "showline": true,
            "ticks": "outside",
            "zeroline": false,
            "zerolinecolor": "rgb(36,36,36)"
           },
           "yaxis": {
            "backgroundcolor": "white",
            "gridcolor": "rgb(232,232,232)",
            "gridwidth": 2,
            "linecolor": "rgb(36,36,36)",
            "showbackground": true,
            "showgrid": false,
            "showline": true,
            "ticks": "outside",
            "zeroline": false,
            "zerolinecolor": "rgb(36,36,36)"
           },
           "zaxis": {
            "backgroundcolor": "white",
            "gridcolor": "rgb(232,232,232)",
            "gridwidth": 2,
            "linecolor": "rgb(36,36,36)",
            "showbackground": true,
            "showgrid": false,
            "showline": true,
            "ticks": "outside",
            "zeroline": false,
            "zerolinecolor": "rgb(36,36,36)"
           }
          },
          "shapedefaults": {
           "fillcolor": "black",
           "line": {
            "width": 0
           },
           "opacity": 0.3
          },
          "ternary": {
           "aaxis": {
            "gridcolor": "rgb(232,232,232)",
            "linecolor": "rgb(36,36,36)",
            "showgrid": false,
            "showline": true,
            "ticks": "outside"
           },
           "baxis": {
            "gridcolor": "rgb(232,232,232)",
            "linecolor": "rgb(36,36,36)",
            "showgrid": false,
            "showline": true,
            "ticks": "outside"
           },
           "bgcolor": "white",
           "caxis": {
            "gridcolor": "rgb(232,232,232)",
            "linecolor": "rgb(36,36,36)",
            "showgrid": false,
            "showline": true,
            "ticks": "outside"
           }
          },
          "title": {
           "x": 0.05
          },
          "xaxis": {
           "automargin": true,
           "gridcolor": "rgb(232,232,232)",
           "linecolor": "rgb(36,36,36)",
           "showgrid": false,
           "showline": true,
           "ticks": "outside",
           "title": {
            "standoff": 15
           },
           "zeroline": false,
           "zerolinecolor": "rgb(36,36,36)"
          },
          "yaxis": {
           "automargin": true,
           "gridcolor": "rgb(232,232,232)",
           "linecolor": "rgb(36,36,36)",
           "showgrid": false,
           "showline": true,
           "ticks": "outside",
           "title": {
            "standoff": 15
           },
           "zeroline": false,
           "zerolinecolor": "rgb(36,36,36)"
          }
         }
        },
        "title": {
         "text": "$\\text{Generalization Error Decomposition - Bias-Variance of Polynomial Fitting}$"
        },
        "width": 800,
        "xaxis": {
         "title": {
          "text": "$\\text{Degree of Fitted Polymonial}$"
         }
        }
       }
      },
      "text/html": [
       "<div>                            <div id=\"8d41e564-06a8-46bc-966c-b756935f4217\" class=\"plotly-graph-div\" style=\"height:500px; width:800px;\"></div>            <script type=\"text/javascript\">                require([\"plotly\"], function(Plotly) {                    window.PLOTLYENV=window.PLOTLYENV || {};                                    if (document.getElementById(\"8d41e564-06a8-46bc-966c-b756935f4217\")) {                    Plotly.newPlot(                        \"8d41e564-06a8-46bc-966c-b756935f4217\",                        [{\"name\":\"$Bias^2$\",\"x\":[0,1,2,3,4,5,6,7,8,9,10],\"y\":[15.84442708823929,4.435476303075782,2.0157533408893427,0.9374629194643652,0.012720719846463906,0.004130239327445777,0.026229620920544136,0.12387765708473612,0.2420858757607401,0.041606008380916645,0.09568746955178734],\"type\":\"scatter\"},{\"name\":\"$Variance$\",\"x\":[0,1,2,3,4,5,6,7,8,9,10],\"y\":[0.25733899396949583,0.6715056606940425,1.0048142341239963,1.0981009132914206,1.7654002285405928,2.4444427546149377,3.227385856369508,5.567301235541692,6.6755898328345475,7.817693990364801,10.194602032859608],\"type\":\"scatter\"},{\"name\":\"$Bias^2+Variance$\",\"x\":[0,1,2,3,4,5,6,7,8,9,10],\"y\":[16.101766082208783,5.106981963769824,3.020567575013339,2.035563832755786,1.7781209483870566,2.4485729939423835,3.2536154772900523,5.691178892626429,6.917675708595287,7.859299998745717,10.290289502411396],\"type\":\"scatter\"},{\"name\":\"$Generalization\\\\,\\\\,Error$\",\"x\":[0,1,2,3,4,5,6,7,8,9,10],\"y\":[16.099192692269092,5.100266907162886,3.0105194326720994,2.024582823622872,1.7604669461016504,2.424128566396234,3.2213416187263575,5.635505880271013,6.850919810266942,7.781123058842069,10.188343482082802],\"type\":\"scatter\"}],                        {\"height\":500,\"title\":{\"text\":\"$\\\\text{Generalization Error Decomposition - Bias-Variance of Polynomial Fitting}$\"},\"width\":800,\"xaxis\":{\"title\":{\"text\":\"$\\\\text{Degree of Fitted Polymonial}$\"}},\"template\":{\"data\":{\"barpolar\":[{\"marker\":{\"line\":{\"color\":\"white\",\"width\":0.5},\"pattern\":{\"fillmode\":\"overlay\",\"size\":10,\"solidity\":0.2}},\"type\":\"barpolar\"}],\"bar\":[{\"error_x\":{\"color\":\"rgb(36,36,36)\"},\"error_y\":{\"color\":\"rgb(36,36,36)\"},\"marker\":{\"line\":{\"color\":\"white\",\"width\":0.5},\"pattern\":{\"fillmode\":\"overlay\",\"size\":10,\"solidity\":0.2}},\"type\":\"bar\"}],\"carpet\":[{\"aaxis\":{\"endlinecolor\":\"rgb(36,36,36)\",\"gridcolor\":\"white\",\"linecolor\":\"white\",\"minorgridcolor\":\"white\",\"startlinecolor\":\"rgb(36,36,36)\"},\"baxis\":{\"endlinecolor\":\"rgb(36,36,36)\",\"gridcolor\":\"white\",\"linecolor\":\"white\",\"minorgridcolor\":\"white\",\"startlinecolor\":\"rgb(36,36,36)\"},\"type\":\"carpet\"}],\"choropleth\":[{\"colorbar\":{\"outlinewidth\":1,\"tickcolor\":\"rgb(36,36,36)\",\"ticks\":\"outside\"},\"type\":\"choropleth\"}],\"contourcarpet\":[{\"colorbar\":{\"outlinewidth\":1,\"tickcolor\":\"rgb(36,36,36)\",\"ticks\":\"outside\"},\"type\":\"contourcarpet\"}],\"contour\":[{\"colorbar\":{\"outlinewidth\":1,\"tickcolor\":\"rgb(36,36,36)\",\"ticks\":\"outside\"},\"colorscale\":[[0.0,\"#440154\"],[0.1111111111111111,\"#482878\"],[0.2222222222222222,\"#3e4989\"],[0.3333333333333333,\"#31688e\"],[0.4444444444444444,\"#26828e\"],[0.5555555555555556,\"#1f9e89\"],[0.6666666666666666,\"#35b779\"],[0.7777777777777778,\"#6ece58\"],[0.8888888888888888,\"#b5de2b\"],[1.0,\"#fde725\"]],\"type\":\"contour\"}],\"heatmapgl\":[{\"colorbar\":{\"outlinewidth\":1,\"tickcolor\":\"rgb(36,36,36)\",\"ticks\":\"outside\"},\"colorscale\":[[0.0,\"#440154\"],[0.1111111111111111,\"#482878\"],[0.2222222222222222,\"#3e4989\"],[0.3333333333333333,\"#31688e\"],[0.4444444444444444,\"#26828e\"],[0.5555555555555556,\"#1f9e89\"],[0.6666666666666666,\"#35b779\"],[0.7777777777777778,\"#6ece58\"],[0.8888888888888888,\"#b5de2b\"],[1.0,\"#fde725\"]],\"type\":\"heatmapgl\"}],\"heatmap\":[{\"colorbar\":{\"outlinewidth\":1,\"tickcolor\":\"rgb(36,36,36)\",\"ticks\":\"outside\"},\"colorscale\":[[0.0,\"#440154\"],[0.1111111111111111,\"#482878\"],[0.2222222222222222,\"#3e4989\"],[0.3333333333333333,\"#31688e\"],[0.4444444444444444,\"#26828e\"],[0.5555555555555556,\"#1f9e89\"],[0.6666666666666666,\"#35b779\"],[0.7777777777777778,\"#6ece58\"],[0.8888888888888888,\"#b5de2b\"],[1.0,\"#fde725\"]],\"type\":\"heatmap\"}],\"histogram2dcontour\":[{\"colorbar\":{\"outlinewidth\":1,\"tickcolor\":\"rgb(36,36,36)\",\"ticks\":\"outside\"},\"colorscale\":[[0.0,\"#440154\"],[0.1111111111111111,\"#482878\"],[0.2222222222222222,\"#3e4989\"],[0.3333333333333333,\"#31688e\"],[0.4444444444444444,\"#26828e\"],[0.5555555555555556,\"#1f9e89\"],[0.6666666666666666,\"#35b779\"],[0.7777777777777778,\"#6ece58\"],[0.8888888888888888,\"#b5de2b\"],[1.0,\"#fde725\"]],\"type\":\"histogram2dcontour\"}],\"histogram2d\":[{\"colorbar\":{\"outlinewidth\":1,\"tickcolor\":\"rgb(36,36,36)\",\"ticks\":\"outside\"},\"colorscale\":[[0.0,\"#440154\"],[0.1111111111111111,\"#482878\"],[0.2222222222222222,\"#3e4989\"],[0.3333333333333333,\"#31688e\"],[0.4444444444444444,\"#26828e\"],[0.5555555555555556,\"#1f9e89\"],[0.6666666666666666,\"#35b779\"],[0.7777777777777778,\"#6ece58\"],[0.8888888888888888,\"#b5de2b\"],[1.0,\"#fde725\"]],\"type\":\"histogram2d\"}],\"histogram\":[{\"marker\":{\"line\":{\"color\":\"white\",\"width\":0.6}},\"type\":\"histogram\"}],\"mesh3d\":[{\"colorbar\":{\"outlinewidth\":1,\"tickcolor\":\"rgb(36,36,36)\",\"ticks\":\"outside\"},\"type\":\"mesh3d\"}],\"parcoords\":[{\"line\":{\"colorbar\":{\"outlinewidth\":1,\"tickcolor\":\"rgb(36,36,36)\",\"ticks\":\"outside\"}},\"type\":\"parcoords\"}],\"pie\":[{\"automargin\":true,\"type\":\"pie\"}],\"scatter3d\":[{\"line\":{\"colorbar\":{\"outlinewidth\":1,\"tickcolor\":\"rgb(36,36,36)\",\"ticks\":\"outside\"}},\"marker\":{\"colorbar\":{\"outlinewidth\":1,\"tickcolor\":\"rgb(36,36,36)\",\"ticks\":\"outside\"}},\"type\":\"scatter3d\"}],\"scattercarpet\":[{\"marker\":{\"colorbar\":{\"outlinewidth\":1,\"tickcolor\":\"rgb(36,36,36)\",\"ticks\":\"outside\"}},\"type\":\"scattercarpet\"}],\"scattergeo\":[{\"marker\":{\"colorbar\":{\"outlinewidth\":1,\"tickcolor\":\"rgb(36,36,36)\",\"ticks\":\"outside\"}},\"type\":\"scattergeo\"}],\"scattergl\":[{\"marker\":{\"colorbar\":{\"outlinewidth\":1,\"tickcolor\":\"rgb(36,36,36)\",\"ticks\":\"outside\"}},\"type\":\"scattergl\"}],\"scattermapbox\":[{\"marker\":{\"colorbar\":{\"outlinewidth\":1,\"tickcolor\":\"rgb(36,36,36)\",\"ticks\":\"outside\"}},\"type\":\"scattermapbox\"}],\"scatterpolargl\":[{\"marker\":{\"colorbar\":{\"outlinewidth\":1,\"tickcolor\":\"rgb(36,36,36)\",\"ticks\":\"outside\"}},\"type\":\"scatterpolargl\"}],\"scatterpolar\":[{\"marker\":{\"colorbar\":{\"outlinewidth\":1,\"tickcolor\":\"rgb(36,36,36)\",\"ticks\":\"outside\"}},\"type\":\"scatterpolar\"}],\"scatter\":[{\"marker\":{\"colorbar\":{\"outlinewidth\":1,\"tickcolor\":\"rgb(36,36,36)\",\"ticks\":\"outside\"}},\"type\":\"scatter\"}],\"scatterternary\":[{\"marker\":{\"colorbar\":{\"outlinewidth\":1,\"tickcolor\":\"rgb(36,36,36)\",\"ticks\":\"outside\"}},\"type\":\"scatterternary\"}],\"surface\":[{\"colorbar\":{\"outlinewidth\":1,\"tickcolor\":\"rgb(36,36,36)\",\"ticks\":\"outside\"},\"colorscale\":[[0.0,\"#440154\"],[0.1111111111111111,\"#482878\"],[0.2222222222222222,\"#3e4989\"],[0.3333333333333333,\"#31688e\"],[0.4444444444444444,\"#26828e\"],[0.5555555555555556,\"#1f9e89\"],[0.6666666666666666,\"#35b779\"],[0.7777777777777778,\"#6ece58\"],[0.8888888888888888,\"#b5de2b\"],[1.0,\"#fde725\"]],\"type\":\"surface\"}],\"table\":[{\"cells\":{\"fill\":{\"color\":\"rgb(237,237,237)\"},\"line\":{\"color\":\"white\"}},\"header\":{\"fill\":{\"color\":\"rgb(217,217,217)\"},\"line\":{\"color\":\"white\"}},\"type\":\"table\"}]},\"layout\":{\"annotationdefaults\":{\"arrowhead\":0,\"arrowwidth\":1},\"autotypenumbers\":\"strict\",\"coloraxis\":{\"colorbar\":{\"outlinewidth\":1,\"tickcolor\":\"rgb(36,36,36)\",\"ticks\":\"outside\"}},\"colorscale\":{\"diverging\":[[0.0,\"rgb(103,0,31)\"],[0.1,\"rgb(178,24,43)\"],[0.2,\"rgb(214,96,77)\"],[0.3,\"rgb(244,165,130)\"],[0.4,\"rgb(253,219,199)\"],[0.5,\"rgb(247,247,247)\"],[0.6,\"rgb(209,229,240)\"],[0.7,\"rgb(146,197,222)\"],[0.8,\"rgb(67,147,195)\"],[0.9,\"rgb(33,102,172)\"],[1.0,\"rgb(5,48,97)\"]],\"sequential\":[[0.0,\"#440154\"],[0.1111111111111111,\"#482878\"],[0.2222222222222222,\"#3e4989\"],[0.3333333333333333,\"#31688e\"],[0.4444444444444444,\"#26828e\"],[0.5555555555555556,\"#1f9e89\"],[0.6666666666666666,\"#35b779\"],[0.7777777777777778,\"#6ece58\"],[0.8888888888888888,\"#b5de2b\"],[1.0,\"#fde725\"]],\"sequentialminus\":[[0.0,\"#440154\"],[0.1111111111111111,\"#482878\"],[0.2222222222222222,\"#3e4989\"],[0.3333333333333333,\"#31688e\"],[0.4444444444444444,\"#26828e\"],[0.5555555555555556,\"#1f9e89\"],[0.6666666666666666,\"#35b779\"],[0.7777777777777778,\"#6ece58\"],[0.8888888888888888,\"#b5de2b\"],[1.0,\"#fde725\"]]},\"colorway\":[\"#1F77B4\",\"#FF7F0E\",\"#2CA02C\",\"#D62728\",\"#9467BD\",\"#8C564B\",\"#E377C2\",\"#7F7F7F\",\"#BCBD22\",\"#17BECF\"],\"font\":{\"color\":\"rgb(36,36,36)\"},\"geo\":{\"bgcolor\":\"white\",\"lakecolor\":\"white\",\"landcolor\":\"white\",\"showlakes\":true,\"showland\":true,\"subunitcolor\":\"white\"},\"hoverlabel\":{\"align\":\"left\"},\"hovermode\":\"closest\",\"mapbox\":{\"style\":\"light\"},\"paper_bgcolor\":\"white\",\"plot_bgcolor\":\"white\",\"polar\":{\"angularaxis\":{\"gridcolor\":\"rgb(232,232,232)\",\"linecolor\":\"rgb(36,36,36)\",\"showgrid\":false,\"showline\":true,\"ticks\":\"outside\"},\"bgcolor\":\"white\",\"radialaxis\":{\"gridcolor\":\"rgb(232,232,232)\",\"linecolor\":\"rgb(36,36,36)\",\"showgrid\":false,\"showline\":true,\"ticks\":\"outside\"}},\"scene\":{\"xaxis\":{\"backgroundcolor\":\"white\",\"gridcolor\":\"rgb(232,232,232)\",\"gridwidth\":2,\"linecolor\":\"rgb(36,36,36)\",\"showbackground\":true,\"showgrid\":false,\"showline\":true,\"ticks\":\"outside\",\"zeroline\":false,\"zerolinecolor\":\"rgb(36,36,36)\"},\"yaxis\":{\"backgroundcolor\":\"white\",\"gridcolor\":\"rgb(232,232,232)\",\"gridwidth\":2,\"linecolor\":\"rgb(36,36,36)\",\"showbackground\":true,\"showgrid\":false,\"showline\":true,\"ticks\":\"outside\",\"zeroline\":false,\"zerolinecolor\":\"rgb(36,36,36)\"},\"zaxis\":{\"backgroundcolor\":\"white\",\"gridcolor\":\"rgb(232,232,232)\",\"gridwidth\":2,\"linecolor\":\"rgb(36,36,36)\",\"showbackground\":true,\"showgrid\":false,\"showline\":true,\"ticks\":\"outside\",\"zeroline\":false,\"zerolinecolor\":\"rgb(36,36,36)\"}},\"shapedefaults\":{\"fillcolor\":\"black\",\"line\":{\"width\":0},\"opacity\":0.3},\"ternary\":{\"aaxis\":{\"gridcolor\":\"rgb(232,232,232)\",\"linecolor\":\"rgb(36,36,36)\",\"showgrid\":false,\"showline\":true,\"ticks\":\"outside\"},\"baxis\":{\"gridcolor\":\"rgb(232,232,232)\",\"linecolor\":\"rgb(36,36,36)\",\"showgrid\":false,\"showline\":true,\"ticks\":\"outside\"},\"bgcolor\":\"white\",\"caxis\":{\"gridcolor\":\"rgb(232,232,232)\",\"linecolor\":\"rgb(36,36,36)\",\"showgrid\":false,\"showline\":true,\"ticks\":\"outside\"}},\"title\":{\"x\":0.05},\"xaxis\":{\"automargin\":true,\"gridcolor\":\"rgb(232,232,232)\",\"linecolor\":\"rgb(36,36,36)\",\"showgrid\":false,\"showline\":true,\"ticks\":\"outside\",\"title\":{\"standoff\":15},\"zeroline\":false,\"zerolinecolor\":\"rgb(36,36,36)\"},\"yaxis\":{\"automargin\":true,\"gridcolor\":\"rgb(232,232,232)\",\"linecolor\":\"rgb(36,36,36)\",\"showgrid\":false,\"showline\":true,\"ticks\":\"outside\",\"title\":{\"standoff\":15},\"zeroline\":false,\"zerolinecolor\":\"rgb(36,36,36)\"},\"margin\":{\"b\":0,\"l\":20,\"r\":20,\"t\":40}}}},                        {\"responsive\": true}                    ).then(function(){\n",
       "                            \n",
       "var gd = document.getElementById('8d41e564-06a8-46bc-966c-b756935f4217');\n",
       "var x = new MutationObserver(function (mutations, observer) {{\n",
       "        var display = window.getComputedStyle(gd).display;\n",
       "        if (!display || display === 'none') {{\n",
       "            console.log([gd, 'removed!']);\n",
       "            Plotly.purge(gd);\n",
       "            observer.disconnect();\n",
       "        }}\n",
       "}});\n",
       "\n",
       "// Listen for the removal of the full notebook cells\n",
       "var notebookContainer = gd.closest('#notebook-container');\n",
       "if (notebookContainer) {{\n",
       "    x.observe(notebookContainer, {childList: true});\n",
       "}}\n",
       "\n",
       "// Listen for the clearing of the current output cell\n",
       "var outputEl = gd.closest('.output');\n",
       "if (outputEl) {{\n",
       "    x.observe(outputEl, {childList: true});\n",
       "}}\n",
       "\n",
       "                        })                };                });            </script>        </div>"
      ]
     },
     "metadata": {},
     "output_type": "display_data"
    }
   ],
   "source": [
    "from sklearn.linear_model import LinearRegression\n",
    "from sklearn.preprocessing import PolynomialFeatures\n",
    "from sklearn.pipeline import make_pipeline\n",
    "from sklearn.model_selection import train_test_split\n",
    "\n",
    "# Generate data according to a polynomial model of degree 4\n",
    "model = lambda x: x**4 - 2*x**3 - .5*x**2 + 1\n",
    "X = np.linspace(-1.6, 2, 60)\n",
    "y = model(X).astype(np.float64)\n",
    "X_train, X_test, y_train_, y_test_ = train_test_split(X, y, test_size=.5, random_state=13)\n",
    "\n",
    "\n",
    "# The following functions recieve two matrices of the true values and the predictions\n",
    "# where rows represent different runs and columns the different responses in the run\n",
    "def variance(y_pred):\n",
    "    return np.mean(np.var(y_pred - np.mean(y_pred, axis=0), axis=0, ddof=1))\n",
    "\n",
    "def bias(y_pred, y_true):\n",
    "    mean_y = y_pred.mean(axis=0)\n",
    "    return np.mean((mean_y - y_true)**2)\n",
    "\n",
    "def error(y_pred, y):\n",
    "    return np.mean((y_pred - y)**2)\n",
    "\n",
    "\n",
    "\n",
    "ks, repetitions = list(range(11)), 100\n",
    "biases, variances, errors = np.zeros(len(ks)), np.zeros(len(ks)), np.zeros(len(ks))\n",
    "for i, k in enumerate(ks):\n",
    "    # Add noise to train and test samples\n",
    "    y_train = y_train_[np.newaxis, :] + np.random.normal(0, 3, size=(repetitions, len(y_train_)))\n",
    "    y_test  = y_test_ + np.random.normal(size=len(y_test_))\n",
    "    \n",
    "    # Fit model multiple times (each time over a slightly different training sample) and predict over test set\n",
    "    y_preds = np.array([make_pipeline(PolynomialFeatures(k), LinearRegression())\\\n",
    "                            .fit(X_train.reshape(-1,1), y_train[j,:])\\\n",
    "                            .predict(X_test.reshape(-1,1))\n",
    "                        for j in range(repetitions)])\n",
    "    \n",
    "    biases[i], variances[i], errors[i] = bias(y_preds, y_test_), variance(y_preds), error(y_preds, y_test_)\n",
    "\n",
    "\n",
    "fig = go.Figure([\n",
    "            go.Scatter(x=ks, y=biases, name=r\"$Bias^2$\"),\n",
    "            go.Scatter(x=ks, y=variances, name=r\"$Variance$\"),\n",
    "            go.Scatter(x=ks, y=biases+variances, name=r\"$Bias^2+Variance$\"),\n",
    "            go.Scatter(x=ks, y=errors, name=r\"$Generalization\\,\\,Error$\")], \n",
    "        layout=go.Layout(title=r\"$\\text{Generalization Error Decomposition - Bias-Variance of Polynomial Fitting}$\",\n",
    "                         xaxis=dict(title=r\"$\\text{Degree of Fitted Polymonial}$\"),\n",
    "                         width=800, height=500))\n",
    "# fig.write_image(f\"../figures/bias_variance_poly.png\")\n",
    "fig.show()\n"
   ]
  },
  {
   "cell_type": "markdown",
   "metadata": {},
   "source": [
    "## Committee Decisions\n",
    "\n",
    "Let $X_1,\\ldots,X_T\\overset{iid}{\\sim}Ber\\left(p\\right)$ taking values in $\\left\\{\\pm1\\right\\}$, with the probability of each being correct being $p>0.5$. We can bound the probability of the committee being correct by: $$\\mathbb{P}\\left(\\sum X_i > 0\\right) \\geq 1-\\exp\\left(-\\frac{T}{2p}\\left(p-\\frac{1}{2}\\right)^2\\right)$$\n",
    "\n",
    "Let us show this bounding below empirically by sampling increasing amount of such Bernoulli random variables, and to do so for different values of $p$."
   ]
  },
  {
   "cell_type": "code",
   "execution_count": 9,
   "metadata": {
    "pycharm": {
     "name": "#%%\n"
    }
   },
   "outputs": [
    {
     "data": {
      "application/vnd.plotly.v1+json": {
       "config": {
        "plotlyServerURL": "https://plot.ly"
       },
       "data": [
        {
         "line": {
          "color": "grey",
          "dash": "dash"
         },
         "mode": "markers+lines",
         "name": "Theoretical Bound",
         "type": "scatter",
         "x": [
          1,
          5,
          10,
          15,
          20,
          25,
          50,
          75,
          100,
          125,
          150,
          175,
          200,
          250,
          300,
          400,
          500,
          600
         ],
         "y": [
          9.99800042755794E-9,
          4.999000080552207E-8,
          9.997999894650889E-8,
          1.4996999475602735E-7,
          1.9995998801203285E-7,
          2.499499787145254E-7,
          4.998998950345168E-7,
          7.498497488489519E-7,
          9.997995401578308E-7,
          1.2497492690721757E-6,
          1.4996989354809642E-6,
          1.7496485393841965E-6,
          1.9995980807818725E-6,
          2.4994969762826003E-6,
          2.999395621761103E-6,
          3.999192163206544E-6,
          4.998987705007174E-6,
          5.9987822471629926E-6
         ]
        },
        {
         "error_y": {
          "array": [
           0.24750000000000008,
           0.24640000000000004,
           0.23560000000000006,
           0.24839999999999995,
           0.23309999999999997,
           0.24959999999999993,
           0.24189999999999995,
           0.2499,
           0.24750000000000003,
           0.24959999999999996,
           0.24750000000000003,
           0.24640000000000004,
           0.24000000000000005,
           0.24959999999999993,
           0.24509999999999998,
           0.24360000000000007,
           0.24750000000000003,
           0.24909999999999996
          ],
          "type": "data"
         },
         "marker": {
          "color": "black"
         },
         "mode": "markers+lines",
         "name": "Empirical Probability",
         "type": "scatter",
         "x": [
          1,
          5,
          10,
          15,
          20,
          25,
          50,
          75,
          100,
          125,
          150,
          175,
          200,
          250,
          300,
          400,
          500,
          600
         ],
         "y": [
          0.45,
          0.44,
          0.38,
          0.46,
          0.37,
          0.48,
          0.41,
          0.51,
          0.45,
          0.52,
          0.45,
          0.44,
          0.4,
          0.48,
          0.43,
          0.58,
          0.45,
          0.53
         ]
        }
       ],
       "frames": [
        {
         "data": [
          {
           "line": {
            "color": "grey",
            "dash": "dash"
           },
           "mode": "markers+lines",
           "name": "Theoretical Bound",
           "type": "scatter",
           "x": [
            1,
            5,
            10,
            15,
            20,
            25,
            50,
            75,
            100,
            125,
            150,
            175,
            200,
            250,
            300,
            400,
            500,
            600
           ],
           "y": [
            0.0022701465835369694,
            0.011299314123332849,
            0.022470953747008027,
            0.03351636150530257,
            0.044436963731715795,
            0.05523417064315683,
            0.10741752767967638,
            0.15671858026890795,
            0.2032965301065387,
            0.24730178551462934,
            0.2888764471363138,
            0.3281547668035546,
            0.3652635810597187,
            0.43344539791053494,
            0.49430329256252803,
            0.5971096784708676,
            0.6790158828512479,
            0.7442708400868999
           ]
          },
          {
           "error_y": {
            "array": [
             0.24959999999999993,
             0.2379,
             0.24640000000000004,
             0.2176,
             0.24,
             0.1875,
             0.22749999999999995,
             0.1824,
             0.1824,
             0.12040000000000001,
             0.16000000000000003,
             0.056400000000000006,
             0.08999999999999998,
             0.04750000000000001,
             0.047500000000000014,
             0.02910000000000001,
             0.009899999999999997,
             0
            ],
            "type": "data"
           },
           "marker": {
            "color": "black"
           },
           "mode": "markers+lines",
           "name": "Empirical Probability",
           "type": "scatter",
           "x": [
            1,
            5,
            10,
            15,
            20,
            25,
            50,
            75,
            100,
            125,
            150,
            175,
            200,
            250,
            300,
            400,
            500,
            600
           ],
           "y": [
            0.52,
            0.61,
            0.56,
            0.68,
            0.6,
            0.75,
            0.65,
            0.76,
            0.76,
            0.86,
            0.8,
            0.94,
            0.9,
            0.95,
            0.95,
            0.97,
            0.99,
            1
           ]
          }
         ],
         "layout": {
          "title": {
           "text": "$\\text{Committee Correctness Probability As Function of }\\\n                               T\\text{: }p=0.55$"
          },
          "xaxis": {
           "title": {
            "text": "$T \\text{ - Committee Size}$"
           }
          },
          "yaxis": {
           "range": [
            1.0E-4,
            1.01
           ],
           "title": {
            "text": "$\\text{Probability of Being Correct}$"
           }
          }
         }
        },
        {
         "data": [
          {
           "line": {
            "color": "grey",
            "dash": "dash"
           },
           "mode": "markers+lines",
           "name": "Theoretical Bound",
           "type": "scatter",
           "x": [
            1,
            5,
            10,
            15,
            20,
            25,
            50,
            75,
            100,
            125,
            150,
            175,
            200,
            250,
            300,
            400,
            500,
            600
           ],
           "y": [
            0.00610477147702948,
            0.030153443241719313,
            0.059397656344106986,
            0.08776005572656309,
            0.11526723110904136,
            0.14194497043988397,
            0.2637415662465885,
            0.36824974786183173,
            0.45792351872697334,
            0.5348685488374294,
            0.6008916189233608,
            0.6575430462775944,
            0.7061530884506539,
            0.7836527331394012,
            0.8407125001543843,
            0.9136539925729108,
            0.9531938601219488,
            0.974627492392933
           ]
          },
          {
           "error_y": {
            "array": [
             0.24509999999999998,
             0.23309999999999995,
             0.2304,
             0.20590000000000003,
             0.1971,
             0.1924,
             0.11309999999999999,
             0.056400000000000006,
             0.0564,
             0.009899999999999999,
             0.019599999999999992,
             0.019599999999999996,
             0.009899999999999997,
             0,
             0,
             0,
             0,
             0
            ],
            "type": "data"
           },
           "marker": {
            "color": "black"
           },
           "mode": "markers+lines",
           "name": "Empirical Probability",
           "type": "scatter",
           "x": [
            1,
            5,
            10,
            15,
            20,
            25,
            50,
            75,
            100,
            125,
            150,
            175,
            200,
            250,
            300,
            400,
            500,
            600
           ],
           "y": [
            0.57,
            0.63,
            0.64,
            0.71,
            0.73,
            0.74,
            0.87,
            0.94,
            0.94,
            0.99,
            0.98,
            0.98,
            0.99,
            1,
            1,
            1,
            1,
            1
           ]
          }
         ],
         "layout": {
          "title": {
           "text": "$\\text{Committee Correctness Probability As Function of }\\\n                               T\\text{: }p=0.585$"
          },
          "xaxis": {
           "title": {
            "text": "$T \\text{ - Committee Size}$"
           }
          },
          "yaxis": {
           "range": [
            1.0E-4,
            1.01
           ],
           "title": {
            "text": "$\\text{Probability of Being Correct}$"
           }
          }
         }
        },
        {
         "data": [
          {
           "line": {
            "color": "grey",
            "dash": "dash"
           },
           "mode": "markers+lines",
           "name": "Theoretical Bound",
           "type": "scatter",
           "x": [
            1,
            5,
            10,
            15,
            20,
            25,
            50,
            75,
            100,
            125,
            150,
            175,
            200,
            250,
            300,
            400,
            500,
            600
           ],
           "y": [
            0.011413109286260825,
            0.055777737761317114,
            0.10844431949286393,
            0.15817327843980367,
            0.20512846855545763,
            0.24946460439030782,
            0.4366966199370028,
            0.5772208747961416,
            0.6826893020096025,
            0.7618470897525895,
            0.8212578112918603,
            0.865847660685794,
            0.8993139209408467,
            0.9432831913406888,
            0.9680512299758237,
            0.9898623134836939,
            0.9967832036155031,
            0.9989792760939423
           ]
          },
          {
           "error_y": {
            "array": [
             0.19710000000000005,
             0.19710000000000005,
             0.2176,
             0.08999999999999998,
             0.20590000000000003,
             0.1056,
             0.04750000000000003,
             0.019599999999999992,
             0.009899999999999999,
             0,
             0,
             0,
             0,
             0,
             0,
             0,
             0,
             0
            ],
            "type": "data"
           },
           "marker": {
            "color": "black"
           },
           "mode": "markers+lines",
           "name": "Empirical Probability",
           "type": "scatter",
           "x": [
            1,
            5,
            10,
            15,
            20,
            25,
            50,
            75,
            100,
            125,
            150,
            175,
            200,
            250,
            300,
            400,
            500,
            600
           ],
           "y": [
            0.73,
            0.73,
            0.68,
            0.9,
            0.71,
            0.88,
            0.95,
            0.98,
            0.99,
            1,
            1,
            1,
            1,
            1,
            1,
            1,
            1,
            1
           ]
          }
         ],
         "layout": {
          "title": {
           "text": "$\\text{Committee Correctness Probability As Function of }\\\n                               T\\text{: }p=0.619$"
          },
          "xaxis": {
           "title": {
            "text": "$T \\text{ - Committee Size}$"
           }
          },
          "yaxis": {
           "range": [
            1.0E-4,
            1.01
           ],
           "title": {
            "text": "$\\text{Probability of Being Correct}$"
           }
          }
         }
        },
        {
         "data": [
          {
           "line": {
            "color": "grey",
            "dash": "dash"
           },
           "mode": "markers+lines",
           "name": "Theoretical Bound",
           "type": "scatter",
           "x": [
            1,
            5,
            10,
            15,
            20,
            25,
            50,
            75,
            100,
            125,
            150,
            175,
            200,
            250,
            300,
            400,
            500,
            600
           ],
           "y": [
            0.017936734461875825,
            0.08652359941269594,
            0.1655608655700631,
            0.23775954297175572,
            0.3037113309318178,
            0.3639567328098723,
            0.5954489622621079,
            0.7426880362120345,
            0.8363384578651946,
            0.8959041780272037,
            0.9337905532915807,
            0.9578879271967263,
            0.9732148996260573,
            0.9891640598478079,
            0.995616309166565,
            0.9992825583979578,
            0.9998825824010181,
            0.9999807832546769
           ]
          },
          {
           "error_y": {
            "array": [
             0.24360000000000007,
             0.1971,
             0.23040000000000002,
             0.1204,
             0.11309999999999999,
             0.038400000000000004,
             0.04750000000000003,
             0,
             0,
             0,
             0,
             0,
             0,
             0,
             0,
             0,
             0,
             0
            ],
            "type": "data"
           },
           "marker": {
            "color": "black"
           },
           "mode": "markers+lines",
           "name": "Empirical Probability",
           "type": "scatter",
           "x": [
            1,
            5,
            10,
            15,
            20,
            25,
            50,
            75,
            100,
            125,
            150,
            175,
            200,
            250,
            300,
            400,
            500,
            600
           ],
           "y": [
            0.58,
            0.73,
            0.64,
            0.86,
            0.87,
            0.96,
            0.95,
            1,
            1,
            1,
            1,
            1,
            1,
            1,
            1,
            1,
            1,
            1
           ]
          }
         ],
         "layout": {
          "title": {
           "text": "$\\text{Committee Correctness Probability As Function of }\\\n                               T\\text{: }p=0.654$"
          },
          "xaxis": {
           "title": {
            "text": "$T \\text{ - Committee Size}$"
           }
          },
          "yaxis": {
           "range": [
            1.0E-4,
            1.01
           ],
           "title": {
            "text": "$\\text{Probability of Being Correct}$"
           }
          }
         }
        },
        {
         "data": [
          {
           "line": {
            "color": "grey",
            "dash": "dash"
           },
           "mode": "markers+lines",
           "name": "Theoretical Bound",
           "type": "scatter",
           "x": [
            1,
            5,
            10,
            15,
            20,
            25,
            50,
            75,
            100,
            125,
            150,
            175,
            200,
            250,
            300,
            400,
            500,
            600
           ],
           "y": [
            0.025465165881073837,
            0.12100412593471499,
            0.22736625337620564,
            0.320858124554082,
            0.4030370935780784,
            0.47527206828511015,
            0.7246605976782139,
            0.8555217249000752,
            0.9241882135290816,
            0.9602194380855041,
            0.9791260280241505,
            0.9890468438584379,
            0.9942525730320879,
            0.998417506893767,
            0.9995642772939515,
            0.9999669670832485,
            0.9999974957155687,
            0.9999998101457235
           ]
          },
          {
           "error_y": {
            "array": [
             0.1824,
             0.13440000000000002,
             0.1411,
             0.09,
             0.06509999999999999,
             0.019599999999999996,
             0.009899999999999997,
             0,
             0,
             0,
             0,
             0,
             0,
             0,
             0,
             0,
             0,
             0
            ],
            "type": "data"
           },
           "marker": {
            "color": "black"
           },
           "mode": "markers+lines",
           "name": "Empirical Probability",
           "type": "scatter",
           "x": [
            1,
            5,
            10,
            15,
            20,
            25,
            50,
            75,
            100,
            125,
            150,
            175,
            200,
            250,
            300,
            400,
            500,
            600
           ],
           "y": [
            0.76,
            0.84,
            0.83,
            0.9,
            0.93,
            0.98,
            0.99,
            1,
            1,
            1,
            1,
            1,
            1,
            1,
            1,
            1,
            1,
            1
           ]
          }
         ],
         "layout": {
          "title": {
           "text": "$\\text{Committee Correctness Probability As Function of }\\\n                               T\\text{: }p=0.688$"
          },
          "xaxis": {
           "title": {
            "text": "$T \\text{ - Committee Size}$"
           }
          },
          "yaxis": {
           "range": [
            1.0E-4,
            1.01
           ],
           "title": {
            "text": "$\\text{Probability of Being Correct}$"
           }
          }
         }
        },
        {
         "data": [
          {
           "line": {
            "color": "grey",
            "dash": "dash"
           },
           "mode": "markers+lines",
           "name": "Theoretical Bound",
           "type": "scatter",
           "x": [
            1,
            5,
            10,
            15,
            20,
            25,
            50,
            75,
            100,
            125,
            150,
            175,
            200,
            250,
            300,
            400,
            500,
            600
           ],
           "y": [
            0.03382548328764601,
            0.1580663007470291,
            0.2911476460622079,
            0.4031933154249784,
            0.4975283403168511,
            0.5769521767931866,
            0.8210305392799767,
            0.9242873592218969,
            0.967969932129584,
            0.986449749510254,
            0.9942675960264059,
            0.9975749189772289,
            0.9989740747522166,
            0.9998163907116652,
            0.9999671395446835,
            0.9999989474773859,
            0.9999999662876292,
            0.9999999989201904
           ]
          },
          {
           "error_y": {
            "array": [
             0.17710000000000004,
             0.11309999999999999,
             0.07360000000000001,
             0.019599999999999996,
             0.02910000000000001,
             0.009899999999999997,
             0,
             0,
             0,
             0,
             0,
             0,
             0,
             0,
             0,
             0,
             0,
             0
            ],
            "type": "data"
           },
           "marker": {
            "color": "black"
           },
           "mode": "markers+lines",
           "name": "Empirical Probability",
           "type": "scatter",
           "x": [
            1,
            5,
            10,
            15,
            20,
            25,
            50,
            75,
            100,
            125,
            150,
            175,
            200,
            250,
            300,
            400,
            500,
            600
           ],
           "y": [
            0.77,
            0.87,
            0.92,
            0.98,
            0.97,
            0.99,
            1,
            1,
            1,
            1,
            1,
            1,
            1,
            1,
            1,
            1,
            1,
            1
           ]
          }
         ],
         "layout": {
          "title": {
           "text": "$\\text{Committee Correctness Probability As Function of }\\\n                               T\\text{: }p=0.723$"
          },
          "xaxis": {
           "title": {
            "text": "$T \\text{ - Committee Size}$"
           }
          },
          "yaxis": {
           "range": [
            1.0E-4,
            1.01
           ],
           "title": {
            "text": "$\\text{Probability of Being Correct}$"
           }
          }
         }
        },
        {
         "data": [
          {
           "line": {
            "color": "grey",
            "dash": "dash"
           },
           "mode": "markers+lines",
           "name": "Theoretical Bound",
           "type": "scatter",
           "x": [
            1,
            5,
            10,
            15,
            20,
            25,
            50,
            75,
            100,
            125,
            150,
            175,
            200,
            250,
            300,
            400,
            500,
            600
           ],
           "y": [
            0.04287451529899433,
            0.19676171506785656,
            0.3548082576192687,
            0.48175729139772017,
            0.5837276155637161,
            0.6656340838607855,
            0.8881994341243837,
            0.962617701366117,
            0.987500633469892,
            0.9958206378590007,
            0.9986025637488471,
            0.9995327449476371,
            0.999843765836346,
            0.9999825329320944,
            0.999998047171924,
            0.9999999755908862,
            0.9999999996949015,
            0.9999999999961865
           ]
          },
          {
           "error_y": {
            "array": [
             0.20999999999999996,
             0.1275,
             0.0384,
             0.009899999999999997,
             0.009899999999999999,
             0.009899999999999997,
             0,
             0,
             0,
             0,
             0,
             0,
             0,
             0,
             0,
             0,
             0,
             0
            ],
            "type": "data"
           },
           "marker": {
            "color": "black"
           },
           "mode": "markers+lines",
           "name": "Empirical Probability",
           "type": "scatter",
           "x": [
            1,
            5,
            10,
            15,
            20,
            25,
            50,
            75,
            100,
            125,
            150,
            175,
            200,
            250,
            300,
            400,
            500,
            600
           ],
           "y": [
            0.7,
            0.85,
            0.96,
            0.99,
            0.99,
            0.99,
            1,
            1,
            1,
            1,
            1,
            1,
            1,
            1,
            1,
            1,
            1,
            1
           ]
          }
         ],
         "layout": {
          "title": {
           "text": "$\\text{Committee Correctness Probability As Function of }\\\n                               T\\text{: }p=0.758$"
          },
          "xaxis": {
           "title": {
            "text": "$T \\text{ - Committee Size}$"
           }
          },
          "yaxis": {
           "range": [
            1.0E-4,
            1.01
           ],
           "title": {
            "text": "$\\text{Probability of Being Correct}$"
           }
          }
         }
        },
        {
         "data": [
          {
           "line": {
            "color": "grey",
            "dash": "dash"
           },
           "mode": "markers+lines",
           "name": "Theoretical Bound",
           "type": "scatter",
           "x": [
            1,
            5,
            10,
            15,
            20,
            25,
            50,
            75,
            100,
            125,
            150,
            175,
            200,
            250,
            300,
            400,
            500,
            600
           ],
           "y": [
            0.05249288843583799,
            0.2363182866827549,
            0.41679024074483706,
            0.554613371828679,
            0.6598663767095349,
            0.7402461718087351,
            0.9325279487399828,
            0.9824738763892933,
            0.9954475222987657,
            0.998817476489349,
            0.9996928349911822,
            0.9999202127130732,
            0.9999792749467797,
            0.9999986016381468,
            0.9999999056496574,
            0.9999999995704721,
            0.9999999999980446,
            0.9999999999999911
           ]
          },
          {
           "error_y": {
            "array": [
             0.15389999999999998,
             0.08999999999999998,
             0.047500000000000014,
             0,
             0.009899999999999999,
             0,
             0,
             0,
             0,
             0,
             0,
             0,
             0,
             0,
             0,
             0,
             0,
             0
            ],
            "type": "data"
           },
           "marker": {
            "color": "black"
           },
           "mode": "markers+lines",
           "name": "Empirical Probability",
           "type": "scatter",
           "x": [
            1,
            5,
            10,
            15,
            20,
            25,
            50,
            75,
            100,
            125,
            150,
            175,
            200,
            250,
            300,
            400,
            500,
            600
           ],
           "y": [
            0.81,
            0.9,
            0.95,
            1,
            0.99,
            1,
            1,
            1,
            1,
            1,
            1,
            1,
            1,
            1,
            1,
            1,
            1,
            1
           ]
          }
         ],
         "layout": {
          "title": {
           "text": "$\\text{Committee Correctness Probability As Function of }\\\n                               T\\text{: }p=0.792$"
          },
          "xaxis": {
           "title": {
            "text": "$T \\text{ - Committee Size}$"
           }
          },
          "yaxis": {
           "range": [
            1.0E-4,
            1.01
           ],
           "title": {
            "text": "$\\text{Probability of Being Correct}$"
           }
          }
         }
        },
        {
         "data": [
          {
           "line": {
            "color": "grey",
            "dash": "dash"
           },
           "mode": "markers+lines",
           "name": "Theoretical Bound",
           "type": "scatter",
           "x": [
            1,
            5,
            10,
            15,
            20,
            25,
            50,
            75,
            100,
            125,
            150,
            175,
            200,
            250,
            300,
            400,
            500,
            600
           ],
           "y": [
            0.0625804415689738,
            0.2761142086515723,
            0.4759893610838607,
            0.6206761439731954,
            0.7254128503026995,
            0.8012302638472605,
            0.9604905919897703,
            0.9921467253942557,
            0.9984390066786812,
            0.9996897217693853,
            0.9999383260779667,
            0.9999877410907899,
            0.9999975632998508,
            0.9999999037274196,
            0.9999999961963273,
            0.9999999999940625,
            0.9999999999999908,
            1
           ]
          },
          {
           "error_y": {
            "array": [
             0.16000000000000003,
             0.019599999999999996,
             0.019599999999999992,
             0,
             0,
             0,
             0,
             0,
             0,
             0,
             0,
             0,
             0,
             0,
             0,
             0,
             0,
             0
            ],
            "type": "data"
           },
           "marker": {
            "color": "black"
           },
           "mode": "markers+lines",
           "name": "Empirical Probability",
           "type": "scatter",
           "x": [
            1,
            5,
            10,
            15,
            20,
            25,
            50,
            75,
            100,
            125,
            150,
            175,
            200,
            250,
            300,
            400,
            500,
            600
           ],
           "y": [
            0.8,
            0.98,
            0.98,
            1,
            1,
            1,
            1,
            1,
            1,
            1,
            1,
            1,
            1,
            1,
            1,
            1,
            1,
            1
           ]
          }
         ],
         "layout": {
          "title": {
           "text": "$\\text{Committee Correctness Probability As Function of }\\\n                               T\\text{: }p=0.827$"
          },
          "xaxis": {
           "title": {
            "text": "$T \\text{ - Committee Size}$"
           }
          },
          "yaxis": {
           "range": [
            1.0E-4,
            1.01
           ],
           "title": {
            "text": "$\\text{Probability of Being Correct}$"
           }
          }
         }
        },
        {
         "data": [
          {
           "line": {
            "color": "grey",
            "dash": "dash"
           },
           "mode": "markers+lines",
           "name": "Theoretical Bound",
           "type": "scatter",
           "x": [
            1,
            5,
            10,
            15,
            20,
            25,
            50,
            75,
            100,
            125,
            150,
            175,
            200,
            250,
            300,
            400,
            500,
            600
           ],
           "y": [
            0.07305265494783109,
            0.315654644046796,
            0.5316714337852824,
            0.6795015206507354,
            0.780668354067267,
            0.8499014066923617,
            0.9774704122870682,
            0.9966183405764879,
            0.9994924176774853,
            0.9999238126074027,
            0.9999885643795434,
            0.9999982835294559,
            0.9999997423601859,
            0.9999999941954812,
            0.9999999998692266,
            0.9999999999999336,
            1,
            1
           ]
          },
          {
           "error_y": {
            "array": [
             0.09790000000000001,
             0.019599999999999992,
             0.009899999999999999,
             0,
             0,
             0,
             0,
             0,
             0,
             0,
             0,
             0,
             0,
             0,
             0,
             0,
             0,
             0
            ],
            "type": "data"
           },
           "marker": {
            "color": "black"
           },
           "mode": "markers+lines",
           "name": "Empirical Probability",
           "type": "scatter",
           "x": [
            1,
            5,
            10,
            15,
            20,
            25,
            50,
            75,
            100,
            125,
            150,
            175,
            200,
            250,
            300,
            400,
            500,
            600
           ],
           "y": [
            0.89,
            0.98,
            0.99,
            1,
            1,
            1,
            1,
            1,
            1,
            1,
            1,
            1,
            1,
            1,
            1,
            1,
            1,
            1
           ]
          }
         ],
         "layout": {
          "title": {
           "text": "$\\text{Committee Correctness Probability As Function of }\\\n                               T\\text{: }p=0.862$"
          },
          "xaxis": {
           "title": {
            "text": "$T \\text{ - Committee Size}$"
           }
          },
          "yaxis": {
           "range": [
            1.0E-4,
            1.01
           ],
           "title": {
            "text": "$\\text{Probability of Being Correct}$"
           }
          }
         }
        },
        {
         "data": [
          {
           "line": {
            "color": "grey",
            "dash": "dash"
           },
           "mode": "markers+lines",
           "name": "Theoretical Bound",
           "type": "scatter",
           "x": [
            1,
            5,
            10,
            15,
            20,
            25,
            50,
            75,
            100,
            125,
            150,
            175,
            200,
            250,
            300,
            400,
            500,
            600
           ],
           "y": [
            0.08383784202408862,
            0.35455127609150827,
            0.5833959448048996,
            0.7311034441992196,
            0.8264410611949977,
            0.8879766044253993,
            0.9874507588439365,
            0.9985941913938132,
            0.999842516546407,
            0.9999823581687817,
            0.9999980237021627,
            0.9999997786084056,
            0.9999999751989619,
            0.9999999996887657,
            0.9999999999960942,
            0.9999999999999993,
            1,
            1
           ]
          },
          {
           "error_y": {
            "array": [
             0.0651,
             0.009899999999999999,
             0,
             0,
             0,
             0,
             0,
             0,
             0,
             0,
             0,
             0,
             0,
             0,
             0,
             0,
             0,
             0
            ],
            "type": "data"
           },
           "marker": {
            "color": "black"
           },
           "mode": "markers+lines",
           "name": "Empirical Probability",
           "type": "scatter",
           "x": [
            1,
            5,
            10,
            15,
            20,
            25,
            50,
            75,
            100,
            125,
            150,
            175,
            200,
            250,
            300,
            400,
            500,
            600
           ],
           "y": [
            0.93,
            0.99,
            1,
            1,
            1,
            1,
            1,
            1,
            1,
            1,
            1,
            1,
            1,
            1,
            1,
            1,
            1,
            1
           ]
          }
         ],
         "layout": {
          "title": {
           "text": "$\\text{Committee Correctness Probability As Function of }\\\n                               T\\text{: }p=0.896$"
          },
          "xaxis": {
           "title": {
            "text": "$T \\text{ - Committee Size}$"
           }
          },
          "yaxis": {
           "range": [
            1.0E-4,
            1.01
           ],
           "title": {
            "text": "$\\text{Probability of Being Correct}$"
           }
          }
         }
        },
        {
         "data": [
          {
           "line": {
            "color": "grey",
            "dash": "dash"
           },
           "mode": "markers+lines",
           "name": "Theoretical Bound",
           "type": "scatter",
           "x": [
            1,
            5,
            10,
            15,
            20,
            25,
            50,
            75,
            100,
            125,
            150,
            175,
            200,
            250,
            300,
            400,
            500,
            600
           ],
           "y": [
            0.09487492104831441,
            0.3925046026828818,
            0.6309493422385166,
            0.7758034240330439,
            0.8638016120058165,
            0.9172601061715224,
            0.9931541099692522,
            0.9994335717856945,
            0.9999531337896869,
            0.9999961222947346,
            0.9999996791590781,
            0.9999999734536562,
            0.9999999978035583,
            0.9999999999849634,
            0.9999999999998971,
            1,
            1,
            1
           ]
          },
          {
           "error_y": {
            "array": [
             0.0736,
             0,
             0,
             0,
             0,
             0,
             0,
             0,
             0,
             0,
             0,
             0,
             0,
             0,
             0,
             0,
             0,
             0
            ],
            "type": "data"
           },
           "marker": {
            "color": "black"
           },
           "mode": "markers+lines",
           "name": "Empirical Probability",
           "type": "scatter",
           "x": [
            1,
            5,
            10,
            15,
            20,
            25,
            50,
            75,
            100,
            125,
            150,
            175,
            200,
            250,
            300,
            400,
            500,
            600
           ],
           "y": [
            0.92,
            1,
            1,
            1,
            1,
            1,
            1,
            1,
            1,
            1,
            1,
            1,
            1,
            1,
            1,
            1,
            1,
            1
           ]
          }
         ],
         "layout": {
          "title": {
           "text": "$\\text{Committee Correctness Probability As Function of }\\\n                               T\\text{: }p=0.931$"
          },
          "xaxis": {
           "title": {
            "text": "$T \\text{ - Committee Size}$"
           }
          },
          "yaxis": {
           "range": [
            1.0E-4,
            1.01
           ],
           "title": {
            "text": "$\\text{Probability of Being Correct}$"
           }
          }
         }
        },
        {
         "data": [
          {
           "line": {
            "color": "grey",
            "dash": "dash"
           },
           "mode": "markers+lines",
           "name": "Theoretical Bound",
           "type": "scatter",
           "x": [
            1,
            5,
            10,
            15,
            20,
            25,
            50,
            75,
            100,
            125,
            150,
            175,
            200,
            250,
            300,
            400,
            500,
            600
           ],
           "y": [
            0.10611163181337824,
            0.4292887545811661,
            0.6742886743524836,
            0.8141128836926865,
            0.8939121323449375,
            0.9394544609267509,
            0.9963342376983296,
            0.999778054445331,
            0.9999865621867476,
            0.9999991864003527,
            0.9999999507401708,
            0.9999999970175371,
            0.9999999998194252,
            0.9999999999993381,
            0.9999999999999976,
            1,
            1,
            1
           ]
          },
          {
           "error_y": {
            "array": [
             0.047500000000000014,
             0,
             0,
             0,
             0,
             0,
             0,
             0,
             0,
             0,
             0,
             0,
             0,
             0,
             0,
             0,
             0,
             0
            ],
            "type": "data"
           },
           "marker": {
            "color": "black"
           },
           "mode": "markers+lines",
           "name": "Empirical Probability",
           "type": "scatter",
           "x": [
            1,
            5,
            10,
            15,
            20,
            25,
            50,
            75,
            100,
            125,
            150,
            175,
            200,
            250,
            300,
            400,
            500,
            600
           ],
           "y": [
            0.95,
            1,
            1,
            1,
            1,
            1,
            1,
            1,
            1,
            1,
            1,
            1,
            1,
            1,
            1,
            1,
            1,
            1
           ]
          }
         ],
         "layout": {
          "title": {
           "text": "$\\text{Committee Correctness Probability As Function of }\\\n                               T\\text{: }p=0.965$"
          },
          "xaxis": {
           "title": {
            "text": "$T \\text{ - Committee Size}$"
           }
          },
          "yaxis": {
           "range": [
            1.0E-4,
            1.01
           ],
           "title": {
            "text": "$\\text{Probability of Being Correct}$"
           }
          }
         }
        },
        {
         "data": [
          {
           "line": {
            "color": "grey",
            "dash": "dash"
           },
           "mode": "markers+lines",
           "name": "Theoretical Bound",
           "type": "scatter",
           "x": [
            1,
            5,
            10,
            15,
            20,
            25,
            50,
            75,
            100,
            125,
            150,
            175,
            200,
            250,
            300,
            400,
            500,
            600
           ],
           "y": [
            0.11750309741540454,
            0.4647385714810097,
            0.7134952031398099,
            0.8466450331550716,
            0.9179150013761012,
            0.9560630663765926,
            0.9980695458637723,
            0.9999151817647536,
            0.999996273346828,
            0.999999836262287,
            0.9999999928058669,
            0.9999999996839118,
            0.9999999999861121,
            0.9999999999999732,
            1,
            1,
            1,
            1
           ]
          },
          {
           "error_y": {
            "array": [
             0,
             0,
             0,
             0,
             0,
             0,
             0,
             0,
             0,
             0,
             0,
             0,
             0,
             0,
             0,
             0,
             0,
             0
            ],
            "type": "data"
           },
           "marker": {
            "color": "black"
           },
           "mode": "markers+lines",
           "name": "Empirical Probability",
           "type": "scatter",
           "x": [
            1,
            5,
            10,
            15,
            20,
            25,
            50,
            75,
            100,
            125,
            150,
            175,
            200,
            250,
            300,
            400,
            500,
            600
           ],
           "y": [
            1,
            1,
            1,
            1,
            1,
            1,
            1,
            1,
            1,
            1,
            1,
            1,
            1,
            1,
            1,
            1,
            1,
            1
           ]
          }
         ],
         "layout": {
          "title": {
           "text": "$\\text{Committee Correctness Probability As Function of }\\\n                               T\\text{: }p=1.0$"
          },
          "xaxis": {
           "title": {
            "text": "$T \\text{ - Committee Size}$"
           }
          },
          "yaxis": {
           "range": [
            1.0E-4,
            1.01
           ],
           "title": {
            "text": "$\\text{Probability of Being Correct}$"
           }
          }
         }
        }
       ],
       "layout": {
        "template": {
         "data": {
          "bar": [
           {
            "error_x": {
             "color": "rgb(36,36,36)"
            },
            "error_y": {
             "color": "rgb(36,36,36)"
            },
            "marker": {
             "line": {
              "color": "white",
              "width": 0.5
             },
             "pattern": {
              "fillmode": "overlay",
              "size": 10,
              "solidity": 0.2
             }
            },
            "type": "bar"
           }
          ],
          "barpolar": [
           {
            "marker": {
             "line": {
              "color": "white",
              "width": 0.5
             },
             "pattern": {
              "fillmode": "overlay",
              "size": 10,
              "solidity": 0.2
             }
            },
            "type": "barpolar"
           }
          ],
          "carpet": [
           {
            "aaxis": {
             "endlinecolor": "rgb(36,36,36)",
             "gridcolor": "white",
             "linecolor": "white",
             "minorgridcolor": "white",
             "startlinecolor": "rgb(36,36,36)"
            },
            "baxis": {
             "endlinecolor": "rgb(36,36,36)",
             "gridcolor": "white",
             "linecolor": "white",
             "minorgridcolor": "white",
             "startlinecolor": "rgb(36,36,36)"
            },
            "type": "carpet"
           }
          ],
          "choropleth": [
           {
            "colorbar": {
             "outlinewidth": 1,
             "tickcolor": "rgb(36,36,36)",
             "ticks": "outside"
            },
            "type": "choropleth"
           }
          ],
          "contour": [
           {
            "colorbar": {
             "outlinewidth": 1,
             "tickcolor": "rgb(36,36,36)",
             "ticks": "outside"
            },
            "colorscale": [
             [
              0,
              "#440154"
             ],
             [
              0.1111111111111111,
              "#482878"
             ],
             [
              0.2222222222222222,
              "#3e4989"
             ],
             [
              0.3333333333333333,
              "#31688e"
             ],
             [
              0.4444444444444444,
              "#26828e"
             ],
             [
              0.5555555555555556,
              "#1f9e89"
             ],
             [
              0.6666666666666666,
              "#35b779"
             ],
             [
              0.7777777777777778,
              "#6ece58"
             ],
             [
              0.8888888888888888,
              "#b5de2b"
             ],
             [
              1,
              "#fde725"
             ]
            ],
            "type": "contour"
           }
          ],
          "contourcarpet": [
           {
            "colorbar": {
             "outlinewidth": 1,
             "tickcolor": "rgb(36,36,36)",
             "ticks": "outside"
            },
            "type": "contourcarpet"
           }
          ],
          "heatmap": [
           {
            "colorbar": {
             "outlinewidth": 1,
             "tickcolor": "rgb(36,36,36)",
             "ticks": "outside"
            },
            "colorscale": [
             [
              0,
              "#440154"
             ],
             [
              0.1111111111111111,
              "#482878"
             ],
             [
              0.2222222222222222,
              "#3e4989"
             ],
             [
              0.3333333333333333,
              "#31688e"
             ],
             [
              0.4444444444444444,
              "#26828e"
             ],
             [
              0.5555555555555556,
              "#1f9e89"
             ],
             [
              0.6666666666666666,
              "#35b779"
             ],
             [
              0.7777777777777778,
              "#6ece58"
             ],
             [
              0.8888888888888888,
              "#b5de2b"
             ],
             [
              1,
              "#fde725"
             ]
            ],
            "type": "heatmap"
           }
          ],
          "heatmapgl": [
           {
            "colorbar": {
             "outlinewidth": 1,
             "tickcolor": "rgb(36,36,36)",
             "ticks": "outside"
            },
            "colorscale": [
             [
              0,
              "#440154"
             ],
             [
              0.1111111111111111,
              "#482878"
             ],
             [
              0.2222222222222222,
              "#3e4989"
             ],
             [
              0.3333333333333333,
              "#31688e"
             ],
             [
              0.4444444444444444,
              "#26828e"
             ],
             [
              0.5555555555555556,
              "#1f9e89"
             ],
             [
              0.6666666666666666,
              "#35b779"
             ],
             [
              0.7777777777777778,
              "#6ece58"
             ],
             [
              0.8888888888888888,
              "#b5de2b"
             ],
             [
              1,
              "#fde725"
             ]
            ],
            "type": "heatmapgl"
           }
          ],
          "histogram": [
           {
            "marker": {
             "line": {
              "color": "white",
              "width": 0.6
             }
            },
            "type": "histogram"
           }
          ],
          "histogram2d": [
           {
            "colorbar": {
             "outlinewidth": 1,
             "tickcolor": "rgb(36,36,36)",
             "ticks": "outside"
            },
            "colorscale": [
             [
              0,
              "#440154"
             ],
             [
              0.1111111111111111,
              "#482878"
             ],
             [
              0.2222222222222222,
              "#3e4989"
             ],
             [
              0.3333333333333333,
              "#31688e"
             ],
             [
              0.4444444444444444,
              "#26828e"
             ],
             [
              0.5555555555555556,
              "#1f9e89"
             ],
             [
              0.6666666666666666,
              "#35b779"
             ],
             [
              0.7777777777777778,
              "#6ece58"
             ],
             [
              0.8888888888888888,
              "#b5de2b"
             ],
             [
              1,
              "#fde725"
             ]
            ],
            "type": "histogram2d"
           }
          ],
          "histogram2dcontour": [
           {
            "colorbar": {
             "outlinewidth": 1,
             "tickcolor": "rgb(36,36,36)",
             "ticks": "outside"
            },
            "colorscale": [
             [
              0,
              "#440154"
             ],
             [
              0.1111111111111111,
              "#482878"
             ],
             [
              0.2222222222222222,
              "#3e4989"
             ],
             [
              0.3333333333333333,
              "#31688e"
             ],
             [
              0.4444444444444444,
              "#26828e"
             ],
             [
              0.5555555555555556,
              "#1f9e89"
             ],
             [
              0.6666666666666666,
              "#35b779"
             ],
             [
              0.7777777777777778,
              "#6ece58"
             ],
             [
              0.8888888888888888,
              "#b5de2b"
             ],
             [
              1,
              "#fde725"
             ]
            ],
            "type": "histogram2dcontour"
           }
          ],
          "mesh3d": [
           {
            "colorbar": {
             "outlinewidth": 1,
             "tickcolor": "rgb(36,36,36)",
             "ticks": "outside"
            },
            "type": "mesh3d"
           }
          ],
          "parcoords": [
           {
            "line": {
             "colorbar": {
              "outlinewidth": 1,
              "tickcolor": "rgb(36,36,36)",
              "ticks": "outside"
             }
            },
            "type": "parcoords"
           }
          ],
          "pie": [
           {
            "automargin": true,
            "type": "pie"
           }
          ],
          "scatter": [
           {
            "marker": {
             "colorbar": {
              "outlinewidth": 1,
              "tickcolor": "rgb(36,36,36)",
              "ticks": "outside"
             }
            },
            "type": "scatter"
           }
          ],
          "scatter3d": [
           {
            "line": {
             "colorbar": {
              "outlinewidth": 1,
              "tickcolor": "rgb(36,36,36)",
              "ticks": "outside"
             }
            },
            "marker": {
             "colorbar": {
              "outlinewidth": 1,
              "tickcolor": "rgb(36,36,36)",
              "ticks": "outside"
             }
            },
            "type": "scatter3d"
           }
          ],
          "scattercarpet": [
           {
            "marker": {
             "colorbar": {
              "outlinewidth": 1,
              "tickcolor": "rgb(36,36,36)",
              "ticks": "outside"
             }
            },
            "type": "scattercarpet"
           }
          ],
          "scattergeo": [
           {
            "marker": {
             "colorbar": {
              "outlinewidth": 1,
              "tickcolor": "rgb(36,36,36)",
              "ticks": "outside"
             }
            },
            "type": "scattergeo"
           }
          ],
          "scattergl": [
           {
            "marker": {
             "colorbar": {
              "outlinewidth": 1,
              "tickcolor": "rgb(36,36,36)",
              "ticks": "outside"
             }
            },
            "type": "scattergl"
           }
          ],
          "scattermapbox": [
           {
            "marker": {
             "colorbar": {
              "outlinewidth": 1,
              "tickcolor": "rgb(36,36,36)",
              "ticks": "outside"
             }
            },
            "type": "scattermapbox"
           }
          ],
          "scatterpolar": [
           {
            "marker": {
             "colorbar": {
              "outlinewidth": 1,
              "tickcolor": "rgb(36,36,36)",
              "ticks": "outside"
             }
            },
            "type": "scatterpolar"
           }
          ],
          "scatterpolargl": [
           {
            "marker": {
             "colorbar": {
              "outlinewidth": 1,
              "tickcolor": "rgb(36,36,36)",
              "ticks": "outside"
             }
            },
            "type": "scatterpolargl"
           }
          ],
          "scatterternary": [
           {
            "marker": {
             "colorbar": {
              "outlinewidth": 1,
              "tickcolor": "rgb(36,36,36)",
              "ticks": "outside"
             }
            },
            "type": "scatterternary"
           }
          ],
          "surface": [
           {
            "colorbar": {
             "outlinewidth": 1,
             "tickcolor": "rgb(36,36,36)",
             "ticks": "outside"
            },
            "colorscale": [
             [
              0,
              "#440154"
             ],
             [
              0.1111111111111111,
              "#482878"
             ],
             [
              0.2222222222222222,
              "#3e4989"
             ],
             [
              0.3333333333333333,
              "#31688e"
             ],
             [
              0.4444444444444444,
              "#26828e"
             ],
             [
              0.5555555555555556,
              "#1f9e89"
             ],
             [
              0.6666666666666666,
              "#35b779"
             ],
             [
              0.7777777777777778,
              "#6ece58"
             ],
             [
              0.8888888888888888,
              "#b5de2b"
             ],
             [
              1,
              "#fde725"
             ]
            ],
            "type": "surface"
           }
          ],
          "table": [
           {
            "cells": {
             "fill": {
              "color": "rgb(237,237,237)"
             },
             "line": {
              "color": "white"
             }
            },
            "header": {
             "fill": {
              "color": "rgb(217,217,217)"
             },
             "line": {
              "color": "white"
             }
            },
            "type": "table"
           }
          ]
         },
         "layout": {
          "annotationdefaults": {
           "arrowhead": 0,
           "arrowwidth": 1
          },
          "autotypenumbers": "strict",
          "coloraxis": {
           "colorbar": {
            "outlinewidth": 1,
            "tickcolor": "rgb(36,36,36)",
            "ticks": "outside"
           }
          },
          "colorscale": {
           "diverging": [
            [
             0,
             "rgb(103,0,31)"
            ],
            [
             0.1,
             "rgb(178,24,43)"
            ],
            [
             0.2,
             "rgb(214,96,77)"
            ],
            [
             0.3,
             "rgb(244,165,130)"
            ],
            [
             0.4,
             "rgb(253,219,199)"
            ],
            [
             0.5,
             "rgb(247,247,247)"
            ],
            [
             0.6,
             "rgb(209,229,240)"
            ],
            [
             0.7,
             "rgb(146,197,222)"
            ],
            [
             0.8,
             "rgb(67,147,195)"
            ],
            [
             0.9,
             "rgb(33,102,172)"
            ],
            [
             1,
             "rgb(5,48,97)"
            ]
           ],
           "sequential": [
            [
             0,
             "#440154"
            ],
            [
             0.1111111111111111,
             "#482878"
            ],
            [
             0.2222222222222222,
             "#3e4989"
            ],
            [
             0.3333333333333333,
             "#31688e"
            ],
            [
             0.4444444444444444,
             "#26828e"
            ],
            [
             0.5555555555555556,
             "#1f9e89"
            ],
            [
             0.6666666666666666,
             "#35b779"
            ],
            [
             0.7777777777777778,
             "#6ece58"
            ],
            [
             0.8888888888888888,
             "#b5de2b"
            ],
            [
             1,
             "#fde725"
            ]
           ],
           "sequentialminus": [
            [
             0,
             "#440154"
            ],
            [
             0.1111111111111111,
             "#482878"
            ],
            [
             0.2222222222222222,
             "#3e4989"
            ],
            [
             0.3333333333333333,
             "#31688e"
            ],
            [
             0.4444444444444444,
             "#26828e"
            ],
            [
             0.5555555555555556,
             "#1f9e89"
            ],
            [
             0.6666666666666666,
             "#35b779"
            ],
            [
             0.7777777777777778,
             "#6ece58"
            ],
            [
             0.8888888888888888,
             "#b5de2b"
            ],
            [
             1,
             "#fde725"
            ]
           ]
          },
          "colorway": [
           "#1F77B4",
           "#FF7F0E",
           "#2CA02C",
           "#D62728",
           "#9467BD",
           "#8C564B",
           "#E377C2",
           "#7F7F7F",
           "#BCBD22",
           "#17BECF"
          ],
          "font": {
           "color": "rgb(36,36,36)"
          },
          "geo": {
           "bgcolor": "white",
           "lakecolor": "white",
           "landcolor": "white",
           "showlakes": true,
           "showland": true,
           "subunitcolor": "white"
          },
          "hoverlabel": {
           "align": "left"
          },
          "hovermode": "closest",
          "mapbox": {
           "style": "light"
          },
          "margin": {
           "b": 0,
           "l": 20,
           "r": 20,
           "t": 40
          },
          "paper_bgcolor": "white",
          "plot_bgcolor": "white",
          "polar": {
           "angularaxis": {
            "gridcolor": "rgb(232,232,232)",
            "linecolor": "rgb(36,36,36)",
            "showgrid": false,
            "showline": true,
            "ticks": "outside"
           },
           "bgcolor": "white",
           "radialaxis": {
            "gridcolor": "rgb(232,232,232)",
            "linecolor": "rgb(36,36,36)",
            "showgrid": false,
            "showline": true,
            "ticks": "outside"
           }
          },
          "scene": {
           "xaxis": {
            "backgroundcolor": "white",
            "gridcolor": "rgb(232,232,232)",
            "gridwidth": 2,
            "linecolor": "rgb(36,36,36)",
            "showbackground": true,
            "showgrid": false,
            "showline": true,
            "ticks": "outside",
            "zeroline": false,
            "zerolinecolor": "rgb(36,36,36)"
           },
           "yaxis": {
            "backgroundcolor": "white",
            "gridcolor": "rgb(232,232,232)",
            "gridwidth": 2,
            "linecolor": "rgb(36,36,36)",
            "showbackground": true,
            "showgrid": false,
            "showline": true,
            "ticks": "outside",
            "zeroline": false,
            "zerolinecolor": "rgb(36,36,36)"
           },
           "zaxis": {
            "backgroundcolor": "white",
            "gridcolor": "rgb(232,232,232)",
            "gridwidth": 2,
            "linecolor": "rgb(36,36,36)",
            "showbackground": true,
            "showgrid": false,
            "showline": true,
            "ticks": "outside",
            "zeroline": false,
            "zerolinecolor": "rgb(36,36,36)"
           }
          },
          "shapedefaults": {
           "fillcolor": "black",
           "line": {
            "width": 0
           },
           "opacity": 0.3
          },
          "ternary": {
           "aaxis": {
            "gridcolor": "rgb(232,232,232)",
            "linecolor": "rgb(36,36,36)",
            "showgrid": false,
            "showline": true,
            "ticks": "outside"
           },
           "baxis": {
            "gridcolor": "rgb(232,232,232)",
            "linecolor": "rgb(36,36,36)",
            "showgrid": false,
            "showline": true,
            "ticks": "outside"
           },
           "bgcolor": "white",
           "caxis": {
            "gridcolor": "rgb(232,232,232)",
            "linecolor": "rgb(36,36,36)",
            "showgrid": false,
            "showline": true,
            "ticks": "outside"
           }
          },
          "title": {
           "x": 0.05
          },
          "xaxis": {
           "automargin": true,
           "gridcolor": "rgb(232,232,232)",
           "linecolor": "rgb(36,36,36)",
           "showgrid": false,
           "showline": true,
           "ticks": "outside",
           "title": {
            "standoff": 15
           },
           "zeroline": false,
           "zerolinecolor": "rgb(36,36,36)"
          },
          "yaxis": {
           "automargin": true,
           "gridcolor": "rgb(232,232,232)",
           "linecolor": "rgb(36,36,36)",
           "showgrid": false,
           "showline": true,
           "ticks": "outside",
           "title": {
            "standoff": 15
           },
           "zeroline": false,
           "zerolinecolor": "rgb(36,36,36)"
          }
         }
        },
        "title": {
         "text": "$\\text{Committee Correctness Probability As Function of }\\\n                               T\\text{: }p=0.5$"
        },
        "updatemenus": [
         {
          "buttons": [
           {
            "args": [
             null,
             {
              "frame": {
               "duration": 1000,
               "redraw": true
              },
              "fromcurrent": true,
              "mode": "immediate",
              "transition": {
               "duration": 0,
               "easing": "linear"
              }
             }
            ],
            "label": "Play",
            "method": "animate"
           },
           {
            "args": [
             [
              null
             ],
             {
              "frame": {
               "duration": 0,
               "redraw": false
              },
              "mode": "immediate",
              "transition": {
               "duration": 0
              }
             }
            ],
            "label": "Pause",
            "method": "animate"
           }
          ],
          "type": "buttons"
         }
        ],
        "xaxis": {
         "title": {
          "text": "$T \\text{ - Committee Size}$"
         }
        },
        "yaxis": {
         "range": [
          1.0E-4,
          1.01
         ],
         "title": {
          "text": "$\\text{Probability of Being Correct}$"
         }
        }
       }
      },
      "text/html": [
       "<div>                            <div id=\"a2dc6d0b-16eb-4eea-9652-06bc1552f547\" class=\"plotly-graph-div\" style=\"height:525px; width:100%;\"></div>            <script type=\"text/javascript\">                require([\"plotly\"], function(Plotly) {                    window.PLOTLYENV=window.PLOTLYENV || {};                                    if (document.getElementById(\"a2dc6d0b-16eb-4eea-9652-06bc1552f547\")) {                    Plotly.newPlot(                        \"a2dc6d0b-16eb-4eea-9652-06bc1552f547\",                        [{\"line\":{\"color\":\"grey\",\"dash\":\"dash\"},\"mode\":\"markers+lines\",\"name\":\"Theoretical Bound\",\"x\":[1,5,10,15,20,25,50,75,100,125,150,175,200,250,300,400,500,600],\"y\":[9.99800042755794e-09,4.999000080552207e-08,9.997999894650889e-08,1.4996999475602735e-07,1.9995998801203285e-07,2.499499787145254e-07,4.998998950345168e-07,7.498497488489519e-07,9.997995401578308e-07,1.2497492690721757e-06,1.4996989354809642e-06,1.7496485393841965e-06,1.9995980807818725e-06,2.4994969762826003e-06,2.999395621761103e-06,3.999192163206544e-06,4.998987705007174e-06,5.9987822471629926e-06],\"type\":\"scatter\"},{\"error_y\":{\"array\":[0.24750000000000008,0.24640000000000004,0.23560000000000006,0.24839999999999995,0.23309999999999997,0.24959999999999993,0.24189999999999995,0.2499,0.24750000000000003,0.24959999999999996,0.24750000000000003,0.24640000000000004,0.24000000000000005,0.24959999999999993,0.24509999999999998,0.24360000000000007,0.24750000000000003,0.24909999999999996],\"type\":\"data\"},\"marker\":{\"color\":\"black\"},\"mode\":\"markers+lines\",\"name\":\"Empirical Probability\",\"x\":[1,5,10,15,20,25,50,75,100,125,150,175,200,250,300,400,500,600],\"y\":[0.45,0.44,0.38,0.46,0.37,0.48,0.41,0.51,0.45,0.52,0.45,0.44,0.4,0.48,0.43,0.58,0.45,0.53],\"type\":\"scatter\"}],                        {\"title\":{\"text\":\"$\\\\text{Committee Correctness Probability As Function of }\\\\\\n                               T\\\\text{: }p=0.5$\"},\"updatemenus\":[{\"buttons\":[{\"args\":[null,{\"frame\":{\"duration\":1000,\"redraw\":true},\"mode\":\"immediate\",\"fromcurrent\":true,\"transition\":{\"duration\":0,\"easing\":\"linear\"}}],\"label\":\"Play\",\"method\":\"animate\"},{\"args\":[[null],{\"frame\":{\"duration\":0,\"redraw\":false},\"mode\":\"immediate\",\"transition\":{\"duration\":0}}],\"label\":\"Pause\",\"method\":\"animate\"}],\"type\":\"buttons\"}],\"xaxis\":{\"title\":{\"text\":\"$T \\\\text{ - Committee Size}$\"}},\"yaxis\":{\"range\":[0.0001,1.01],\"title\":{\"text\":\"$\\\\text{Probability of Being Correct}$\"}},\"template\":{\"data\":{\"barpolar\":[{\"marker\":{\"line\":{\"color\":\"white\",\"width\":0.5},\"pattern\":{\"fillmode\":\"overlay\",\"size\":10,\"solidity\":0.2}},\"type\":\"barpolar\"}],\"bar\":[{\"error_x\":{\"color\":\"rgb(36,36,36)\"},\"error_y\":{\"color\":\"rgb(36,36,36)\"},\"marker\":{\"line\":{\"color\":\"white\",\"width\":0.5},\"pattern\":{\"fillmode\":\"overlay\",\"size\":10,\"solidity\":0.2}},\"type\":\"bar\"}],\"carpet\":[{\"aaxis\":{\"endlinecolor\":\"rgb(36,36,36)\",\"gridcolor\":\"white\",\"linecolor\":\"white\",\"minorgridcolor\":\"white\",\"startlinecolor\":\"rgb(36,36,36)\"},\"baxis\":{\"endlinecolor\":\"rgb(36,36,36)\",\"gridcolor\":\"white\",\"linecolor\":\"white\",\"minorgridcolor\":\"white\",\"startlinecolor\":\"rgb(36,36,36)\"},\"type\":\"carpet\"}],\"choropleth\":[{\"colorbar\":{\"outlinewidth\":1,\"tickcolor\":\"rgb(36,36,36)\",\"ticks\":\"outside\"},\"type\":\"choropleth\"}],\"contourcarpet\":[{\"colorbar\":{\"outlinewidth\":1,\"tickcolor\":\"rgb(36,36,36)\",\"ticks\":\"outside\"},\"type\":\"contourcarpet\"}],\"contour\":[{\"colorbar\":{\"outlinewidth\":1,\"tickcolor\":\"rgb(36,36,36)\",\"ticks\":\"outside\"},\"colorscale\":[[0.0,\"#440154\"],[0.1111111111111111,\"#482878\"],[0.2222222222222222,\"#3e4989\"],[0.3333333333333333,\"#31688e\"],[0.4444444444444444,\"#26828e\"],[0.5555555555555556,\"#1f9e89\"],[0.6666666666666666,\"#35b779\"],[0.7777777777777778,\"#6ece58\"],[0.8888888888888888,\"#b5de2b\"],[1.0,\"#fde725\"]],\"type\":\"contour\"}],\"heatmapgl\":[{\"colorbar\":{\"outlinewidth\":1,\"tickcolor\":\"rgb(36,36,36)\",\"ticks\":\"outside\"},\"colorscale\":[[0.0,\"#440154\"],[0.1111111111111111,\"#482878\"],[0.2222222222222222,\"#3e4989\"],[0.3333333333333333,\"#31688e\"],[0.4444444444444444,\"#26828e\"],[0.5555555555555556,\"#1f9e89\"],[0.6666666666666666,\"#35b779\"],[0.7777777777777778,\"#6ece58\"],[0.8888888888888888,\"#b5de2b\"],[1.0,\"#fde725\"]],\"type\":\"heatmapgl\"}],\"heatmap\":[{\"colorbar\":{\"outlinewidth\":1,\"tickcolor\":\"rgb(36,36,36)\",\"ticks\":\"outside\"},\"colorscale\":[[0.0,\"#440154\"],[0.1111111111111111,\"#482878\"],[0.2222222222222222,\"#3e4989\"],[0.3333333333333333,\"#31688e\"],[0.4444444444444444,\"#26828e\"],[0.5555555555555556,\"#1f9e89\"],[0.6666666666666666,\"#35b779\"],[0.7777777777777778,\"#6ece58\"],[0.8888888888888888,\"#b5de2b\"],[1.0,\"#fde725\"]],\"type\":\"heatmap\"}],\"histogram2dcontour\":[{\"colorbar\":{\"outlinewidth\":1,\"tickcolor\":\"rgb(36,36,36)\",\"ticks\":\"outside\"},\"colorscale\":[[0.0,\"#440154\"],[0.1111111111111111,\"#482878\"],[0.2222222222222222,\"#3e4989\"],[0.3333333333333333,\"#31688e\"],[0.4444444444444444,\"#26828e\"],[0.5555555555555556,\"#1f9e89\"],[0.6666666666666666,\"#35b779\"],[0.7777777777777778,\"#6ece58\"],[0.8888888888888888,\"#b5de2b\"],[1.0,\"#fde725\"]],\"type\":\"histogram2dcontour\"}],\"histogram2d\":[{\"colorbar\":{\"outlinewidth\":1,\"tickcolor\":\"rgb(36,36,36)\",\"ticks\":\"outside\"},\"colorscale\":[[0.0,\"#440154\"],[0.1111111111111111,\"#482878\"],[0.2222222222222222,\"#3e4989\"],[0.3333333333333333,\"#31688e\"],[0.4444444444444444,\"#26828e\"],[0.5555555555555556,\"#1f9e89\"],[0.6666666666666666,\"#35b779\"],[0.7777777777777778,\"#6ece58\"],[0.8888888888888888,\"#b5de2b\"],[1.0,\"#fde725\"]],\"type\":\"histogram2d\"}],\"histogram\":[{\"marker\":{\"line\":{\"color\":\"white\",\"width\":0.6}},\"type\":\"histogram\"}],\"mesh3d\":[{\"colorbar\":{\"outlinewidth\":1,\"tickcolor\":\"rgb(36,36,36)\",\"ticks\":\"outside\"},\"type\":\"mesh3d\"}],\"parcoords\":[{\"line\":{\"colorbar\":{\"outlinewidth\":1,\"tickcolor\":\"rgb(36,36,36)\",\"ticks\":\"outside\"}},\"type\":\"parcoords\"}],\"pie\":[{\"automargin\":true,\"type\":\"pie\"}],\"scatter3d\":[{\"line\":{\"colorbar\":{\"outlinewidth\":1,\"tickcolor\":\"rgb(36,36,36)\",\"ticks\":\"outside\"}},\"marker\":{\"colorbar\":{\"outlinewidth\":1,\"tickcolor\":\"rgb(36,36,36)\",\"ticks\":\"outside\"}},\"type\":\"scatter3d\"}],\"scattercarpet\":[{\"marker\":{\"colorbar\":{\"outlinewidth\":1,\"tickcolor\":\"rgb(36,36,36)\",\"ticks\":\"outside\"}},\"type\":\"scattercarpet\"}],\"scattergeo\":[{\"marker\":{\"colorbar\":{\"outlinewidth\":1,\"tickcolor\":\"rgb(36,36,36)\",\"ticks\":\"outside\"}},\"type\":\"scattergeo\"}],\"scattergl\":[{\"marker\":{\"colorbar\":{\"outlinewidth\":1,\"tickcolor\":\"rgb(36,36,36)\",\"ticks\":\"outside\"}},\"type\":\"scattergl\"}],\"scattermapbox\":[{\"marker\":{\"colorbar\":{\"outlinewidth\":1,\"tickcolor\":\"rgb(36,36,36)\",\"ticks\":\"outside\"}},\"type\":\"scattermapbox\"}],\"scatterpolargl\":[{\"marker\":{\"colorbar\":{\"outlinewidth\":1,\"tickcolor\":\"rgb(36,36,36)\",\"ticks\":\"outside\"}},\"type\":\"scatterpolargl\"}],\"scatterpolar\":[{\"marker\":{\"colorbar\":{\"outlinewidth\":1,\"tickcolor\":\"rgb(36,36,36)\",\"ticks\":\"outside\"}},\"type\":\"scatterpolar\"}],\"scatter\":[{\"marker\":{\"colorbar\":{\"outlinewidth\":1,\"tickcolor\":\"rgb(36,36,36)\",\"ticks\":\"outside\"}},\"type\":\"scatter\"}],\"scatterternary\":[{\"marker\":{\"colorbar\":{\"outlinewidth\":1,\"tickcolor\":\"rgb(36,36,36)\",\"ticks\":\"outside\"}},\"type\":\"scatterternary\"}],\"surface\":[{\"colorbar\":{\"outlinewidth\":1,\"tickcolor\":\"rgb(36,36,36)\",\"ticks\":\"outside\"},\"colorscale\":[[0.0,\"#440154\"],[0.1111111111111111,\"#482878\"],[0.2222222222222222,\"#3e4989\"],[0.3333333333333333,\"#31688e\"],[0.4444444444444444,\"#26828e\"],[0.5555555555555556,\"#1f9e89\"],[0.6666666666666666,\"#35b779\"],[0.7777777777777778,\"#6ece58\"],[0.8888888888888888,\"#b5de2b\"],[1.0,\"#fde725\"]],\"type\":\"surface\"}],\"table\":[{\"cells\":{\"fill\":{\"color\":\"rgb(237,237,237)\"},\"line\":{\"color\":\"white\"}},\"header\":{\"fill\":{\"color\":\"rgb(217,217,217)\"},\"line\":{\"color\":\"white\"}},\"type\":\"table\"}]},\"layout\":{\"annotationdefaults\":{\"arrowhead\":0,\"arrowwidth\":1},\"autotypenumbers\":\"strict\",\"coloraxis\":{\"colorbar\":{\"outlinewidth\":1,\"tickcolor\":\"rgb(36,36,36)\",\"ticks\":\"outside\"}},\"colorscale\":{\"diverging\":[[0.0,\"rgb(103,0,31)\"],[0.1,\"rgb(178,24,43)\"],[0.2,\"rgb(214,96,77)\"],[0.3,\"rgb(244,165,130)\"],[0.4,\"rgb(253,219,199)\"],[0.5,\"rgb(247,247,247)\"],[0.6,\"rgb(209,229,240)\"],[0.7,\"rgb(146,197,222)\"],[0.8,\"rgb(67,147,195)\"],[0.9,\"rgb(33,102,172)\"],[1.0,\"rgb(5,48,97)\"]],\"sequential\":[[0.0,\"#440154\"],[0.1111111111111111,\"#482878\"],[0.2222222222222222,\"#3e4989\"],[0.3333333333333333,\"#31688e\"],[0.4444444444444444,\"#26828e\"],[0.5555555555555556,\"#1f9e89\"],[0.6666666666666666,\"#35b779\"],[0.7777777777777778,\"#6ece58\"],[0.8888888888888888,\"#b5de2b\"],[1.0,\"#fde725\"]],\"sequentialminus\":[[0.0,\"#440154\"],[0.1111111111111111,\"#482878\"],[0.2222222222222222,\"#3e4989\"],[0.3333333333333333,\"#31688e\"],[0.4444444444444444,\"#26828e\"],[0.5555555555555556,\"#1f9e89\"],[0.6666666666666666,\"#35b779\"],[0.7777777777777778,\"#6ece58\"],[0.8888888888888888,\"#b5de2b\"],[1.0,\"#fde725\"]]},\"colorway\":[\"#1F77B4\",\"#FF7F0E\",\"#2CA02C\",\"#D62728\",\"#9467BD\",\"#8C564B\",\"#E377C2\",\"#7F7F7F\",\"#BCBD22\",\"#17BECF\"],\"font\":{\"color\":\"rgb(36,36,36)\"},\"geo\":{\"bgcolor\":\"white\",\"lakecolor\":\"white\",\"landcolor\":\"white\",\"showlakes\":true,\"showland\":true,\"subunitcolor\":\"white\"},\"hoverlabel\":{\"align\":\"left\"},\"hovermode\":\"closest\",\"mapbox\":{\"style\":\"light\"},\"paper_bgcolor\":\"white\",\"plot_bgcolor\":\"white\",\"polar\":{\"angularaxis\":{\"gridcolor\":\"rgb(232,232,232)\",\"linecolor\":\"rgb(36,36,36)\",\"showgrid\":false,\"showline\":true,\"ticks\":\"outside\"},\"bgcolor\":\"white\",\"radialaxis\":{\"gridcolor\":\"rgb(232,232,232)\",\"linecolor\":\"rgb(36,36,36)\",\"showgrid\":false,\"showline\":true,\"ticks\":\"outside\"}},\"scene\":{\"xaxis\":{\"backgroundcolor\":\"white\",\"gridcolor\":\"rgb(232,232,232)\",\"gridwidth\":2,\"linecolor\":\"rgb(36,36,36)\",\"showbackground\":true,\"showgrid\":false,\"showline\":true,\"ticks\":\"outside\",\"zeroline\":false,\"zerolinecolor\":\"rgb(36,36,36)\"},\"yaxis\":{\"backgroundcolor\":\"white\",\"gridcolor\":\"rgb(232,232,232)\",\"gridwidth\":2,\"linecolor\":\"rgb(36,36,36)\",\"showbackground\":true,\"showgrid\":false,\"showline\":true,\"ticks\":\"outside\",\"zeroline\":false,\"zerolinecolor\":\"rgb(36,36,36)\"},\"zaxis\":{\"backgroundcolor\":\"white\",\"gridcolor\":\"rgb(232,232,232)\",\"gridwidth\":2,\"linecolor\":\"rgb(36,36,36)\",\"showbackground\":true,\"showgrid\":false,\"showline\":true,\"ticks\":\"outside\",\"zeroline\":false,\"zerolinecolor\":\"rgb(36,36,36)\"}},\"shapedefaults\":{\"fillcolor\":\"black\",\"line\":{\"width\":0},\"opacity\":0.3},\"ternary\":{\"aaxis\":{\"gridcolor\":\"rgb(232,232,232)\",\"linecolor\":\"rgb(36,36,36)\",\"showgrid\":false,\"showline\":true,\"ticks\":\"outside\"},\"baxis\":{\"gridcolor\":\"rgb(232,232,232)\",\"linecolor\":\"rgb(36,36,36)\",\"showgrid\":false,\"showline\":true,\"ticks\":\"outside\"},\"bgcolor\":\"white\",\"caxis\":{\"gridcolor\":\"rgb(232,232,232)\",\"linecolor\":\"rgb(36,36,36)\",\"showgrid\":false,\"showline\":true,\"ticks\":\"outside\"}},\"title\":{\"x\":0.05},\"xaxis\":{\"automargin\":true,\"gridcolor\":\"rgb(232,232,232)\",\"linecolor\":\"rgb(36,36,36)\",\"showgrid\":false,\"showline\":true,\"ticks\":\"outside\",\"title\":{\"standoff\":15},\"zeroline\":false,\"zerolinecolor\":\"rgb(36,36,36)\"},\"yaxis\":{\"automargin\":true,\"gridcolor\":\"rgb(232,232,232)\",\"linecolor\":\"rgb(36,36,36)\",\"showgrid\":false,\"showline\":true,\"ticks\":\"outside\",\"title\":{\"standoff\":15},\"zeroline\":false,\"zerolinecolor\":\"rgb(36,36,36)\"},\"margin\":{\"b\":0,\"l\":20,\"r\":20,\"t\":40}}}},                        {\"responsive\": true}                    ).then(function(){\n",
       "                            Plotly.addFrames('a2dc6d0b-16eb-4eea-9652-06bc1552f547', [{\"data\":[{\"line\":{\"color\":\"grey\",\"dash\":\"dash\"},\"mode\":\"markers+lines\",\"name\":\"Theoretical Bound\",\"x\":[1,5,10,15,20,25,50,75,100,125,150,175,200,250,300,400,500,600],\"y\":[0.0022701465835369694,0.011299314123332849,0.022470953747008027,0.03351636150530257,0.044436963731715795,0.05523417064315683,0.10741752767967638,0.15671858026890795,0.2032965301065387,0.24730178551462934,0.2888764471363138,0.3281547668035546,0.3652635810597187,0.43344539791053494,0.49430329256252803,0.5971096784708676,0.6790158828512479,0.7442708400868999],\"type\":\"scatter\"},{\"error_y\":{\"array\":[0.24959999999999993,0.2379,0.24640000000000004,0.2176,0.24,0.1875,0.22749999999999995,0.1824,0.1824,0.12040000000000001,0.16000000000000003,0.056400000000000006,0.08999999999999998,0.04750000000000001,0.047500000000000014,0.02910000000000001,0.009899999999999997,0.0],\"type\":\"data\"},\"marker\":{\"color\":\"black\"},\"mode\":\"markers+lines\",\"name\":\"Empirical Probability\",\"x\":[1,5,10,15,20,25,50,75,100,125,150,175,200,250,300,400,500,600],\"y\":[0.52,0.61,0.56,0.68,0.6,0.75,0.65,0.76,0.76,0.86,0.8,0.94,0.9,0.95,0.95,0.97,0.99,1.0],\"type\":\"scatter\"}],\"layout\":{\"title\":{\"text\":\"$\\\\text{Committee Correctness Probability As Function of }\\\\\\n                               T\\\\text{: }p=0.55$\"},\"xaxis\":{\"title\":{\"text\":\"$T \\\\text{ - Committee Size}$\"}},\"yaxis\":{\"range\":[0.0001,1.01],\"title\":{\"text\":\"$\\\\text{Probability of Being Correct}$\"}}}},{\"data\":[{\"line\":{\"color\":\"grey\",\"dash\":\"dash\"},\"mode\":\"markers+lines\",\"name\":\"Theoretical Bound\",\"x\":[1,5,10,15,20,25,50,75,100,125,150,175,200,250,300,400,500,600],\"y\":[0.00610477147702948,0.030153443241719313,0.059397656344106986,0.08776005572656309,0.11526723110904136,0.14194497043988397,0.2637415662465885,0.36824974786183173,0.45792351872697334,0.5348685488374294,0.6008916189233608,0.6575430462775944,0.7061530884506539,0.7836527331394012,0.8407125001543843,0.9136539925729108,0.9531938601219488,0.974627492392933],\"type\":\"scatter\"},{\"error_y\":{\"array\":[0.24509999999999998,0.23309999999999995,0.2304,0.20590000000000003,0.1971,0.1924,0.11309999999999999,0.056400000000000006,0.0564,0.009899999999999999,0.019599999999999992,0.019599999999999996,0.009899999999999997,0.0,0.0,0.0,0.0,0.0],\"type\":\"data\"},\"marker\":{\"color\":\"black\"},\"mode\":\"markers+lines\",\"name\":\"Empirical Probability\",\"x\":[1,5,10,15,20,25,50,75,100,125,150,175,200,250,300,400,500,600],\"y\":[0.57,0.63,0.64,0.71,0.73,0.74,0.87,0.94,0.94,0.99,0.98,0.98,0.99,1.0,1.0,1.0,1.0,1.0],\"type\":\"scatter\"}],\"layout\":{\"title\":{\"text\":\"$\\\\text{Committee Correctness Probability As Function of }\\\\\\n                               T\\\\text{: }p=0.585$\"},\"xaxis\":{\"title\":{\"text\":\"$T \\\\text{ - Committee Size}$\"}},\"yaxis\":{\"range\":[0.0001,1.01],\"title\":{\"text\":\"$\\\\text{Probability of Being Correct}$\"}}}},{\"data\":[{\"line\":{\"color\":\"grey\",\"dash\":\"dash\"},\"mode\":\"markers+lines\",\"name\":\"Theoretical Bound\",\"x\":[1,5,10,15,20,25,50,75,100,125,150,175,200,250,300,400,500,600],\"y\":[0.011413109286260825,0.055777737761317114,0.10844431949286393,0.15817327843980367,0.20512846855545763,0.24946460439030782,0.4366966199370028,0.5772208747961416,0.6826893020096025,0.7618470897525895,0.8212578112918603,0.865847660685794,0.8993139209408467,0.9432831913406888,0.9680512299758237,0.9898623134836939,0.9967832036155031,0.9989792760939423],\"type\":\"scatter\"},{\"error_y\":{\"array\":[0.19710000000000005,0.19710000000000005,0.2176,0.08999999999999998,0.20590000000000003,0.1056,0.04750000000000003,0.019599999999999992,0.009899999999999999,0.0,0.0,0.0,0.0,0.0,0.0,0.0,0.0,0.0],\"type\":\"data\"},\"marker\":{\"color\":\"black\"},\"mode\":\"markers+lines\",\"name\":\"Empirical Probability\",\"x\":[1,5,10,15,20,25,50,75,100,125,150,175,200,250,300,400,500,600],\"y\":[0.73,0.73,0.68,0.9,0.71,0.88,0.95,0.98,0.99,1.0,1.0,1.0,1.0,1.0,1.0,1.0,1.0,1.0],\"type\":\"scatter\"}],\"layout\":{\"title\":{\"text\":\"$\\\\text{Committee Correctness Probability As Function of }\\\\\\n                               T\\\\text{: }p=0.619$\"},\"xaxis\":{\"title\":{\"text\":\"$T \\\\text{ - Committee Size}$\"}},\"yaxis\":{\"range\":[0.0001,1.01],\"title\":{\"text\":\"$\\\\text{Probability of Being Correct}$\"}}}},{\"data\":[{\"line\":{\"color\":\"grey\",\"dash\":\"dash\"},\"mode\":\"markers+lines\",\"name\":\"Theoretical Bound\",\"x\":[1,5,10,15,20,25,50,75,100,125,150,175,200,250,300,400,500,600],\"y\":[0.017936734461875825,0.08652359941269594,0.1655608655700631,0.23775954297175572,0.3037113309318178,0.3639567328098723,0.5954489622621079,0.7426880362120345,0.8363384578651946,0.8959041780272037,0.9337905532915807,0.9578879271967263,0.9732148996260573,0.9891640598478079,0.995616309166565,0.9992825583979578,0.9998825824010181,0.9999807832546769],\"type\":\"scatter\"},{\"error_y\":{\"array\":[0.24360000000000007,0.1971,0.23040000000000002,0.1204,0.11309999999999999,0.038400000000000004,0.04750000000000003,0.0,0.0,0.0,0.0,0.0,0.0,0.0,0.0,0.0,0.0,0.0],\"type\":\"data\"},\"marker\":{\"color\":\"black\"},\"mode\":\"markers+lines\",\"name\":\"Empirical Probability\",\"x\":[1,5,10,15,20,25,50,75,100,125,150,175,200,250,300,400,500,600],\"y\":[0.58,0.73,0.64,0.86,0.87,0.96,0.95,1.0,1.0,1.0,1.0,1.0,1.0,1.0,1.0,1.0,1.0,1.0],\"type\":\"scatter\"}],\"layout\":{\"title\":{\"text\":\"$\\\\text{Committee Correctness Probability As Function of }\\\\\\n                               T\\\\text{: }p=0.654$\"},\"xaxis\":{\"title\":{\"text\":\"$T \\\\text{ - Committee Size}$\"}},\"yaxis\":{\"range\":[0.0001,1.01],\"title\":{\"text\":\"$\\\\text{Probability of Being Correct}$\"}}}},{\"data\":[{\"line\":{\"color\":\"grey\",\"dash\":\"dash\"},\"mode\":\"markers+lines\",\"name\":\"Theoretical Bound\",\"x\":[1,5,10,15,20,25,50,75,100,125,150,175,200,250,300,400,500,600],\"y\":[0.025465165881073837,0.12100412593471499,0.22736625337620564,0.320858124554082,0.4030370935780784,0.47527206828511015,0.7246605976782139,0.8555217249000752,0.9241882135290816,0.9602194380855041,0.9791260280241505,0.9890468438584379,0.9942525730320879,0.998417506893767,0.9995642772939515,0.9999669670832485,0.9999974957155687,0.9999998101457235],\"type\":\"scatter\"},{\"error_y\":{\"array\":[0.1824,0.13440000000000002,0.1411,0.09,0.06509999999999999,0.019599999999999996,0.009899999999999997,0.0,0.0,0.0,0.0,0.0,0.0,0.0,0.0,0.0,0.0,0.0],\"type\":\"data\"},\"marker\":{\"color\":\"black\"},\"mode\":\"markers+lines\",\"name\":\"Empirical Probability\",\"x\":[1,5,10,15,20,25,50,75,100,125,150,175,200,250,300,400,500,600],\"y\":[0.76,0.84,0.83,0.9,0.93,0.98,0.99,1.0,1.0,1.0,1.0,1.0,1.0,1.0,1.0,1.0,1.0,1.0],\"type\":\"scatter\"}],\"layout\":{\"title\":{\"text\":\"$\\\\text{Committee Correctness Probability As Function of }\\\\\\n                               T\\\\text{: }p=0.688$\"},\"xaxis\":{\"title\":{\"text\":\"$T \\\\text{ - Committee Size}$\"}},\"yaxis\":{\"range\":[0.0001,1.01],\"title\":{\"text\":\"$\\\\text{Probability of Being Correct}$\"}}}},{\"data\":[{\"line\":{\"color\":\"grey\",\"dash\":\"dash\"},\"mode\":\"markers+lines\",\"name\":\"Theoretical Bound\",\"x\":[1,5,10,15,20,25,50,75,100,125,150,175,200,250,300,400,500,600],\"y\":[0.03382548328764601,0.1580663007470291,0.2911476460622079,0.4031933154249784,0.4975283403168511,0.5769521767931866,0.8210305392799767,0.9242873592218969,0.967969932129584,0.986449749510254,0.9942675960264059,0.9975749189772289,0.9989740747522166,0.9998163907116652,0.9999671395446835,0.9999989474773859,0.9999999662876292,0.9999999989201904],\"type\":\"scatter\"},{\"error_y\":{\"array\":[0.17710000000000004,0.11309999999999999,0.07360000000000001,0.019599999999999996,0.02910000000000001,0.009899999999999997,0.0,0.0,0.0,0.0,0.0,0.0,0.0,0.0,0.0,0.0,0.0,0.0],\"type\":\"data\"},\"marker\":{\"color\":\"black\"},\"mode\":\"markers+lines\",\"name\":\"Empirical Probability\",\"x\":[1,5,10,15,20,25,50,75,100,125,150,175,200,250,300,400,500,600],\"y\":[0.77,0.87,0.92,0.98,0.97,0.99,1.0,1.0,1.0,1.0,1.0,1.0,1.0,1.0,1.0,1.0,1.0,1.0],\"type\":\"scatter\"}],\"layout\":{\"title\":{\"text\":\"$\\\\text{Committee Correctness Probability As Function of }\\\\\\n                               T\\\\text{: }p=0.723$\"},\"xaxis\":{\"title\":{\"text\":\"$T \\\\text{ - Committee Size}$\"}},\"yaxis\":{\"range\":[0.0001,1.01],\"title\":{\"text\":\"$\\\\text{Probability of Being Correct}$\"}}}},{\"data\":[{\"line\":{\"color\":\"grey\",\"dash\":\"dash\"},\"mode\":\"markers+lines\",\"name\":\"Theoretical Bound\",\"x\":[1,5,10,15,20,25,50,75,100,125,150,175,200,250,300,400,500,600],\"y\":[0.04287451529899433,0.19676171506785656,0.3548082576192687,0.48175729139772017,0.5837276155637161,0.6656340838607855,0.8881994341243837,0.962617701366117,0.987500633469892,0.9958206378590007,0.9986025637488471,0.9995327449476371,0.999843765836346,0.9999825329320944,0.999998047171924,0.9999999755908862,0.9999999996949015,0.9999999999961865],\"type\":\"scatter\"},{\"error_y\":{\"array\":[0.20999999999999996,0.1275,0.0384,0.009899999999999997,0.009899999999999999,0.009899999999999997,0.0,0.0,0.0,0.0,0.0,0.0,0.0,0.0,0.0,0.0,0.0,0.0],\"type\":\"data\"},\"marker\":{\"color\":\"black\"},\"mode\":\"markers+lines\",\"name\":\"Empirical Probability\",\"x\":[1,5,10,15,20,25,50,75,100,125,150,175,200,250,300,400,500,600],\"y\":[0.7,0.85,0.96,0.99,0.99,0.99,1.0,1.0,1.0,1.0,1.0,1.0,1.0,1.0,1.0,1.0,1.0,1.0],\"type\":\"scatter\"}],\"layout\":{\"title\":{\"text\":\"$\\\\text{Committee Correctness Probability As Function of }\\\\\\n                               T\\\\text{: }p=0.758$\"},\"xaxis\":{\"title\":{\"text\":\"$T \\\\text{ - Committee Size}$\"}},\"yaxis\":{\"range\":[0.0001,1.01],\"title\":{\"text\":\"$\\\\text{Probability of Being Correct}$\"}}}},{\"data\":[{\"line\":{\"color\":\"grey\",\"dash\":\"dash\"},\"mode\":\"markers+lines\",\"name\":\"Theoretical Bound\",\"x\":[1,5,10,15,20,25,50,75,100,125,150,175,200,250,300,400,500,600],\"y\":[0.05249288843583799,0.2363182866827549,0.41679024074483706,0.554613371828679,0.6598663767095349,0.7402461718087351,0.9325279487399828,0.9824738763892933,0.9954475222987657,0.998817476489349,0.9996928349911822,0.9999202127130732,0.9999792749467797,0.9999986016381468,0.9999999056496574,0.9999999995704721,0.9999999999980446,0.9999999999999911],\"type\":\"scatter\"},{\"error_y\":{\"array\":[0.15389999999999998,0.08999999999999998,0.047500000000000014,0.0,0.009899999999999999,0.0,0.0,0.0,0.0,0.0,0.0,0.0,0.0,0.0,0.0,0.0,0.0,0.0],\"type\":\"data\"},\"marker\":{\"color\":\"black\"},\"mode\":\"markers+lines\",\"name\":\"Empirical Probability\",\"x\":[1,5,10,15,20,25,50,75,100,125,150,175,200,250,300,400,500,600],\"y\":[0.81,0.9,0.95,1.0,0.99,1.0,1.0,1.0,1.0,1.0,1.0,1.0,1.0,1.0,1.0,1.0,1.0,1.0],\"type\":\"scatter\"}],\"layout\":{\"title\":{\"text\":\"$\\\\text{Committee Correctness Probability As Function of }\\\\\\n                               T\\\\text{: }p=0.792$\"},\"xaxis\":{\"title\":{\"text\":\"$T \\\\text{ - Committee Size}$\"}},\"yaxis\":{\"range\":[0.0001,1.01],\"title\":{\"text\":\"$\\\\text{Probability of Being Correct}$\"}}}},{\"data\":[{\"line\":{\"color\":\"grey\",\"dash\":\"dash\"},\"mode\":\"markers+lines\",\"name\":\"Theoretical Bound\",\"x\":[1,5,10,15,20,25,50,75,100,125,150,175,200,250,300,400,500,600],\"y\":[0.0625804415689738,0.2761142086515723,0.4759893610838607,0.6206761439731954,0.7254128503026995,0.8012302638472605,0.9604905919897703,0.9921467253942557,0.9984390066786812,0.9996897217693853,0.9999383260779667,0.9999877410907899,0.9999975632998508,0.9999999037274196,0.9999999961963273,0.9999999999940625,0.9999999999999908,1.0],\"type\":\"scatter\"},{\"error_y\":{\"array\":[0.16000000000000003,0.019599999999999996,0.019599999999999992,0.0,0.0,0.0,0.0,0.0,0.0,0.0,0.0,0.0,0.0,0.0,0.0,0.0,0.0,0.0],\"type\":\"data\"},\"marker\":{\"color\":\"black\"},\"mode\":\"markers+lines\",\"name\":\"Empirical Probability\",\"x\":[1,5,10,15,20,25,50,75,100,125,150,175,200,250,300,400,500,600],\"y\":[0.8,0.98,0.98,1.0,1.0,1.0,1.0,1.0,1.0,1.0,1.0,1.0,1.0,1.0,1.0,1.0,1.0,1.0],\"type\":\"scatter\"}],\"layout\":{\"title\":{\"text\":\"$\\\\text{Committee Correctness Probability As Function of }\\\\\\n                               T\\\\text{: }p=0.827$\"},\"xaxis\":{\"title\":{\"text\":\"$T \\\\text{ - Committee Size}$\"}},\"yaxis\":{\"range\":[0.0001,1.01],\"title\":{\"text\":\"$\\\\text{Probability of Being Correct}$\"}}}},{\"data\":[{\"line\":{\"color\":\"grey\",\"dash\":\"dash\"},\"mode\":\"markers+lines\",\"name\":\"Theoretical Bound\",\"x\":[1,5,10,15,20,25,50,75,100,125,150,175,200,250,300,400,500,600],\"y\":[0.07305265494783109,0.315654644046796,0.5316714337852824,0.6795015206507354,0.780668354067267,0.8499014066923617,0.9774704122870682,0.9966183405764879,0.9994924176774853,0.9999238126074027,0.9999885643795434,0.9999982835294559,0.9999997423601859,0.9999999941954812,0.9999999998692266,0.9999999999999336,1.0,1.0],\"type\":\"scatter\"},{\"error_y\":{\"array\":[0.09790000000000001,0.019599999999999992,0.009899999999999999,0.0,0.0,0.0,0.0,0.0,0.0,0.0,0.0,0.0,0.0,0.0,0.0,0.0,0.0,0.0],\"type\":\"data\"},\"marker\":{\"color\":\"black\"},\"mode\":\"markers+lines\",\"name\":\"Empirical Probability\",\"x\":[1,5,10,15,20,25,50,75,100,125,150,175,200,250,300,400,500,600],\"y\":[0.89,0.98,0.99,1.0,1.0,1.0,1.0,1.0,1.0,1.0,1.0,1.0,1.0,1.0,1.0,1.0,1.0,1.0],\"type\":\"scatter\"}],\"layout\":{\"title\":{\"text\":\"$\\\\text{Committee Correctness Probability As Function of }\\\\\\n                               T\\\\text{: }p=0.862$\"},\"xaxis\":{\"title\":{\"text\":\"$T \\\\text{ - Committee Size}$\"}},\"yaxis\":{\"range\":[0.0001,1.01],\"title\":{\"text\":\"$\\\\text{Probability of Being Correct}$\"}}}},{\"data\":[{\"line\":{\"color\":\"grey\",\"dash\":\"dash\"},\"mode\":\"markers+lines\",\"name\":\"Theoretical Bound\",\"x\":[1,5,10,15,20,25,50,75,100,125,150,175,200,250,300,400,500,600],\"y\":[0.08383784202408862,0.35455127609150827,0.5833959448048996,0.7311034441992196,0.8264410611949977,0.8879766044253993,0.9874507588439365,0.9985941913938132,0.999842516546407,0.9999823581687817,0.9999980237021627,0.9999997786084056,0.9999999751989619,0.9999999996887657,0.9999999999960942,0.9999999999999993,1.0,1.0],\"type\":\"scatter\"},{\"error_y\":{\"array\":[0.0651,0.009899999999999999,0.0,0.0,0.0,0.0,0.0,0.0,0.0,0.0,0.0,0.0,0.0,0.0,0.0,0.0,0.0,0.0],\"type\":\"data\"},\"marker\":{\"color\":\"black\"},\"mode\":\"markers+lines\",\"name\":\"Empirical Probability\",\"x\":[1,5,10,15,20,25,50,75,100,125,150,175,200,250,300,400,500,600],\"y\":[0.93,0.99,1.0,1.0,1.0,1.0,1.0,1.0,1.0,1.0,1.0,1.0,1.0,1.0,1.0,1.0,1.0,1.0],\"type\":\"scatter\"}],\"layout\":{\"title\":{\"text\":\"$\\\\text{Committee Correctness Probability As Function of }\\\\\\n                               T\\\\text{: }p=0.896$\"},\"xaxis\":{\"title\":{\"text\":\"$T \\\\text{ - Committee Size}$\"}},\"yaxis\":{\"range\":[0.0001,1.01],\"title\":{\"text\":\"$\\\\text{Probability of Being Correct}$\"}}}},{\"data\":[{\"line\":{\"color\":\"grey\",\"dash\":\"dash\"},\"mode\":\"markers+lines\",\"name\":\"Theoretical Bound\",\"x\":[1,5,10,15,20,25,50,75,100,125,150,175,200,250,300,400,500,600],\"y\":[0.09487492104831441,0.3925046026828818,0.6309493422385166,0.7758034240330439,0.8638016120058165,0.9172601061715224,0.9931541099692522,0.9994335717856945,0.9999531337896869,0.9999961222947346,0.9999996791590781,0.9999999734536562,0.9999999978035583,0.9999999999849634,0.9999999999998971,1.0,1.0,1.0],\"type\":\"scatter\"},{\"error_y\":{\"array\":[0.0736,0.0,0.0,0.0,0.0,0.0,0.0,0.0,0.0,0.0,0.0,0.0,0.0,0.0,0.0,0.0,0.0,0.0],\"type\":\"data\"},\"marker\":{\"color\":\"black\"},\"mode\":\"markers+lines\",\"name\":\"Empirical Probability\",\"x\":[1,5,10,15,20,25,50,75,100,125,150,175,200,250,300,400,500,600],\"y\":[0.92,1.0,1.0,1.0,1.0,1.0,1.0,1.0,1.0,1.0,1.0,1.0,1.0,1.0,1.0,1.0,1.0,1.0],\"type\":\"scatter\"}],\"layout\":{\"title\":{\"text\":\"$\\\\text{Committee Correctness Probability As Function of }\\\\\\n                               T\\\\text{: }p=0.931$\"},\"xaxis\":{\"title\":{\"text\":\"$T \\\\text{ - Committee Size}$\"}},\"yaxis\":{\"range\":[0.0001,1.01],\"title\":{\"text\":\"$\\\\text{Probability of Being Correct}$\"}}}},{\"data\":[{\"line\":{\"color\":\"grey\",\"dash\":\"dash\"},\"mode\":\"markers+lines\",\"name\":\"Theoretical Bound\",\"x\":[1,5,10,15,20,25,50,75,100,125,150,175,200,250,300,400,500,600],\"y\":[0.10611163181337824,0.4292887545811661,0.6742886743524836,0.8141128836926865,0.8939121323449375,0.9394544609267509,0.9963342376983296,0.999778054445331,0.9999865621867476,0.9999991864003527,0.9999999507401708,0.9999999970175371,0.9999999998194252,0.9999999999993381,0.9999999999999976,1.0,1.0,1.0],\"type\":\"scatter\"},{\"error_y\":{\"array\":[0.047500000000000014,0.0,0.0,0.0,0.0,0.0,0.0,0.0,0.0,0.0,0.0,0.0,0.0,0.0,0.0,0.0,0.0,0.0],\"type\":\"data\"},\"marker\":{\"color\":\"black\"},\"mode\":\"markers+lines\",\"name\":\"Empirical Probability\",\"x\":[1,5,10,15,20,25,50,75,100,125,150,175,200,250,300,400,500,600],\"y\":[0.95,1.0,1.0,1.0,1.0,1.0,1.0,1.0,1.0,1.0,1.0,1.0,1.0,1.0,1.0,1.0,1.0,1.0],\"type\":\"scatter\"}],\"layout\":{\"title\":{\"text\":\"$\\\\text{Committee Correctness Probability As Function of }\\\\\\n                               T\\\\text{: }p=0.965$\"},\"xaxis\":{\"title\":{\"text\":\"$T \\\\text{ - Committee Size}$\"}},\"yaxis\":{\"range\":[0.0001,1.01],\"title\":{\"text\":\"$\\\\text{Probability of Being Correct}$\"}}}},{\"data\":[{\"line\":{\"color\":\"grey\",\"dash\":\"dash\"},\"mode\":\"markers+lines\",\"name\":\"Theoretical Bound\",\"x\":[1,5,10,15,20,25,50,75,100,125,150,175,200,250,300,400,500,600],\"y\":[0.11750309741540454,0.4647385714810097,0.7134952031398099,0.8466450331550716,0.9179150013761012,0.9560630663765926,0.9980695458637723,0.9999151817647536,0.999996273346828,0.999999836262287,0.9999999928058669,0.9999999996839118,0.9999999999861121,0.9999999999999732,1.0,1.0,1.0,1.0],\"type\":\"scatter\"},{\"error_y\":{\"array\":[0.0,0.0,0.0,0.0,0.0,0.0,0.0,0.0,0.0,0.0,0.0,0.0,0.0,0.0,0.0,0.0,0.0,0.0],\"type\":\"data\"},\"marker\":{\"color\":\"black\"},\"mode\":\"markers+lines\",\"name\":\"Empirical Probability\",\"x\":[1,5,10,15,20,25,50,75,100,125,150,175,200,250,300,400,500,600],\"y\":[1.0,1.0,1.0,1.0,1.0,1.0,1.0,1.0,1.0,1.0,1.0,1.0,1.0,1.0,1.0,1.0,1.0,1.0],\"type\":\"scatter\"}],\"layout\":{\"title\":{\"text\":\"$\\\\text{Committee Correctness Probability As Function of }\\\\\\n                               T\\\\text{: }p=1.0$\"},\"xaxis\":{\"title\":{\"text\":\"$T \\\\text{ - Committee Size}$\"}},\"yaxis\":{\"range\":[0.0001,1.01],\"title\":{\"text\":\"$\\\\text{Probability of Being Correct}$\"}}}}]);\n",
       "                        }).then(function(){\n",
       "                            \n",
       "var gd = document.getElementById('a2dc6d0b-16eb-4eea-9652-06bc1552f547');\n",
       "var x = new MutationObserver(function (mutations, observer) {{\n",
       "        var display = window.getComputedStyle(gd).display;\n",
       "        if (!display || display === 'none') {{\n",
       "            console.log([gd, 'removed!']);\n",
       "            Plotly.purge(gd);\n",
       "            observer.disconnect();\n",
       "        }}\n",
       "}});\n",
       "\n",
       "// Listen for the removal of the full notebook cells\n",
       "var notebookContainer = gd.closest('#notebook-container');\n",
       "if (notebookContainer) {{\n",
       "    x.observe(notebookContainer, {childList: true});\n",
       "}}\n",
       "\n",
       "// Listen for the clearing of the current output cell\n",
       "var outputEl = gd.closest('.output');\n",
       "if (outputEl) {{\n",
       "    x.observe(outputEl, {childList: true});\n",
       "}}\n",
       "\n",
       "                        })                };                });            </script>        </div>"
      ]
     },
     "metadata": {},
     "output_type": "display_data"
    }
   ],
   "source": [
    "bound = np.vectorize(lambda p, T: 1-np.exp(-(T/(2*p))*(p-.5)**2))\n",
    "\n",
    "ps  = np.concatenate([[.5001], np.linspace(.55, 1, 14)])\n",
    "Ts = [1,5,10,15,20,25,50,75,100,125,150,175,200,250,300,400,500,600]\n",
    "\n",
    "frames = []\n",
    "for p in ps:\n",
    "    theoretical = bound(p,Ts)\n",
    "    empirical = np.array([[np.sum(np.random.choice([1, -1], T, p=[p, 1-p])) > 0 for _ in range(100)] for T in Ts])\n",
    "    \n",
    "    frames.append(go.Frame(data=[go.Scatter(x=Ts, y=theoretical, mode=\"markers+lines\", name=\"Theoretical Bound\",\n",
    "                                            line=dict(color=\"grey\", dash='dash')),\n",
    "                                 go.Scatter(x=Ts, y=empirical.mean(axis=1), \n",
    "                                            error_y = dict(type=\"data\", array=empirical.var(axis=1)),\n",
    "                                            mode=\"markers+lines\", marker_color=\"black\", name=\"Empirical Probability\")],\n",
    "                           layout=go.Layout(\n",
    "                               title_text=r\"$\\text{{Committee Correctness Probability As Function of }}\\\n",
    "                               T\\text{{: }}p={0}$\".format(round(p,3)),\n",
    "                               xaxis=dict(title=r\"$T \\text{ - Committee Size}$\"),\n",
    "                               yaxis=dict(title=r\"$\\text{Probability of Being Correct}$\", range=[0.0001,1.01]))))\n",
    "\n",
    "\n",
    "fig = go.Figure(data=frames[0][\"data\"],\n",
    "        frames=frames[1:], \n",
    "        layout=go.Layout(\n",
    "            title=frames[0][\"layout\"][\"title\"],\n",
    "            xaxis=frames[0][\"layout\"][\"xaxis\"],\n",
    "            yaxis=frames[0][\"layout\"][\"yaxis\"],\n",
    "            updatemenus=[dict(type=\"buttons\", buttons=[AnimationButtons.play(frame_duration=1000), \n",
    "                                                       AnimationButtons.pause()])] ))\n",
    "\n",
    "# animation_to_gif(fig, \"../figures/committee_decision_correctness.gif\", 700, width=600, height=450)\n",
    "fig.show()"
   ]
  },
  {
   "cell_type": "markdown",
   "metadata": {},
   "source": [
    "In this case, of uncorrelated committee members, we have shown the variance in the committee decision is: $$ Var\\left(\\sum X_i\\right) = \\frac{4}{T}p\\left(1-p\\right)$$\n",
    "Let us simulate such a scenario and see what is the empirical variance we achieve"
   ]
  },
  {
   "cell_type": "code",
   "execution_count": 10,
   "metadata": {},
   "outputs": [
    {
     "data": {
      "application/vnd.plotly.v1+json": {
       "config": {
        "plotlyServerURL": "https://plot.ly"
       },
       "data": [
        {
         "colorscale": [
          [
           0,
           "rgb(241, 236, 236)"
          ],
          [
           0.09090909090909091,
           "rgb(230, 209, 203)"
          ],
          [
           0.18181818181818182,
           "rgb(221, 182, 170)"
          ],
          [
           0.2727272727272727,
           "rgb(213, 156, 137)"
          ],
          [
           0.36363636363636365,
           "rgb(205, 129, 103)"
          ],
          [
           0.45454545454545453,
           "rgb(196, 102, 73)"
          ],
          [
           0.5454545454545454,
           "rgb(186, 74, 47)"
          ],
          [
           0.6363636363636364,
           "rgb(172, 44, 36)"
          ],
          [
           0.7272727272727273,
           "rgb(149, 19, 39)"
          ],
          [
           0.8181818181818182,
           "rgb(120, 14, 40)"
          ],
          [
           0.9090909090909091,
           "rgb(89, 13, 31)"
          ],
          [
           1,
           "rgb(60, 9, 17)"
          ]
         ],
         "type": "heatmap",
         "x": [
          1,
          5,
          10,
          15,
          20,
          25,
          50,
          75,
          100,
          125,
          150,
          175,
          200,
          250,
          300,
          400,
          500,
          600
         ],
         "y": [
          0.5001,
          0.55,
          0.6000000000000001,
          0.65,
          0.7000000000000001,
          0.75,
          0.8,
          0.8500000000000001,
          0.9,
          0.95,
          1
         ],
         "z": [
          [
           0.25002451245127044,
           0.25000291029104865,
           0.23552739273925333,
           0.25001824182421734,
           0.2432839183918473,
           0.25001716171621186,
           0.24747449744974187,
           0.2500227522752324,
           0.24833562356235445,
           0.2499840384038236,
           0.24882772277228893,
           0.24998899889992768,
           0.24921836183618423,
           0.24903265326529242,
           0.24968271827186092,
           0.24955839583955355,
           0.24983454345432116,
           0.249732563256282
          ],
          [
           0.24814125412540092,
           0.2413565256525525,
           0.1928982898290041,
           0.22782178217826102,
           0.18231419141912522,
           0.21203519351933262,
           0.15692968296829551,
           0.15348085808581893,
           0.11802491249126482,
           0.1095359135913658,
           0.08280907090710299,
           0.08735784578456104,
           0.06329591959196751,
           0.04741473147313729,
           0.03683679367937074,
           0.02132689268926351,
           0.011173427342733664,
           0.005173477347734312
          ],
          [
           0.24176136613664287,
           0.2153138413841305,
           0.1385246424642572,
           0.16799183918391766,
           0.11170156015600108,
           0.12890889088910296,
           0.053667756775676846,
           0.03858781878186958,
           0.01545505550554817,
           0.01214992499250131,
           0.005173477347734229,
           0.0032894389438937154,
           0.001298439843984307,
           4.997999799979509E-4,
           1.000000000000186E-4,
           0,
           0,
           0
          ],
          [
           0.23133624362437896,
           0.1770096609660725,
           0.08157999799978682,
           0.10085964596461884,
           0.050821392139203364,
           0.05702121212121458,
           0.008625172517253156,
           0.00428193819381959,
           8.992799279930661E-4,
           1.9997999799977942E-4,
           0,
           1.0000000000003687E-4,
           0,
           0,
           0,
           0,
           0,
           0
          ],
          [
           0.2095797479747681,
           0.1369832583258254,
           0.04124651465146658,
           0.048583418341830296,
           0.016229372937290574,
           0.017002410241021955,
           7.994399439941909E-4,
           1.000000000000457E-4,
           0,
           0,
           0,
           0,
           0,
           0,
           0,
           0,
           0,
           0
          ],
          [
           0.18979781978200283,
           0.09430027002701766,
           0.020081758175815083,
           0.015745574557454664,
           0.0026929792979291556,
           0.002294939493949739,
           0,
           0,
           0,
           0,
           0,
           0,
           0,
           0,
           0,
           0,
           0,
           0
          ],
          [
           0.16013597359737664,
           0.057372527252723855,
           0.00556919691969278,
           0.003984398439844007,
           2.9993999399932674E-4,
           0,
           0,
           0,
           0,
           0,
           0,
           0,
           0,
           0,
           0,
           0,
           0,
           0
          ],
          [
           0.1283513951395354,
           0.02853849384938564,
           0.001298439843984364,
           7.994399439942086E-4,
           1.0000000000003363E-4,
           0,
           0,
           0,
           0,
           0,
           0,
           0,
           0,
           0,
           0,
           0,
           0,
           0
          ],
          [
           0.08776093609361604,
           0.009998989898991655,
           1.9997999799979023E-4,
           0,
           0,
           0,
           0,
           0,
           0,
           0,
           0,
           0,
           0,
           0,
           0,
           0,
           0,
           0
          ],
          [
           0.04858341834182956,
           9.990999099908466E-4,
           0,
           0,
           0,
           0,
           0,
           0,
           0,
           0,
           0,
           0,
           0,
           0,
           0,
           0,
           0,
           0
          ],
          [
           0,
           0,
           0,
           0,
           0,
           0,
           0,
           0,
           0,
           0,
           0,
           0,
           0,
           0,
           0,
           0,
           0,
           0
          ]
         ]
        }
       ],
       "layout": {
        "height": 500,
        "template": {
         "data": {
          "bar": [
           {
            "error_x": {
             "color": "rgb(36,36,36)"
            },
            "error_y": {
             "color": "rgb(36,36,36)"
            },
            "marker": {
             "line": {
              "color": "white",
              "width": 0.5
             },
             "pattern": {
              "fillmode": "overlay",
              "size": 10,
              "solidity": 0.2
             }
            },
            "type": "bar"
           }
          ],
          "barpolar": [
           {
            "marker": {
             "line": {
              "color": "white",
              "width": 0.5
             },
             "pattern": {
              "fillmode": "overlay",
              "size": 10,
              "solidity": 0.2
             }
            },
            "type": "barpolar"
           }
          ],
          "carpet": [
           {
            "aaxis": {
             "endlinecolor": "rgb(36,36,36)",
             "gridcolor": "white",
             "linecolor": "white",
             "minorgridcolor": "white",
             "startlinecolor": "rgb(36,36,36)"
            },
            "baxis": {
             "endlinecolor": "rgb(36,36,36)",
             "gridcolor": "white",
             "linecolor": "white",
             "minorgridcolor": "white",
             "startlinecolor": "rgb(36,36,36)"
            },
            "type": "carpet"
           }
          ],
          "choropleth": [
           {
            "colorbar": {
             "outlinewidth": 1,
             "tickcolor": "rgb(36,36,36)",
             "ticks": "outside"
            },
            "type": "choropleth"
           }
          ],
          "contour": [
           {
            "colorbar": {
             "outlinewidth": 1,
             "tickcolor": "rgb(36,36,36)",
             "ticks": "outside"
            },
            "colorscale": [
             [
              0,
              "#440154"
             ],
             [
              0.1111111111111111,
              "#482878"
             ],
             [
              0.2222222222222222,
              "#3e4989"
             ],
             [
              0.3333333333333333,
              "#31688e"
             ],
             [
              0.4444444444444444,
              "#26828e"
             ],
             [
              0.5555555555555556,
              "#1f9e89"
             ],
             [
              0.6666666666666666,
              "#35b779"
             ],
             [
              0.7777777777777778,
              "#6ece58"
             ],
             [
              0.8888888888888888,
              "#b5de2b"
             ],
             [
              1,
              "#fde725"
             ]
            ],
            "type": "contour"
           }
          ],
          "contourcarpet": [
           {
            "colorbar": {
             "outlinewidth": 1,
             "tickcolor": "rgb(36,36,36)",
             "ticks": "outside"
            },
            "type": "contourcarpet"
           }
          ],
          "heatmap": [
           {
            "colorbar": {
             "outlinewidth": 1,
             "tickcolor": "rgb(36,36,36)",
             "ticks": "outside"
            },
            "colorscale": [
             [
              0,
              "#440154"
             ],
             [
              0.1111111111111111,
              "#482878"
             ],
             [
              0.2222222222222222,
              "#3e4989"
             ],
             [
              0.3333333333333333,
              "#31688e"
             ],
             [
              0.4444444444444444,
              "#26828e"
             ],
             [
              0.5555555555555556,
              "#1f9e89"
             ],
             [
              0.6666666666666666,
              "#35b779"
             ],
             [
              0.7777777777777778,
              "#6ece58"
             ],
             [
              0.8888888888888888,
              "#b5de2b"
             ],
             [
              1,
              "#fde725"
             ]
            ],
            "type": "heatmap"
           }
          ],
          "heatmapgl": [
           {
            "colorbar": {
             "outlinewidth": 1,
             "tickcolor": "rgb(36,36,36)",
             "ticks": "outside"
            },
            "colorscale": [
             [
              0,
              "#440154"
             ],
             [
              0.1111111111111111,
              "#482878"
             ],
             [
              0.2222222222222222,
              "#3e4989"
             ],
             [
              0.3333333333333333,
              "#31688e"
             ],
             [
              0.4444444444444444,
              "#26828e"
             ],
             [
              0.5555555555555556,
              "#1f9e89"
             ],
             [
              0.6666666666666666,
              "#35b779"
             ],
             [
              0.7777777777777778,
              "#6ece58"
             ],
             [
              0.8888888888888888,
              "#b5de2b"
             ],
             [
              1,
              "#fde725"
             ]
            ],
            "type": "heatmapgl"
           }
          ],
          "histogram": [
           {
            "marker": {
             "line": {
              "color": "white",
              "width": 0.6
             }
            },
            "type": "histogram"
           }
          ],
          "histogram2d": [
           {
            "colorbar": {
             "outlinewidth": 1,
             "tickcolor": "rgb(36,36,36)",
             "ticks": "outside"
            },
            "colorscale": [
             [
              0,
              "#440154"
             ],
             [
              0.1111111111111111,
              "#482878"
             ],
             [
              0.2222222222222222,
              "#3e4989"
             ],
             [
              0.3333333333333333,
              "#31688e"
             ],
             [
              0.4444444444444444,
              "#26828e"
             ],
             [
              0.5555555555555556,
              "#1f9e89"
             ],
             [
              0.6666666666666666,
              "#35b779"
             ],
             [
              0.7777777777777778,
              "#6ece58"
             ],
             [
              0.8888888888888888,
              "#b5de2b"
             ],
             [
              1,
              "#fde725"
             ]
            ],
            "type": "histogram2d"
           }
          ],
          "histogram2dcontour": [
           {
            "colorbar": {
             "outlinewidth": 1,
             "tickcolor": "rgb(36,36,36)",
             "ticks": "outside"
            },
            "colorscale": [
             [
              0,
              "#440154"
             ],
             [
              0.1111111111111111,
              "#482878"
             ],
             [
              0.2222222222222222,
              "#3e4989"
             ],
             [
              0.3333333333333333,
              "#31688e"
             ],
             [
              0.4444444444444444,
              "#26828e"
             ],
             [
              0.5555555555555556,
              "#1f9e89"
             ],
             [
              0.6666666666666666,
              "#35b779"
             ],
             [
              0.7777777777777778,
              "#6ece58"
             ],
             [
              0.8888888888888888,
              "#b5de2b"
             ],
             [
              1,
              "#fde725"
             ]
            ],
            "type": "histogram2dcontour"
           }
          ],
          "mesh3d": [
           {
            "colorbar": {
             "outlinewidth": 1,
             "tickcolor": "rgb(36,36,36)",
             "ticks": "outside"
            },
            "type": "mesh3d"
           }
          ],
          "parcoords": [
           {
            "line": {
             "colorbar": {
              "outlinewidth": 1,
              "tickcolor": "rgb(36,36,36)",
              "ticks": "outside"
             }
            },
            "type": "parcoords"
           }
          ],
          "pie": [
           {
            "automargin": true,
            "type": "pie"
           }
          ],
          "scatter": [
           {
            "marker": {
             "colorbar": {
              "outlinewidth": 1,
              "tickcolor": "rgb(36,36,36)",
              "ticks": "outside"
             }
            },
            "type": "scatter"
           }
          ],
          "scatter3d": [
           {
            "line": {
             "colorbar": {
              "outlinewidth": 1,
              "tickcolor": "rgb(36,36,36)",
              "ticks": "outside"
             }
            },
            "marker": {
             "colorbar": {
              "outlinewidth": 1,
              "tickcolor": "rgb(36,36,36)",
              "ticks": "outside"
             }
            },
            "type": "scatter3d"
           }
          ],
          "scattercarpet": [
           {
            "marker": {
             "colorbar": {
              "outlinewidth": 1,
              "tickcolor": "rgb(36,36,36)",
              "ticks": "outside"
             }
            },
            "type": "scattercarpet"
           }
          ],
          "scattergeo": [
           {
            "marker": {
             "colorbar": {
              "outlinewidth": 1,
              "tickcolor": "rgb(36,36,36)",
              "ticks": "outside"
             }
            },
            "type": "scattergeo"
           }
          ],
          "scattergl": [
           {
            "marker": {
             "colorbar": {
              "outlinewidth": 1,
              "tickcolor": "rgb(36,36,36)",
              "ticks": "outside"
             }
            },
            "type": "scattergl"
           }
          ],
          "scattermapbox": [
           {
            "marker": {
             "colorbar": {
              "outlinewidth": 1,
              "tickcolor": "rgb(36,36,36)",
              "ticks": "outside"
             }
            },
            "type": "scattermapbox"
           }
          ],
          "scatterpolar": [
           {
            "marker": {
             "colorbar": {
              "outlinewidth": 1,
              "tickcolor": "rgb(36,36,36)",
              "ticks": "outside"
             }
            },
            "type": "scatterpolar"
           }
          ],
          "scatterpolargl": [
           {
            "marker": {
             "colorbar": {
              "outlinewidth": 1,
              "tickcolor": "rgb(36,36,36)",
              "ticks": "outside"
             }
            },
            "type": "scatterpolargl"
           }
          ],
          "scatterternary": [
           {
            "marker": {
             "colorbar": {
              "outlinewidth": 1,
              "tickcolor": "rgb(36,36,36)",
              "ticks": "outside"
             }
            },
            "type": "scatterternary"
           }
          ],
          "surface": [
           {
            "colorbar": {
             "outlinewidth": 1,
             "tickcolor": "rgb(36,36,36)",
             "ticks": "outside"
            },
            "colorscale": [
             [
              0,
              "#440154"
             ],
             [
              0.1111111111111111,
              "#482878"
             ],
             [
              0.2222222222222222,
              "#3e4989"
             ],
             [
              0.3333333333333333,
              "#31688e"
             ],
             [
              0.4444444444444444,
              "#26828e"
             ],
             [
              0.5555555555555556,
              "#1f9e89"
             ],
             [
              0.6666666666666666,
              "#35b779"
             ],
             [
              0.7777777777777778,
              "#6ece58"
             ],
             [
              0.8888888888888888,
              "#b5de2b"
             ],
             [
              1,
              "#fde725"
             ]
            ],
            "type": "surface"
           }
          ],
          "table": [
           {
            "cells": {
             "fill": {
              "color": "rgb(237,237,237)"
             },
             "line": {
              "color": "white"
             }
            },
            "header": {
             "fill": {
              "color": "rgb(217,217,217)"
             },
             "line": {
              "color": "white"
             }
            },
            "type": "table"
           }
          ]
         },
         "layout": {
          "annotationdefaults": {
           "arrowhead": 0,
           "arrowwidth": 1
          },
          "autotypenumbers": "strict",
          "coloraxis": {
           "colorbar": {
            "outlinewidth": 1,
            "tickcolor": "rgb(36,36,36)",
            "ticks": "outside"
           }
          },
          "colorscale": {
           "diverging": [
            [
             0,
             "rgb(103,0,31)"
            ],
            [
             0.1,
             "rgb(178,24,43)"
            ],
            [
             0.2,
             "rgb(214,96,77)"
            ],
            [
             0.3,
             "rgb(244,165,130)"
            ],
            [
             0.4,
             "rgb(253,219,199)"
            ],
            [
             0.5,
             "rgb(247,247,247)"
            ],
            [
             0.6,
             "rgb(209,229,240)"
            ],
            [
             0.7,
             "rgb(146,197,222)"
            ],
            [
             0.8,
             "rgb(67,147,195)"
            ],
            [
             0.9,
             "rgb(33,102,172)"
            ],
            [
             1,
             "rgb(5,48,97)"
            ]
           ],
           "sequential": [
            [
             0,
             "#440154"
            ],
            [
             0.1111111111111111,
             "#482878"
            ],
            [
             0.2222222222222222,
             "#3e4989"
            ],
            [
             0.3333333333333333,
             "#31688e"
            ],
            [
             0.4444444444444444,
             "#26828e"
            ],
            [
             0.5555555555555556,
             "#1f9e89"
            ],
            [
             0.6666666666666666,
             "#35b779"
            ],
            [
             0.7777777777777778,
             "#6ece58"
            ],
            [
             0.8888888888888888,
             "#b5de2b"
            ],
            [
             1,
             "#fde725"
            ]
           ],
           "sequentialminus": [
            [
             0,
             "#440154"
            ],
            [
             0.1111111111111111,
             "#482878"
            ],
            [
             0.2222222222222222,
             "#3e4989"
            ],
            [
             0.3333333333333333,
             "#31688e"
            ],
            [
             0.4444444444444444,
             "#26828e"
            ],
            [
             0.5555555555555556,
             "#1f9e89"
            ],
            [
             0.6666666666666666,
             "#35b779"
            ],
            [
             0.7777777777777778,
             "#6ece58"
            ],
            [
             0.8888888888888888,
             "#b5de2b"
            ],
            [
             1,
             "#fde725"
            ]
           ]
          },
          "colorway": [
           "#1F77B4",
           "#FF7F0E",
           "#2CA02C",
           "#D62728",
           "#9467BD",
           "#8C564B",
           "#E377C2",
           "#7F7F7F",
           "#BCBD22",
           "#17BECF"
          ],
          "font": {
           "color": "rgb(36,36,36)"
          },
          "geo": {
           "bgcolor": "white",
           "lakecolor": "white",
           "landcolor": "white",
           "showlakes": true,
           "showland": true,
           "subunitcolor": "white"
          },
          "hoverlabel": {
           "align": "left"
          },
          "hovermode": "closest",
          "mapbox": {
           "style": "light"
          },
          "margin": {
           "b": 0,
           "l": 20,
           "r": 20,
           "t": 40
          },
          "paper_bgcolor": "white",
          "plot_bgcolor": "white",
          "polar": {
           "angularaxis": {
            "gridcolor": "rgb(232,232,232)",
            "linecolor": "rgb(36,36,36)",
            "showgrid": false,
            "showline": true,
            "ticks": "outside"
           },
           "bgcolor": "white",
           "radialaxis": {
            "gridcolor": "rgb(232,232,232)",
            "linecolor": "rgb(36,36,36)",
            "showgrid": false,
            "showline": true,
            "ticks": "outside"
           }
          },
          "scene": {
           "xaxis": {
            "backgroundcolor": "white",
            "gridcolor": "rgb(232,232,232)",
            "gridwidth": 2,
            "linecolor": "rgb(36,36,36)",
            "showbackground": true,
            "showgrid": false,
            "showline": true,
            "ticks": "outside",
            "zeroline": false,
            "zerolinecolor": "rgb(36,36,36)"
           },
           "yaxis": {
            "backgroundcolor": "white",
            "gridcolor": "rgb(232,232,232)",
            "gridwidth": 2,
            "linecolor": "rgb(36,36,36)",
            "showbackground": true,
            "showgrid": false,
            "showline": true,
            "ticks": "outside",
            "zeroline": false,
            "zerolinecolor": "rgb(36,36,36)"
           },
           "zaxis": {
            "backgroundcolor": "white",
            "gridcolor": "rgb(232,232,232)",
            "gridwidth": 2,
            "linecolor": "rgb(36,36,36)",
            "showbackground": true,
            "showgrid": false,
            "showline": true,
            "ticks": "outside",
            "zeroline": false,
            "zerolinecolor": "rgb(36,36,36)"
           }
          },
          "shapedefaults": {
           "fillcolor": "black",
           "line": {
            "width": 0
           },
           "opacity": 0.3
          },
          "ternary": {
           "aaxis": {
            "gridcolor": "rgb(232,232,232)",
            "linecolor": "rgb(36,36,36)",
            "showgrid": false,
            "showline": true,
            "ticks": "outside"
           },
           "baxis": {
            "gridcolor": "rgb(232,232,232)",
            "linecolor": "rgb(36,36,36)",
            "showgrid": false,
            "showline": true,
            "ticks": "outside"
           },
           "bgcolor": "white",
           "caxis": {
            "gridcolor": "rgb(232,232,232)",
            "linecolor": "rgb(36,36,36)",
            "showgrid": false,
            "showline": true,
            "ticks": "outside"
           }
          },
          "title": {
           "x": 0.05
          },
          "xaxis": {
           "automargin": true,
           "gridcolor": "rgb(232,232,232)",
           "linecolor": "rgb(36,36,36)",
           "showgrid": false,
           "showline": true,
           "ticks": "outside",
           "title": {
            "standoff": 15
           },
           "zeroline": false,
           "zerolinecolor": "rgb(36,36,36)"
          },
          "yaxis": {
           "automargin": true,
           "gridcolor": "rgb(232,232,232)",
           "linecolor": "rgb(36,36,36)",
           "showgrid": false,
           "showline": true,
           "ticks": "outside",
           "title": {
            "standoff": 15
           },
           "zeroline": false,
           "zerolinecolor": "rgb(36,36,36)"
          }
         }
        },
        "title": {
         "text": "$\\text{Variance of Committee Decision - Independent Members}$"
        },
        "width": 800,
        "xaxis": {
         "title": {
          "text": "$T\\text{ - Committee Size}$"
         },
         "type": "category"
        },
        "yaxis": {
         "title": {
          "text": "$p\\text{ - Member Correctness Probability}$"
         }
        }
       }
      },
      "text/html": [
       "<div>                            <div id=\"f9597c95-602f-4deb-9a2c-3a8cf277cf04\" class=\"plotly-graph-div\" style=\"height:500px; width:800px;\"></div>            <script type=\"text/javascript\">                require([\"plotly\"], function(Plotly) {                    window.PLOTLYENV=window.PLOTLYENV || {};                                    if (document.getElementById(\"f9597c95-602f-4deb-9a2c-3a8cf277cf04\")) {                    Plotly.newPlot(                        \"f9597c95-602f-4deb-9a2c-3a8cf277cf04\",                        [{\"colorscale\":[[0.0,\"rgb(241, 236, 236)\"],[0.09090909090909091,\"rgb(230, 209, 203)\"],[0.18181818181818182,\"rgb(221, 182, 170)\"],[0.2727272727272727,\"rgb(213, 156, 137)\"],[0.36363636363636365,\"rgb(205, 129, 103)\"],[0.45454545454545453,\"rgb(196, 102, 73)\"],[0.5454545454545454,\"rgb(186, 74, 47)\"],[0.6363636363636364,\"rgb(172, 44, 36)\"],[0.7272727272727273,\"rgb(149, 19, 39)\"],[0.8181818181818182,\"rgb(120, 14, 40)\"],[0.9090909090909091,\"rgb(89, 13, 31)\"],[1.0,\"rgb(60, 9, 17)\"]],\"x\":[1,5,10,15,20,25,50,75,100,125,150,175,200,250,300,400,500,600],\"y\":[0.5001,0.55,0.6000000000000001,0.65,0.7000000000000001,0.75,0.8,0.8500000000000001,0.9,0.95,1.0],\"z\":[[0.25002451245127044,0.25000291029104865,0.23552739273925333,0.25001824182421734,0.2432839183918473,0.25001716171621186,0.24747449744974187,0.2500227522752324,0.24833562356235445,0.2499840384038236,0.24882772277228893,0.24998899889992768,0.24921836183618423,0.24903265326529242,0.24968271827186092,0.24955839583955355,0.24983454345432116,0.249732563256282],[0.24814125412540092,0.2413565256525525,0.1928982898290041,0.22782178217826102,0.18231419141912522,0.21203519351933262,0.15692968296829551,0.15348085808581893,0.11802491249126482,0.1095359135913658,0.08280907090710299,0.08735784578456104,0.06329591959196751,0.04741473147313729,0.03683679367937074,0.02132689268926351,0.011173427342733664,0.005173477347734312],[0.24176136613664287,0.2153138413841305,0.1385246424642572,0.16799183918391766,0.11170156015600108,0.12890889088910296,0.053667756775676846,0.03858781878186958,0.01545505550554817,0.01214992499250131,0.005173477347734229,0.0032894389438937154,0.001298439843984307,0.0004997999799979509,0.0001000000000000186,0.0,0.0,0.0],[0.23133624362437896,0.1770096609660725,0.08157999799978682,0.10085964596461884,0.050821392139203364,0.05702121212121458,0.008625172517253156,0.00428193819381959,0.0008992799279930661,0.00019997999799977942,0.0,0.00010000000000003687,0.0,0.0,0.0,0.0,0.0,0.0],[0.2095797479747681,0.1369832583258254,0.04124651465146658,0.048583418341830296,0.016229372937290574,0.017002410241021955,0.0007994399439941909,0.0001000000000000457,0.0,0.0,0.0,0.0,0.0,0.0,0.0,0.0,0.0,0.0],[0.18979781978200283,0.09430027002701766,0.020081758175815083,0.015745574557454664,0.0026929792979291556,0.002294939493949739,0.0,0.0,0.0,0.0,0.0,0.0,0.0,0.0,0.0,0.0,0.0,0.0],[0.16013597359737664,0.057372527252723855,0.00556919691969278,0.003984398439844007,0.00029993999399932674,0.0,0.0,0.0,0.0,0.0,0.0,0.0,0.0,0.0,0.0,0.0,0.0,0.0],[0.1283513951395354,0.02853849384938564,0.001298439843984364,0.0007994399439942086,0.00010000000000003363,0.0,0.0,0.0,0.0,0.0,0.0,0.0,0.0,0.0,0.0,0.0,0.0,0.0],[0.08776093609361604,0.009998989898991655,0.00019997999799979023,0.0,0.0,0.0,0.0,0.0,0.0,0.0,0.0,0.0,0.0,0.0,0.0,0.0,0.0,0.0],[0.04858341834182956,0.0009990999099908466,0.0,0.0,0.0,0.0,0.0,0.0,0.0,0.0,0.0,0.0,0.0,0.0,0.0,0.0,0.0,0.0],[0.0,0.0,0.0,0.0,0.0,0.0,0.0,0.0,0.0,0.0,0.0,0.0,0.0,0.0,0.0,0.0,0.0,0.0]],\"type\":\"heatmap\"}],                        {\"height\":500,\"title\":{\"text\":\"$\\\\text{Variance of Committee Decision - Independent Members}$\"},\"width\":800,\"xaxis\":{\"title\":{\"text\":\"$T\\\\text{ - Committee Size}$\"},\"type\":\"category\"},\"yaxis\":{\"title\":{\"text\":\"$p\\\\text{ - Member Correctness Probability}$\"}},\"template\":{\"data\":{\"barpolar\":[{\"marker\":{\"line\":{\"color\":\"white\",\"width\":0.5},\"pattern\":{\"fillmode\":\"overlay\",\"size\":10,\"solidity\":0.2}},\"type\":\"barpolar\"}],\"bar\":[{\"error_x\":{\"color\":\"rgb(36,36,36)\"},\"error_y\":{\"color\":\"rgb(36,36,36)\"},\"marker\":{\"line\":{\"color\":\"white\",\"width\":0.5},\"pattern\":{\"fillmode\":\"overlay\",\"size\":10,\"solidity\":0.2}},\"type\":\"bar\"}],\"carpet\":[{\"aaxis\":{\"endlinecolor\":\"rgb(36,36,36)\",\"gridcolor\":\"white\",\"linecolor\":\"white\",\"minorgridcolor\":\"white\",\"startlinecolor\":\"rgb(36,36,36)\"},\"baxis\":{\"endlinecolor\":\"rgb(36,36,36)\",\"gridcolor\":\"white\",\"linecolor\":\"white\",\"minorgridcolor\":\"white\",\"startlinecolor\":\"rgb(36,36,36)\"},\"type\":\"carpet\"}],\"choropleth\":[{\"colorbar\":{\"outlinewidth\":1,\"tickcolor\":\"rgb(36,36,36)\",\"ticks\":\"outside\"},\"type\":\"choropleth\"}],\"contourcarpet\":[{\"colorbar\":{\"outlinewidth\":1,\"tickcolor\":\"rgb(36,36,36)\",\"ticks\":\"outside\"},\"type\":\"contourcarpet\"}],\"contour\":[{\"colorbar\":{\"outlinewidth\":1,\"tickcolor\":\"rgb(36,36,36)\",\"ticks\":\"outside\"},\"colorscale\":[[0.0,\"#440154\"],[0.1111111111111111,\"#482878\"],[0.2222222222222222,\"#3e4989\"],[0.3333333333333333,\"#31688e\"],[0.4444444444444444,\"#26828e\"],[0.5555555555555556,\"#1f9e89\"],[0.6666666666666666,\"#35b779\"],[0.7777777777777778,\"#6ece58\"],[0.8888888888888888,\"#b5de2b\"],[1.0,\"#fde725\"]],\"type\":\"contour\"}],\"heatmapgl\":[{\"colorbar\":{\"outlinewidth\":1,\"tickcolor\":\"rgb(36,36,36)\",\"ticks\":\"outside\"},\"colorscale\":[[0.0,\"#440154\"],[0.1111111111111111,\"#482878\"],[0.2222222222222222,\"#3e4989\"],[0.3333333333333333,\"#31688e\"],[0.4444444444444444,\"#26828e\"],[0.5555555555555556,\"#1f9e89\"],[0.6666666666666666,\"#35b779\"],[0.7777777777777778,\"#6ece58\"],[0.8888888888888888,\"#b5de2b\"],[1.0,\"#fde725\"]],\"type\":\"heatmapgl\"}],\"heatmap\":[{\"colorbar\":{\"outlinewidth\":1,\"tickcolor\":\"rgb(36,36,36)\",\"ticks\":\"outside\"},\"colorscale\":[[0.0,\"#440154\"],[0.1111111111111111,\"#482878\"],[0.2222222222222222,\"#3e4989\"],[0.3333333333333333,\"#31688e\"],[0.4444444444444444,\"#26828e\"],[0.5555555555555556,\"#1f9e89\"],[0.6666666666666666,\"#35b779\"],[0.7777777777777778,\"#6ece58\"],[0.8888888888888888,\"#b5de2b\"],[1.0,\"#fde725\"]],\"type\":\"heatmap\"}],\"histogram2dcontour\":[{\"colorbar\":{\"outlinewidth\":1,\"tickcolor\":\"rgb(36,36,36)\",\"ticks\":\"outside\"},\"colorscale\":[[0.0,\"#440154\"],[0.1111111111111111,\"#482878\"],[0.2222222222222222,\"#3e4989\"],[0.3333333333333333,\"#31688e\"],[0.4444444444444444,\"#26828e\"],[0.5555555555555556,\"#1f9e89\"],[0.6666666666666666,\"#35b779\"],[0.7777777777777778,\"#6ece58\"],[0.8888888888888888,\"#b5de2b\"],[1.0,\"#fde725\"]],\"type\":\"histogram2dcontour\"}],\"histogram2d\":[{\"colorbar\":{\"outlinewidth\":1,\"tickcolor\":\"rgb(36,36,36)\",\"ticks\":\"outside\"},\"colorscale\":[[0.0,\"#440154\"],[0.1111111111111111,\"#482878\"],[0.2222222222222222,\"#3e4989\"],[0.3333333333333333,\"#31688e\"],[0.4444444444444444,\"#26828e\"],[0.5555555555555556,\"#1f9e89\"],[0.6666666666666666,\"#35b779\"],[0.7777777777777778,\"#6ece58\"],[0.8888888888888888,\"#b5de2b\"],[1.0,\"#fde725\"]],\"type\":\"histogram2d\"}],\"histogram\":[{\"marker\":{\"line\":{\"color\":\"white\",\"width\":0.6}},\"type\":\"histogram\"}],\"mesh3d\":[{\"colorbar\":{\"outlinewidth\":1,\"tickcolor\":\"rgb(36,36,36)\",\"ticks\":\"outside\"},\"type\":\"mesh3d\"}],\"parcoords\":[{\"line\":{\"colorbar\":{\"outlinewidth\":1,\"tickcolor\":\"rgb(36,36,36)\",\"ticks\":\"outside\"}},\"type\":\"parcoords\"}],\"pie\":[{\"automargin\":true,\"type\":\"pie\"}],\"scatter3d\":[{\"line\":{\"colorbar\":{\"outlinewidth\":1,\"tickcolor\":\"rgb(36,36,36)\",\"ticks\":\"outside\"}},\"marker\":{\"colorbar\":{\"outlinewidth\":1,\"tickcolor\":\"rgb(36,36,36)\",\"ticks\":\"outside\"}},\"type\":\"scatter3d\"}],\"scattercarpet\":[{\"marker\":{\"colorbar\":{\"outlinewidth\":1,\"tickcolor\":\"rgb(36,36,36)\",\"ticks\":\"outside\"}},\"type\":\"scattercarpet\"}],\"scattergeo\":[{\"marker\":{\"colorbar\":{\"outlinewidth\":1,\"tickcolor\":\"rgb(36,36,36)\",\"ticks\":\"outside\"}},\"type\":\"scattergeo\"}],\"scattergl\":[{\"marker\":{\"colorbar\":{\"outlinewidth\":1,\"tickcolor\":\"rgb(36,36,36)\",\"ticks\":\"outside\"}},\"type\":\"scattergl\"}],\"scattermapbox\":[{\"marker\":{\"colorbar\":{\"outlinewidth\":1,\"tickcolor\":\"rgb(36,36,36)\",\"ticks\":\"outside\"}},\"type\":\"scattermapbox\"}],\"scatterpolargl\":[{\"marker\":{\"colorbar\":{\"outlinewidth\":1,\"tickcolor\":\"rgb(36,36,36)\",\"ticks\":\"outside\"}},\"type\":\"scatterpolargl\"}],\"scatterpolar\":[{\"marker\":{\"colorbar\":{\"outlinewidth\":1,\"tickcolor\":\"rgb(36,36,36)\",\"ticks\":\"outside\"}},\"type\":\"scatterpolar\"}],\"scatter\":[{\"marker\":{\"colorbar\":{\"outlinewidth\":1,\"tickcolor\":\"rgb(36,36,36)\",\"ticks\":\"outside\"}},\"type\":\"scatter\"}],\"scatterternary\":[{\"marker\":{\"colorbar\":{\"outlinewidth\":1,\"tickcolor\":\"rgb(36,36,36)\",\"ticks\":\"outside\"}},\"type\":\"scatterternary\"}],\"surface\":[{\"colorbar\":{\"outlinewidth\":1,\"tickcolor\":\"rgb(36,36,36)\",\"ticks\":\"outside\"},\"colorscale\":[[0.0,\"#440154\"],[0.1111111111111111,\"#482878\"],[0.2222222222222222,\"#3e4989\"],[0.3333333333333333,\"#31688e\"],[0.4444444444444444,\"#26828e\"],[0.5555555555555556,\"#1f9e89\"],[0.6666666666666666,\"#35b779\"],[0.7777777777777778,\"#6ece58\"],[0.8888888888888888,\"#b5de2b\"],[1.0,\"#fde725\"]],\"type\":\"surface\"}],\"table\":[{\"cells\":{\"fill\":{\"color\":\"rgb(237,237,237)\"},\"line\":{\"color\":\"white\"}},\"header\":{\"fill\":{\"color\":\"rgb(217,217,217)\"},\"line\":{\"color\":\"white\"}},\"type\":\"table\"}]},\"layout\":{\"annotationdefaults\":{\"arrowhead\":0,\"arrowwidth\":1},\"autotypenumbers\":\"strict\",\"coloraxis\":{\"colorbar\":{\"outlinewidth\":1,\"tickcolor\":\"rgb(36,36,36)\",\"ticks\":\"outside\"}},\"colorscale\":{\"diverging\":[[0.0,\"rgb(103,0,31)\"],[0.1,\"rgb(178,24,43)\"],[0.2,\"rgb(214,96,77)\"],[0.3,\"rgb(244,165,130)\"],[0.4,\"rgb(253,219,199)\"],[0.5,\"rgb(247,247,247)\"],[0.6,\"rgb(209,229,240)\"],[0.7,\"rgb(146,197,222)\"],[0.8,\"rgb(67,147,195)\"],[0.9,\"rgb(33,102,172)\"],[1.0,\"rgb(5,48,97)\"]],\"sequential\":[[0.0,\"#440154\"],[0.1111111111111111,\"#482878\"],[0.2222222222222222,\"#3e4989\"],[0.3333333333333333,\"#31688e\"],[0.4444444444444444,\"#26828e\"],[0.5555555555555556,\"#1f9e89\"],[0.6666666666666666,\"#35b779\"],[0.7777777777777778,\"#6ece58\"],[0.8888888888888888,\"#b5de2b\"],[1.0,\"#fde725\"]],\"sequentialminus\":[[0.0,\"#440154\"],[0.1111111111111111,\"#482878\"],[0.2222222222222222,\"#3e4989\"],[0.3333333333333333,\"#31688e\"],[0.4444444444444444,\"#26828e\"],[0.5555555555555556,\"#1f9e89\"],[0.6666666666666666,\"#35b779\"],[0.7777777777777778,\"#6ece58\"],[0.8888888888888888,\"#b5de2b\"],[1.0,\"#fde725\"]]},\"colorway\":[\"#1F77B4\",\"#FF7F0E\",\"#2CA02C\",\"#D62728\",\"#9467BD\",\"#8C564B\",\"#E377C2\",\"#7F7F7F\",\"#BCBD22\",\"#17BECF\"],\"font\":{\"color\":\"rgb(36,36,36)\"},\"geo\":{\"bgcolor\":\"white\",\"lakecolor\":\"white\",\"landcolor\":\"white\",\"showlakes\":true,\"showland\":true,\"subunitcolor\":\"white\"},\"hoverlabel\":{\"align\":\"left\"},\"hovermode\":\"closest\",\"mapbox\":{\"style\":\"light\"},\"paper_bgcolor\":\"white\",\"plot_bgcolor\":\"white\",\"polar\":{\"angularaxis\":{\"gridcolor\":\"rgb(232,232,232)\",\"linecolor\":\"rgb(36,36,36)\",\"showgrid\":false,\"showline\":true,\"ticks\":\"outside\"},\"bgcolor\":\"white\",\"radialaxis\":{\"gridcolor\":\"rgb(232,232,232)\",\"linecolor\":\"rgb(36,36,36)\",\"showgrid\":false,\"showline\":true,\"ticks\":\"outside\"}},\"scene\":{\"xaxis\":{\"backgroundcolor\":\"white\",\"gridcolor\":\"rgb(232,232,232)\",\"gridwidth\":2,\"linecolor\":\"rgb(36,36,36)\",\"showbackground\":true,\"showgrid\":false,\"showline\":true,\"ticks\":\"outside\",\"zeroline\":false,\"zerolinecolor\":\"rgb(36,36,36)\"},\"yaxis\":{\"backgroundcolor\":\"white\",\"gridcolor\":\"rgb(232,232,232)\",\"gridwidth\":2,\"linecolor\":\"rgb(36,36,36)\",\"showbackground\":true,\"showgrid\":false,\"showline\":true,\"ticks\":\"outside\",\"zeroline\":false,\"zerolinecolor\":\"rgb(36,36,36)\"},\"zaxis\":{\"backgroundcolor\":\"white\",\"gridcolor\":\"rgb(232,232,232)\",\"gridwidth\":2,\"linecolor\":\"rgb(36,36,36)\",\"showbackground\":true,\"showgrid\":false,\"showline\":true,\"ticks\":\"outside\",\"zeroline\":false,\"zerolinecolor\":\"rgb(36,36,36)\"}},\"shapedefaults\":{\"fillcolor\":\"black\",\"line\":{\"width\":0},\"opacity\":0.3},\"ternary\":{\"aaxis\":{\"gridcolor\":\"rgb(232,232,232)\",\"linecolor\":\"rgb(36,36,36)\",\"showgrid\":false,\"showline\":true,\"ticks\":\"outside\"},\"baxis\":{\"gridcolor\":\"rgb(232,232,232)\",\"linecolor\":\"rgb(36,36,36)\",\"showgrid\":false,\"showline\":true,\"ticks\":\"outside\"},\"bgcolor\":\"white\",\"caxis\":{\"gridcolor\":\"rgb(232,232,232)\",\"linecolor\":\"rgb(36,36,36)\",\"showgrid\":false,\"showline\":true,\"ticks\":\"outside\"}},\"title\":{\"x\":0.05},\"xaxis\":{\"automargin\":true,\"gridcolor\":\"rgb(232,232,232)\",\"linecolor\":\"rgb(36,36,36)\",\"showgrid\":false,\"showline\":true,\"ticks\":\"outside\",\"title\":{\"standoff\":15},\"zeroline\":false,\"zerolinecolor\":\"rgb(36,36,36)\"},\"yaxis\":{\"automargin\":true,\"gridcolor\":\"rgb(232,232,232)\",\"linecolor\":\"rgb(36,36,36)\",\"showgrid\":false,\"showline\":true,\"ticks\":\"outside\",\"title\":{\"standoff\":15},\"zeroline\":false,\"zerolinecolor\":\"rgb(36,36,36)\"},\"margin\":{\"b\":0,\"l\":20,\"r\":20,\"t\":40}}}},                        {\"responsive\": true}                    ).then(function(){\n",
       "                            \n",
       "var gd = document.getElementById('f9597c95-602f-4deb-9a2c-3a8cf277cf04');\n",
       "var x = new MutationObserver(function (mutations, observer) {{\n",
       "        var display = window.getComputedStyle(gd).display;\n",
       "        if (!display || display === 'none') {{\n",
       "            console.log([gd, 'removed!']);\n",
       "            Plotly.purge(gd);\n",
       "            observer.disconnect();\n",
       "        }}\n",
       "}});\n",
       "\n",
       "// Listen for the removal of the full notebook cells\n",
       "var notebookContainer = gd.closest('#notebook-container');\n",
       "if (notebookContainer) {{\n",
       "    x.observe(notebookContainer, {childList: true});\n",
       "}}\n",
       "\n",
       "// Listen for the clearing of the current output cell\n",
       "var outputEl = gd.closest('.output');\n",
       "if (outputEl) {{\n",
       "    x.observe(outputEl, {childList: true});\n",
       "}}\n",
       "\n",
       "                        })                };                });            </script>        </div>"
      ]
     },
     "metadata": {},
     "output_type": "display_data"
    }
   ],
   "source": [
    "ps  = np.concatenate([[.5001], np.linspace(.55, 1, 10)])\n",
    "Ts = [1,5,10,15,20,25,50,75,100,125,150,175,200,250,300,400,500,600]\n",
    "\n",
    "results = np.array([np.var(np.random.binomial(Ts, p, (10000, len(Ts))) >= (np.array(Ts)/2), axis=0, ddof=1) for p in ps])\n",
    "\n",
    "df = pd.DataFrame(results, columns=Ts, index=ps)\n",
    "fig = go.Figure(go.Heatmap(x=df.columns.tolist(), y=df.index.tolist(), z=df.values.tolist(), colorscale=\"amp\"),\n",
    "          layout=go.Layout(title=r\"$\\text{Variance of Committee Decision - Independent Members}$\", \n",
    "                           xaxis=dict(title=r\"$T\\text{ - Committee Size}$\", type=\"category\"),\n",
    "                           yaxis=dict(title=r\"$p\\text{ - Member Correctness Probability}$\"),\n",
    "                           width=800, height=500))\n",
    "\n",
    "# fig.write_image(\"../figures/uncorrelated_committee_decision.png\")\n",
    "fig.show()"
   ]
  },
  {
   "cell_type": "markdown",
   "metadata": {},
   "source": [
    "For a set of correlated random variables, with correlation coefficient of $\\rho$ and variance of $\\sigma^2$, the variane of the committee's decision is: $$ Var\\left(\\sum X_i\\right) = \\rho \\sigma^2 + \\frac{1}{T}\\left(1-\\rho\\right)\\sigma^2 $$\n",
    "Let us set $\\sigma^2$ and investigate the relation between $\\rho$ and $T$."
   ]
  },
  {
   "cell_type": "code",
   "execution_count": 11,
   "metadata": {
    "scrolled": true
   },
   "outputs": [
    {
     "data": {
      "application/vnd.plotly.v1+json": {
       "config": {
        "plotlyServerURL": "https://plot.ly"
       },
       "data": [
        {
         "colorscale": [
          [
           0,
           "rgb(241, 236, 236)"
          ],
          [
           0.09090909090909091,
           "rgb(230, 209, 203)"
          ],
          [
           0.18181818181818182,
           "rgb(221, 182, 170)"
          ],
          [
           0.2727272727272727,
           "rgb(213, 156, 137)"
          ],
          [
           0.36363636363636365,
           "rgb(205, 129, 103)"
          ],
          [
           0.45454545454545453,
           "rgb(196, 102, 73)"
          ],
          [
           0.5454545454545454,
           "rgb(186, 74, 47)"
          ],
          [
           0.6363636363636364,
           "rgb(172, 44, 36)"
          ],
          [
           0.7272727272727273,
           "rgb(149, 19, 39)"
          ],
          [
           0.8181818181818182,
           "rgb(120, 14, 40)"
          ],
          [
           0.9090909090909091,
           "rgb(89, 13, 31)"
          ],
          [
           1,
           "rgb(60, 9, 17)"
          ]
         ],
         "type": "heatmap",
         "x": [
          1,
          5,
          10,
          15,
          20,
          25,
          50,
          75,
          100,
          125,
          150,
          175,
          200,
          250,
          300,
          400,
          500,
          600
         ],
         "y": [
          0,
          0.1111111111111111,
          0.2222222222222222,
          0.3333333333333333,
          0.4444444444444444,
          0.5555555555555556,
          0.6666666666666666,
          0.7777777777777777,
          0.8888888888888888,
          1
         ],
         "z": [
          [
           0.18528063999999855,
           0.08863710999998638,
           0.06466975000000928,
           0.013706790000002212,
           0.012148710000002387,
           0.003189760000000839,
           9.999000000003788E-5,
           0,
           0,
           0,
           0,
           0,
           0,
           0,
           0,
           0,
           0,
           0
          ],
          [
           0.17881775999999144,
           0.10269756000001748,
           0.0871877499999954,
           0.032377749999999164,
           0.03209776000000095,
           0.01331774999999775,
           0.003587039999999525,
           3.998399999999314E-4,
           9.99900000000441E-5,
           0,
           0,
           0,
           0,
           0,
           0,
           0,
           0,
           0
          ],
          [
           0.18317774999997116,
           0.12637744000001086,
           0.12147775000001007,
           0.0762777599999963,
           0.08058544000001214,
           0.05357376000000239,
           0.03488955999999771,
           0.015065910000001353,
           0.010585510000001101,
           0.005172959999999481,
           0.003984000000000096,
           0.0024937499999995246,
           0.002294710000000356,
           6.995099999999711E-4,
           3.998399999999445E-4,
           0,
           0,
           0
          ],
          [
           0.1845663599999618,
           0.14333243999999035,
           0.15001756000002225,
           0.12119079000000388,
           0.13248816000000896,
           0.11684798999999176,
           0.1209753600000161,
           0.10779559000002123,
           0.1130999999999955,
           0.10377024000000891,
           0.10862399999998358,
           0.10162095999998144,
           0.10537191000001773,
           0.10046311000001307,
           0.09774395999998212,
           0.09397500000000933,
           0.0890385600000062,
           0.08831559000000315
          ],
          [
           0.18369375000001678,
           0.15813038999998436,
           0.16848975000003633,
           0.15813038999998477,
           0.1683755100000144,
           0.16256150999996388,
           0.1732155900000361,
           0.17387918999999571,
           0.17817600000001171,
           0.17924399999999233,
           0.18077838999999557,
           0.1814607600000181,
           0.18250396000003039,
           0.18312603999996646,
           0.18322943999998006,
           0.18364223999998422,
           0.18369375000001678,
           0.18369375000001678
          ],
          [
           0.18109375000001507,
           0.1677457600000137,
           0.17585271000001623,
           0.1727159999999659,
           0.17876438999998565,
           0.17742363999997285,
           0.18067311000003977,
           0.18098870999998637,
           0.18109375000001507,
           0.18109375000001507,
           0.18109375000001507,
           0.18109375000001507,
           0.18109375000001507,
           0.18109375000001507,
           0.18109375000001507,
           0.18109375000001507,
           0.18109375000001507,
           0.18109375000001507
          ],
          [
           0.18213975000003224,
           0.17742363999997302,
           0.18093615999999293,
           0.18077838999999557,
           0.1818267900000101,
           0.1818267900000101,
           0.18213975000003224,
           0.18213975000003224,
           0.18213975000003224,
           0.18213975000003224,
           0.18213975000003224,
           0.18213975000003224,
           0.18213975000003224,
           0.18213975000003224,
           0.18213975000003224,
           0.18213975000003224,
           0.18213975000003224,
           0.18213975000003224
          ],
          [
           0.17617910999998365,
           0.17426496000003167,
           0.17607039000002386,
           0.17612476000001231,
           0.17617910999998365,
           0.17617910999998365,
           0.17617910999998365,
           0.17617910999998365,
           0.17617910999998365,
           0.17617910999998365,
           0.17617910999998365,
           0.17617910999998365,
           0.17617910999998365,
           0.17617910999998365,
           0.17617910999998365,
           0.17617910999998365,
           0.17617910999998365,
           0.17617910999998365
          ],
          [
           0.18739996000002349,
           0.187299839999969,
           0.18739996000002349,
           0.18739996000002349,
           0.18739996000002349,
           0.18739996000002349,
           0.18739996000002349,
           0.18739996000002349,
           0.18739996000002349,
           0.18739996000002349,
           0.18739996000002349,
           0.18739996000002349,
           0.18739996000002349,
           0.18739996000002349,
           0.18739996000002349,
           0.18739996000002349,
           0.18739996000002349,
           0.18739996000002349
          ],
          [
           0.18619324000000728,
           0.18619324000000728,
           0.18619324000000728,
           0.18619324000000728,
           0.18619324000000728,
           0.18619324000000728,
           0.18619324000000728,
           0.18619324000000728,
           0.18619324000000728,
           0.18619324000000728,
           0.18619324000000728,
           0.18619324000000728,
           0.18619324000000728,
           0.18619324000000728,
           0.18619324000000728,
           0.18619324000000728,
           0.18619324000000728,
           0.18619324000000728
          ]
         ]
        }
       ],
       "layout": {
        "height": 300,
        "template": {
         "data": {
          "bar": [
           {
            "error_x": {
             "color": "rgb(36,36,36)"
            },
            "error_y": {
             "color": "rgb(36,36,36)"
            },
            "marker": {
             "line": {
              "color": "white",
              "width": 0.5
             },
             "pattern": {
              "fillmode": "overlay",
              "size": 10,
              "solidity": 0.2
             }
            },
            "type": "bar"
           }
          ],
          "barpolar": [
           {
            "marker": {
             "line": {
              "color": "white",
              "width": 0.5
             },
             "pattern": {
              "fillmode": "overlay",
              "size": 10,
              "solidity": 0.2
             }
            },
            "type": "barpolar"
           }
          ],
          "carpet": [
           {
            "aaxis": {
             "endlinecolor": "rgb(36,36,36)",
             "gridcolor": "white",
             "linecolor": "white",
             "minorgridcolor": "white",
             "startlinecolor": "rgb(36,36,36)"
            },
            "baxis": {
             "endlinecolor": "rgb(36,36,36)",
             "gridcolor": "white",
             "linecolor": "white",
             "minorgridcolor": "white",
             "startlinecolor": "rgb(36,36,36)"
            },
            "type": "carpet"
           }
          ],
          "choropleth": [
           {
            "colorbar": {
             "outlinewidth": 1,
             "tickcolor": "rgb(36,36,36)",
             "ticks": "outside"
            },
            "type": "choropleth"
           }
          ],
          "contour": [
           {
            "colorbar": {
             "outlinewidth": 1,
             "tickcolor": "rgb(36,36,36)",
             "ticks": "outside"
            },
            "colorscale": [
             [
              0,
              "#440154"
             ],
             [
              0.1111111111111111,
              "#482878"
             ],
             [
              0.2222222222222222,
              "#3e4989"
             ],
             [
              0.3333333333333333,
              "#31688e"
             ],
             [
              0.4444444444444444,
              "#26828e"
             ],
             [
              0.5555555555555556,
              "#1f9e89"
             ],
             [
              0.6666666666666666,
              "#35b779"
             ],
             [
              0.7777777777777778,
              "#6ece58"
             ],
             [
              0.8888888888888888,
              "#b5de2b"
             ],
             [
              1,
              "#fde725"
             ]
            ],
            "type": "contour"
           }
          ],
          "contourcarpet": [
           {
            "colorbar": {
             "outlinewidth": 1,
             "tickcolor": "rgb(36,36,36)",
             "ticks": "outside"
            },
            "type": "contourcarpet"
           }
          ],
          "heatmap": [
           {
            "colorbar": {
             "outlinewidth": 1,
             "tickcolor": "rgb(36,36,36)",
             "ticks": "outside"
            },
            "colorscale": [
             [
              0,
              "#440154"
             ],
             [
              0.1111111111111111,
              "#482878"
             ],
             [
              0.2222222222222222,
              "#3e4989"
             ],
             [
              0.3333333333333333,
              "#31688e"
             ],
             [
              0.4444444444444444,
              "#26828e"
             ],
             [
              0.5555555555555556,
              "#1f9e89"
             ],
             [
              0.6666666666666666,
              "#35b779"
             ],
             [
              0.7777777777777778,
              "#6ece58"
             ],
             [
              0.8888888888888888,
              "#b5de2b"
             ],
             [
              1,
              "#fde725"
             ]
            ],
            "type": "heatmap"
           }
          ],
          "heatmapgl": [
           {
            "colorbar": {
             "outlinewidth": 1,
             "tickcolor": "rgb(36,36,36)",
             "ticks": "outside"
            },
            "colorscale": [
             [
              0,
              "#440154"
             ],
             [
              0.1111111111111111,
              "#482878"
             ],
             [
              0.2222222222222222,
              "#3e4989"
             ],
             [
              0.3333333333333333,
              "#31688e"
             ],
             [
              0.4444444444444444,
              "#26828e"
             ],
             [
              0.5555555555555556,
              "#1f9e89"
             ],
             [
              0.6666666666666666,
              "#35b779"
             ],
             [
              0.7777777777777778,
              "#6ece58"
             ],
             [
              0.8888888888888888,
              "#b5de2b"
             ],
             [
              1,
              "#fde725"
             ]
            ],
            "type": "heatmapgl"
           }
          ],
          "histogram": [
           {
            "marker": {
             "line": {
              "color": "white",
              "width": 0.6
             }
            },
            "type": "histogram"
           }
          ],
          "histogram2d": [
           {
            "colorbar": {
             "outlinewidth": 1,
             "tickcolor": "rgb(36,36,36)",
             "ticks": "outside"
            },
            "colorscale": [
             [
              0,
              "#440154"
             ],
             [
              0.1111111111111111,
              "#482878"
             ],
             [
              0.2222222222222222,
              "#3e4989"
             ],
             [
              0.3333333333333333,
              "#31688e"
             ],
             [
              0.4444444444444444,
              "#26828e"
             ],
             [
              0.5555555555555556,
              "#1f9e89"
             ],
             [
              0.6666666666666666,
              "#35b779"
             ],
             [
              0.7777777777777778,
              "#6ece58"
             ],
             [
              0.8888888888888888,
              "#b5de2b"
             ],
             [
              1,
              "#fde725"
             ]
            ],
            "type": "histogram2d"
           }
          ],
          "histogram2dcontour": [
           {
            "colorbar": {
             "outlinewidth": 1,
             "tickcolor": "rgb(36,36,36)",
             "ticks": "outside"
            },
            "colorscale": [
             [
              0,
              "#440154"
             ],
             [
              0.1111111111111111,
              "#482878"
             ],
             [
              0.2222222222222222,
              "#3e4989"
             ],
             [
              0.3333333333333333,
              "#31688e"
             ],
             [
              0.4444444444444444,
              "#26828e"
             ],
             [
              0.5555555555555556,
              "#1f9e89"
             ],
             [
              0.6666666666666666,
              "#35b779"
             ],
             [
              0.7777777777777778,
              "#6ece58"
             ],
             [
              0.8888888888888888,
              "#b5de2b"
             ],
             [
              1,
              "#fde725"
             ]
            ],
            "type": "histogram2dcontour"
           }
          ],
          "mesh3d": [
           {
            "colorbar": {
             "outlinewidth": 1,
             "tickcolor": "rgb(36,36,36)",
             "ticks": "outside"
            },
            "type": "mesh3d"
           }
          ],
          "parcoords": [
           {
            "line": {
             "colorbar": {
              "outlinewidth": 1,
              "tickcolor": "rgb(36,36,36)",
              "ticks": "outside"
             }
            },
            "type": "parcoords"
           }
          ],
          "pie": [
           {
            "automargin": true,
            "type": "pie"
           }
          ],
          "scatter": [
           {
            "marker": {
             "colorbar": {
              "outlinewidth": 1,
              "tickcolor": "rgb(36,36,36)",
              "ticks": "outside"
             }
            },
            "type": "scatter"
           }
          ],
          "scatter3d": [
           {
            "line": {
             "colorbar": {
              "outlinewidth": 1,
              "tickcolor": "rgb(36,36,36)",
              "ticks": "outside"
             }
            },
            "marker": {
             "colorbar": {
              "outlinewidth": 1,
              "tickcolor": "rgb(36,36,36)",
              "ticks": "outside"
             }
            },
            "type": "scatter3d"
           }
          ],
          "scattercarpet": [
           {
            "marker": {
             "colorbar": {
              "outlinewidth": 1,
              "tickcolor": "rgb(36,36,36)",
              "ticks": "outside"
             }
            },
            "type": "scattercarpet"
           }
          ],
          "scattergeo": [
           {
            "marker": {
             "colorbar": {
              "outlinewidth": 1,
              "tickcolor": "rgb(36,36,36)",
              "ticks": "outside"
             }
            },
            "type": "scattergeo"
           }
          ],
          "scattergl": [
           {
            "marker": {
             "colorbar": {
              "outlinewidth": 1,
              "tickcolor": "rgb(36,36,36)",
              "ticks": "outside"
             }
            },
            "type": "scattergl"
           }
          ],
          "scattermapbox": [
           {
            "marker": {
             "colorbar": {
              "outlinewidth": 1,
              "tickcolor": "rgb(36,36,36)",
              "ticks": "outside"
             }
            },
            "type": "scattermapbox"
           }
          ],
          "scatterpolar": [
           {
            "marker": {
             "colorbar": {
              "outlinewidth": 1,
              "tickcolor": "rgb(36,36,36)",
              "ticks": "outside"
             }
            },
            "type": "scatterpolar"
           }
          ],
          "scatterpolargl": [
           {
            "marker": {
             "colorbar": {
              "outlinewidth": 1,
              "tickcolor": "rgb(36,36,36)",
              "ticks": "outside"
             }
            },
            "type": "scatterpolargl"
           }
          ],
          "scatterternary": [
           {
            "marker": {
             "colorbar": {
              "outlinewidth": 1,
              "tickcolor": "rgb(36,36,36)",
              "ticks": "outside"
             }
            },
            "type": "scatterternary"
           }
          ],
          "surface": [
           {
            "colorbar": {
             "outlinewidth": 1,
             "tickcolor": "rgb(36,36,36)",
             "ticks": "outside"
            },
            "colorscale": [
             [
              0,
              "#440154"
             ],
             [
              0.1111111111111111,
              "#482878"
             ],
             [
              0.2222222222222222,
              "#3e4989"
             ],
             [
              0.3333333333333333,
              "#31688e"
             ],
             [
              0.4444444444444444,
              "#26828e"
             ],
             [
              0.5555555555555556,
              "#1f9e89"
             ],
             [
              0.6666666666666666,
              "#35b779"
             ],
             [
              0.7777777777777778,
              "#6ece58"
             ],
             [
              0.8888888888888888,
              "#b5de2b"
             ],
             [
              1,
              "#fde725"
             ]
            ],
            "type": "surface"
           }
          ],
          "table": [
           {
            "cells": {
             "fill": {
              "color": "rgb(237,237,237)"
             },
             "line": {
              "color": "white"
             }
            },
            "header": {
             "fill": {
              "color": "rgb(217,217,217)"
             },
             "line": {
              "color": "white"
             }
            },
            "type": "table"
           }
          ]
         },
         "layout": {
          "annotationdefaults": {
           "arrowhead": 0,
           "arrowwidth": 1
          },
          "autotypenumbers": "strict",
          "coloraxis": {
           "colorbar": {
            "outlinewidth": 1,
            "tickcolor": "rgb(36,36,36)",
            "ticks": "outside"
           }
          },
          "colorscale": {
           "diverging": [
            [
             0,
             "rgb(103,0,31)"
            ],
            [
             0.1,
             "rgb(178,24,43)"
            ],
            [
             0.2,
             "rgb(214,96,77)"
            ],
            [
             0.3,
             "rgb(244,165,130)"
            ],
            [
             0.4,
             "rgb(253,219,199)"
            ],
            [
             0.5,
             "rgb(247,247,247)"
            ],
            [
             0.6,
             "rgb(209,229,240)"
            ],
            [
             0.7,
             "rgb(146,197,222)"
            ],
            [
             0.8,
             "rgb(67,147,195)"
            ],
            [
             0.9,
             "rgb(33,102,172)"
            ],
            [
             1,
             "rgb(5,48,97)"
            ]
           ],
           "sequential": [
            [
             0,
             "#440154"
            ],
            [
             0.1111111111111111,
             "#482878"
            ],
            [
             0.2222222222222222,
             "#3e4989"
            ],
            [
             0.3333333333333333,
             "#31688e"
            ],
            [
             0.4444444444444444,
             "#26828e"
            ],
            [
             0.5555555555555556,
             "#1f9e89"
            ],
            [
             0.6666666666666666,
             "#35b779"
            ],
            [
             0.7777777777777778,
             "#6ece58"
            ],
            [
             0.8888888888888888,
             "#b5de2b"
            ],
            [
             1,
             "#fde725"
            ]
           ],
           "sequentialminus": [
            [
             0,
             "#440154"
            ],
            [
             0.1111111111111111,
             "#482878"
            ],
            [
             0.2222222222222222,
             "#3e4989"
            ],
            [
             0.3333333333333333,
             "#31688e"
            ],
            [
             0.4444444444444444,
             "#26828e"
            ],
            [
             0.5555555555555556,
             "#1f9e89"
            ],
            [
             0.6666666666666666,
             "#35b779"
            ],
            [
             0.7777777777777778,
             "#6ece58"
            ],
            [
             0.8888888888888888,
             "#b5de2b"
            ],
            [
             1,
             "#fde725"
            ]
           ]
          },
          "colorway": [
           "#1F77B4",
           "#FF7F0E",
           "#2CA02C",
           "#D62728",
           "#9467BD",
           "#8C564B",
           "#E377C2",
           "#7F7F7F",
           "#BCBD22",
           "#17BECF"
          ],
          "font": {
           "color": "rgb(36,36,36)"
          },
          "geo": {
           "bgcolor": "white",
           "lakecolor": "white",
           "landcolor": "white",
           "showlakes": true,
           "showland": true,
           "subunitcolor": "white"
          },
          "hoverlabel": {
           "align": "left"
          },
          "hovermode": "closest",
          "mapbox": {
           "style": "light"
          },
          "margin": {
           "b": 0,
           "l": 20,
           "r": 20,
           "t": 40
          },
          "paper_bgcolor": "white",
          "plot_bgcolor": "white",
          "polar": {
           "angularaxis": {
            "gridcolor": "rgb(232,232,232)",
            "linecolor": "rgb(36,36,36)",
            "showgrid": false,
            "showline": true,
            "ticks": "outside"
           },
           "bgcolor": "white",
           "radialaxis": {
            "gridcolor": "rgb(232,232,232)",
            "linecolor": "rgb(36,36,36)",
            "showgrid": false,
            "showline": true,
            "ticks": "outside"
           }
          },
          "scene": {
           "xaxis": {
            "backgroundcolor": "white",
            "gridcolor": "rgb(232,232,232)",
            "gridwidth": 2,
            "linecolor": "rgb(36,36,36)",
            "showbackground": true,
            "showgrid": false,
            "showline": true,
            "ticks": "outside",
            "zeroline": false,
            "zerolinecolor": "rgb(36,36,36)"
           },
           "yaxis": {
            "backgroundcolor": "white",
            "gridcolor": "rgb(232,232,232)",
            "gridwidth": 2,
            "linecolor": "rgb(36,36,36)",
            "showbackground": true,
            "showgrid": false,
            "showline": true,
            "ticks": "outside",
            "zeroline": false,
            "zerolinecolor": "rgb(36,36,36)"
           },
           "zaxis": {
            "backgroundcolor": "white",
            "gridcolor": "rgb(232,232,232)",
            "gridwidth": 2,
            "linecolor": "rgb(36,36,36)",
            "showbackground": true,
            "showgrid": false,
            "showline": true,
            "ticks": "outside",
            "zeroline": false,
            "zerolinecolor": "rgb(36,36,36)"
           }
          },
          "shapedefaults": {
           "fillcolor": "black",
           "line": {
            "width": 0
           },
           "opacity": 0.3
          },
          "ternary": {
           "aaxis": {
            "gridcolor": "rgb(232,232,232)",
            "linecolor": "rgb(36,36,36)",
            "showgrid": false,
            "showline": true,
            "ticks": "outside"
           },
           "baxis": {
            "gridcolor": "rgb(232,232,232)",
            "linecolor": "rgb(36,36,36)",
            "showgrid": false,
            "showline": true,
            "ticks": "outside"
           },
           "bgcolor": "white",
           "caxis": {
            "gridcolor": "rgb(232,232,232)",
            "linecolor": "rgb(36,36,36)",
            "showgrid": false,
            "showline": true,
            "ticks": "outside"
           }
          },
          "title": {
           "x": 0.05
          },
          "xaxis": {
           "automargin": true,
           "gridcolor": "rgb(232,232,232)",
           "linecolor": "rgb(36,36,36)",
           "showgrid": false,
           "showline": true,
           "ticks": "outside",
           "title": {
            "standoff": 15
           },
           "zeroline": false,
           "zerolinecolor": "rgb(36,36,36)"
          },
          "yaxis": {
           "automargin": true,
           "gridcolor": "rgb(232,232,232)",
           "linecolor": "rgb(36,36,36)",
           "showgrid": false,
           "showline": true,
           "ticks": "outside",
           "title": {
            "standoff": 15
           },
           "zeroline": false,
           "zerolinecolor": "rgb(36,36,36)"
          }
         }
        },
        "title": {
         "text": "$\\text{Variance of Committee Decision - Correlated Committee Members - Member Decision Variance }\\sigma^2 = 0.24$"
        },
        "width": 500,
        "xaxis": {
         "title": {
          "text": "$T\\text{ - Committee Size}$"
         },
         "type": "category"
        },
        "yaxis": {
         "title": {
          "text": "$\\rho\\text{ - Correlation Between Members}$"
         }
        }
       }
      },
      "text/html": [
       "<div>                            <div id=\"83c0e711-acf0-4b02-b253-9e51f5fbe8a9\" class=\"plotly-graph-div\" style=\"height:300px; width:500px;\"></div>            <script type=\"text/javascript\">                require([\"plotly\"], function(Plotly) {                    window.PLOTLYENV=window.PLOTLYENV || {};                                    if (document.getElementById(\"83c0e711-acf0-4b02-b253-9e51f5fbe8a9\")) {                    Plotly.newPlot(                        \"83c0e711-acf0-4b02-b253-9e51f5fbe8a9\",                        [{\"colorscale\":[[0.0,\"rgb(241, 236, 236)\"],[0.09090909090909091,\"rgb(230, 209, 203)\"],[0.18181818181818182,\"rgb(221, 182, 170)\"],[0.2727272727272727,\"rgb(213, 156, 137)\"],[0.36363636363636365,\"rgb(205, 129, 103)\"],[0.45454545454545453,\"rgb(196, 102, 73)\"],[0.5454545454545454,\"rgb(186, 74, 47)\"],[0.6363636363636364,\"rgb(172, 44, 36)\"],[0.7272727272727273,\"rgb(149, 19, 39)\"],[0.8181818181818182,\"rgb(120, 14, 40)\"],[0.9090909090909091,\"rgb(89, 13, 31)\"],[1.0,\"rgb(60, 9, 17)\"]],\"x\":[1,5,10,15,20,25,50,75,100,125,150,175,200,250,300,400,500,600],\"y\":[0.0,0.1111111111111111,0.2222222222222222,0.3333333333333333,0.4444444444444444,0.5555555555555556,0.6666666666666666,0.7777777777777777,0.8888888888888888,1.0],\"z\":[[0.18528063999999855,0.08863710999998638,0.06466975000000928,0.013706790000002212,0.012148710000002387,0.003189760000000839,9.999000000003788e-05,0.0,0.0,0.0,0.0,0.0,0.0,0.0,0.0,0.0,0.0,0.0],[0.17881775999999144,0.10269756000001748,0.0871877499999954,0.032377749999999164,0.03209776000000095,0.01331774999999775,0.003587039999999525,0.0003998399999999314,9.99900000000441e-05,0.0,0.0,0.0,0.0,0.0,0.0,0.0,0.0,0.0],[0.18317774999997116,0.12637744000001086,0.12147775000001007,0.0762777599999963,0.08058544000001214,0.05357376000000239,0.03488955999999771,0.015065910000001353,0.010585510000001101,0.005172959999999481,0.003984000000000096,0.0024937499999995246,0.002294710000000356,0.0006995099999999711,0.0003998399999999445,0.0,0.0,0.0],[0.1845663599999618,0.14333243999999035,0.15001756000002225,0.12119079000000388,0.13248816000000896,0.11684798999999176,0.1209753600000161,0.10779559000002123,0.1130999999999955,0.10377024000000891,0.10862399999998358,0.10162095999998144,0.10537191000001773,0.10046311000001307,0.09774395999998212,0.09397500000000933,0.0890385600000062,0.08831559000000315],[0.18369375000001678,0.15813038999998436,0.16848975000003633,0.15813038999998477,0.1683755100000144,0.16256150999996388,0.1732155900000361,0.17387918999999571,0.17817600000001171,0.17924399999999233,0.18077838999999557,0.1814607600000181,0.18250396000003039,0.18312603999996646,0.18322943999998006,0.18364223999998422,0.18369375000001678,0.18369375000001678],[0.18109375000001507,0.1677457600000137,0.17585271000001623,0.1727159999999659,0.17876438999998565,0.17742363999997285,0.18067311000003977,0.18098870999998637,0.18109375000001507,0.18109375000001507,0.18109375000001507,0.18109375000001507,0.18109375000001507,0.18109375000001507,0.18109375000001507,0.18109375000001507,0.18109375000001507,0.18109375000001507],[0.18213975000003224,0.17742363999997302,0.18093615999999293,0.18077838999999557,0.1818267900000101,0.1818267900000101,0.18213975000003224,0.18213975000003224,0.18213975000003224,0.18213975000003224,0.18213975000003224,0.18213975000003224,0.18213975000003224,0.18213975000003224,0.18213975000003224,0.18213975000003224,0.18213975000003224,0.18213975000003224],[0.17617910999998365,0.17426496000003167,0.17607039000002386,0.17612476000001231,0.17617910999998365,0.17617910999998365,0.17617910999998365,0.17617910999998365,0.17617910999998365,0.17617910999998365,0.17617910999998365,0.17617910999998365,0.17617910999998365,0.17617910999998365,0.17617910999998365,0.17617910999998365,0.17617910999998365,0.17617910999998365],[0.18739996000002349,0.187299839999969,0.18739996000002349,0.18739996000002349,0.18739996000002349,0.18739996000002349,0.18739996000002349,0.18739996000002349,0.18739996000002349,0.18739996000002349,0.18739996000002349,0.18739996000002349,0.18739996000002349,0.18739996000002349,0.18739996000002349,0.18739996000002349,0.18739996000002349,0.18739996000002349],[0.18619324000000728,0.18619324000000728,0.18619324000000728,0.18619324000000728,0.18619324000000728,0.18619324000000728,0.18619324000000728,0.18619324000000728,0.18619324000000728,0.18619324000000728,0.18619324000000728,0.18619324000000728,0.18619324000000728,0.18619324000000728,0.18619324000000728,0.18619324000000728,0.18619324000000728,0.18619324000000728]],\"type\":\"heatmap\"}],                        {\"height\":300,\"title\":{\"text\":\"$\\\\text{Variance of Committee Decision - Correlated Committee Members - Member Decision Variance }\\\\sigma^2 = 0.24$\"},\"width\":500,\"xaxis\":{\"title\":{\"text\":\"$T\\\\text{ - Committee Size}$\"},\"type\":\"category\"},\"yaxis\":{\"title\":{\"text\":\"$\\\\rho\\\\text{ - Correlation Between Members}$\"}},\"template\":{\"data\":{\"barpolar\":[{\"marker\":{\"line\":{\"color\":\"white\",\"width\":0.5},\"pattern\":{\"fillmode\":\"overlay\",\"size\":10,\"solidity\":0.2}},\"type\":\"barpolar\"}],\"bar\":[{\"error_x\":{\"color\":\"rgb(36,36,36)\"},\"error_y\":{\"color\":\"rgb(36,36,36)\"},\"marker\":{\"line\":{\"color\":\"white\",\"width\":0.5},\"pattern\":{\"fillmode\":\"overlay\",\"size\":10,\"solidity\":0.2}},\"type\":\"bar\"}],\"carpet\":[{\"aaxis\":{\"endlinecolor\":\"rgb(36,36,36)\",\"gridcolor\":\"white\",\"linecolor\":\"white\",\"minorgridcolor\":\"white\",\"startlinecolor\":\"rgb(36,36,36)\"},\"baxis\":{\"endlinecolor\":\"rgb(36,36,36)\",\"gridcolor\":\"white\",\"linecolor\":\"white\",\"minorgridcolor\":\"white\",\"startlinecolor\":\"rgb(36,36,36)\"},\"type\":\"carpet\"}],\"choropleth\":[{\"colorbar\":{\"outlinewidth\":1,\"tickcolor\":\"rgb(36,36,36)\",\"ticks\":\"outside\"},\"type\":\"choropleth\"}],\"contourcarpet\":[{\"colorbar\":{\"outlinewidth\":1,\"tickcolor\":\"rgb(36,36,36)\",\"ticks\":\"outside\"},\"type\":\"contourcarpet\"}],\"contour\":[{\"colorbar\":{\"outlinewidth\":1,\"tickcolor\":\"rgb(36,36,36)\",\"ticks\":\"outside\"},\"colorscale\":[[0.0,\"#440154\"],[0.1111111111111111,\"#482878\"],[0.2222222222222222,\"#3e4989\"],[0.3333333333333333,\"#31688e\"],[0.4444444444444444,\"#26828e\"],[0.5555555555555556,\"#1f9e89\"],[0.6666666666666666,\"#35b779\"],[0.7777777777777778,\"#6ece58\"],[0.8888888888888888,\"#b5de2b\"],[1.0,\"#fde725\"]],\"type\":\"contour\"}],\"heatmapgl\":[{\"colorbar\":{\"outlinewidth\":1,\"tickcolor\":\"rgb(36,36,36)\",\"ticks\":\"outside\"},\"colorscale\":[[0.0,\"#440154\"],[0.1111111111111111,\"#482878\"],[0.2222222222222222,\"#3e4989\"],[0.3333333333333333,\"#31688e\"],[0.4444444444444444,\"#26828e\"],[0.5555555555555556,\"#1f9e89\"],[0.6666666666666666,\"#35b779\"],[0.7777777777777778,\"#6ece58\"],[0.8888888888888888,\"#b5de2b\"],[1.0,\"#fde725\"]],\"type\":\"heatmapgl\"}],\"heatmap\":[{\"colorbar\":{\"outlinewidth\":1,\"tickcolor\":\"rgb(36,36,36)\",\"ticks\":\"outside\"},\"colorscale\":[[0.0,\"#440154\"],[0.1111111111111111,\"#482878\"],[0.2222222222222222,\"#3e4989\"],[0.3333333333333333,\"#31688e\"],[0.4444444444444444,\"#26828e\"],[0.5555555555555556,\"#1f9e89\"],[0.6666666666666666,\"#35b779\"],[0.7777777777777778,\"#6ece58\"],[0.8888888888888888,\"#b5de2b\"],[1.0,\"#fde725\"]],\"type\":\"heatmap\"}],\"histogram2dcontour\":[{\"colorbar\":{\"outlinewidth\":1,\"tickcolor\":\"rgb(36,36,36)\",\"ticks\":\"outside\"},\"colorscale\":[[0.0,\"#440154\"],[0.1111111111111111,\"#482878\"],[0.2222222222222222,\"#3e4989\"],[0.3333333333333333,\"#31688e\"],[0.4444444444444444,\"#26828e\"],[0.5555555555555556,\"#1f9e89\"],[0.6666666666666666,\"#35b779\"],[0.7777777777777778,\"#6ece58\"],[0.8888888888888888,\"#b5de2b\"],[1.0,\"#fde725\"]],\"type\":\"histogram2dcontour\"}],\"histogram2d\":[{\"colorbar\":{\"outlinewidth\":1,\"tickcolor\":\"rgb(36,36,36)\",\"ticks\":\"outside\"},\"colorscale\":[[0.0,\"#440154\"],[0.1111111111111111,\"#482878\"],[0.2222222222222222,\"#3e4989\"],[0.3333333333333333,\"#31688e\"],[0.4444444444444444,\"#26828e\"],[0.5555555555555556,\"#1f9e89\"],[0.6666666666666666,\"#35b779\"],[0.7777777777777778,\"#6ece58\"],[0.8888888888888888,\"#b5de2b\"],[1.0,\"#fde725\"]],\"type\":\"histogram2d\"}],\"histogram\":[{\"marker\":{\"line\":{\"color\":\"white\",\"width\":0.6}},\"type\":\"histogram\"}],\"mesh3d\":[{\"colorbar\":{\"outlinewidth\":1,\"tickcolor\":\"rgb(36,36,36)\",\"ticks\":\"outside\"},\"type\":\"mesh3d\"}],\"parcoords\":[{\"line\":{\"colorbar\":{\"outlinewidth\":1,\"tickcolor\":\"rgb(36,36,36)\",\"ticks\":\"outside\"}},\"type\":\"parcoords\"}],\"pie\":[{\"automargin\":true,\"type\":\"pie\"}],\"scatter3d\":[{\"line\":{\"colorbar\":{\"outlinewidth\":1,\"tickcolor\":\"rgb(36,36,36)\",\"ticks\":\"outside\"}},\"marker\":{\"colorbar\":{\"outlinewidth\":1,\"tickcolor\":\"rgb(36,36,36)\",\"ticks\":\"outside\"}},\"type\":\"scatter3d\"}],\"scattercarpet\":[{\"marker\":{\"colorbar\":{\"outlinewidth\":1,\"tickcolor\":\"rgb(36,36,36)\",\"ticks\":\"outside\"}},\"type\":\"scattercarpet\"}],\"scattergeo\":[{\"marker\":{\"colorbar\":{\"outlinewidth\":1,\"tickcolor\":\"rgb(36,36,36)\",\"ticks\":\"outside\"}},\"type\":\"scattergeo\"}],\"scattergl\":[{\"marker\":{\"colorbar\":{\"outlinewidth\":1,\"tickcolor\":\"rgb(36,36,36)\",\"ticks\":\"outside\"}},\"type\":\"scattergl\"}],\"scattermapbox\":[{\"marker\":{\"colorbar\":{\"outlinewidth\":1,\"tickcolor\":\"rgb(36,36,36)\",\"ticks\":\"outside\"}},\"type\":\"scattermapbox\"}],\"scatterpolargl\":[{\"marker\":{\"colorbar\":{\"outlinewidth\":1,\"tickcolor\":\"rgb(36,36,36)\",\"ticks\":\"outside\"}},\"type\":\"scatterpolargl\"}],\"scatterpolar\":[{\"marker\":{\"colorbar\":{\"outlinewidth\":1,\"tickcolor\":\"rgb(36,36,36)\",\"ticks\":\"outside\"}},\"type\":\"scatterpolar\"}],\"scatter\":[{\"marker\":{\"colorbar\":{\"outlinewidth\":1,\"tickcolor\":\"rgb(36,36,36)\",\"ticks\":\"outside\"}},\"type\":\"scatter\"}],\"scatterternary\":[{\"marker\":{\"colorbar\":{\"outlinewidth\":1,\"tickcolor\":\"rgb(36,36,36)\",\"ticks\":\"outside\"}},\"type\":\"scatterternary\"}],\"surface\":[{\"colorbar\":{\"outlinewidth\":1,\"tickcolor\":\"rgb(36,36,36)\",\"ticks\":\"outside\"},\"colorscale\":[[0.0,\"#440154\"],[0.1111111111111111,\"#482878\"],[0.2222222222222222,\"#3e4989\"],[0.3333333333333333,\"#31688e\"],[0.4444444444444444,\"#26828e\"],[0.5555555555555556,\"#1f9e89\"],[0.6666666666666666,\"#35b779\"],[0.7777777777777778,\"#6ece58\"],[0.8888888888888888,\"#b5de2b\"],[1.0,\"#fde725\"]],\"type\":\"surface\"}],\"table\":[{\"cells\":{\"fill\":{\"color\":\"rgb(237,237,237)\"},\"line\":{\"color\":\"white\"}},\"header\":{\"fill\":{\"color\":\"rgb(217,217,217)\"},\"line\":{\"color\":\"white\"}},\"type\":\"table\"}]},\"layout\":{\"annotationdefaults\":{\"arrowhead\":0,\"arrowwidth\":1},\"autotypenumbers\":\"strict\",\"coloraxis\":{\"colorbar\":{\"outlinewidth\":1,\"tickcolor\":\"rgb(36,36,36)\",\"ticks\":\"outside\"}},\"colorscale\":{\"diverging\":[[0.0,\"rgb(103,0,31)\"],[0.1,\"rgb(178,24,43)\"],[0.2,\"rgb(214,96,77)\"],[0.3,\"rgb(244,165,130)\"],[0.4,\"rgb(253,219,199)\"],[0.5,\"rgb(247,247,247)\"],[0.6,\"rgb(209,229,240)\"],[0.7,\"rgb(146,197,222)\"],[0.8,\"rgb(67,147,195)\"],[0.9,\"rgb(33,102,172)\"],[1.0,\"rgb(5,48,97)\"]],\"sequential\":[[0.0,\"#440154\"],[0.1111111111111111,\"#482878\"],[0.2222222222222222,\"#3e4989\"],[0.3333333333333333,\"#31688e\"],[0.4444444444444444,\"#26828e\"],[0.5555555555555556,\"#1f9e89\"],[0.6666666666666666,\"#35b779\"],[0.7777777777777778,\"#6ece58\"],[0.8888888888888888,\"#b5de2b\"],[1.0,\"#fde725\"]],\"sequentialminus\":[[0.0,\"#440154\"],[0.1111111111111111,\"#482878\"],[0.2222222222222222,\"#3e4989\"],[0.3333333333333333,\"#31688e\"],[0.4444444444444444,\"#26828e\"],[0.5555555555555556,\"#1f9e89\"],[0.6666666666666666,\"#35b779\"],[0.7777777777777778,\"#6ece58\"],[0.8888888888888888,\"#b5de2b\"],[1.0,\"#fde725\"]]},\"colorway\":[\"#1F77B4\",\"#FF7F0E\",\"#2CA02C\",\"#D62728\",\"#9467BD\",\"#8C564B\",\"#E377C2\",\"#7F7F7F\",\"#BCBD22\",\"#17BECF\"],\"font\":{\"color\":\"rgb(36,36,36)\"},\"geo\":{\"bgcolor\":\"white\",\"lakecolor\":\"white\",\"landcolor\":\"white\",\"showlakes\":true,\"showland\":true,\"subunitcolor\":\"white\"},\"hoverlabel\":{\"align\":\"left\"},\"hovermode\":\"closest\",\"mapbox\":{\"style\":\"light\"},\"paper_bgcolor\":\"white\",\"plot_bgcolor\":\"white\",\"polar\":{\"angularaxis\":{\"gridcolor\":\"rgb(232,232,232)\",\"linecolor\":\"rgb(36,36,36)\",\"showgrid\":false,\"showline\":true,\"ticks\":\"outside\"},\"bgcolor\":\"white\",\"radialaxis\":{\"gridcolor\":\"rgb(232,232,232)\",\"linecolor\":\"rgb(36,36,36)\",\"showgrid\":false,\"showline\":true,\"ticks\":\"outside\"}},\"scene\":{\"xaxis\":{\"backgroundcolor\":\"white\",\"gridcolor\":\"rgb(232,232,232)\",\"gridwidth\":2,\"linecolor\":\"rgb(36,36,36)\",\"showbackground\":true,\"showgrid\":false,\"showline\":true,\"ticks\":\"outside\",\"zeroline\":false,\"zerolinecolor\":\"rgb(36,36,36)\"},\"yaxis\":{\"backgroundcolor\":\"white\",\"gridcolor\":\"rgb(232,232,232)\",\"gridwidth\":2,\"linecolor\":\"rgb(36,36,36)\",\"showbackground\":true,\"showgrid\":false,\"showline\":true,\"ticks\":\"outside\",\"zeroline\":false,\"zerolinecolor\":\"rgb(36,36,36)\"},\"zaxis\":{\"backgroundcolor\":\"white\",\"gridcolor\":\"rgb(232,232,232)\",\"gridwidth\":2,\"linecolor\":\"rgb(36,36,36)\",\"showbackground\":true,\"showgrid\":false,\"showline\":true,\"ticks\":\"outside\",\"zeroline\":false,\"zerolinecolor\":\"rgb(36,36,36)\"}},\"shapedefaults\":{\"fillcolor\":\"black\",\"line\":{\"width\":0},\"opacity\":0.3},\"ternary\":{\"aaxis\":{\"gridcolor\":\"rgb(232,232,232)\",\"linecolor\":\"rgb(36,36,36)\",\"showgrid\":false,\"showline\":true,\"ticks\":\"outside\"},\"baxis\":{\"gridcolor\":\"rgb(232,232,232)\",\"linecolor\":\"rgb(36,36,36)\",\"showgrid\":false,\"showline\":true,\"ticks\":\"outside\"},\"bgcolor\":\"white\",\"caxis\":{\"gridcolor\":\"rgb(232,232,232)\",\"linecolor\":\"rgb(36,36,36)\",\"showgrid\":false,\"showline\":true,\"ticks\":\"outside\"}},\"title\":{\"x\":0.05},\"xaxis\":{\"automargin\":true,\"gridcolor\":\"rgb(232,232,232)\",\"linecolor\":\"rgb(36,36,36)\",\"showgrid\":false,\"showline\":true,\"ticks\":\"outside\",\"title\":{\"standoff\":15},\"zeroline\":false,\"zerolinecolor\":\"rgb(36,36,36)\"},\"yaxis\":{\"automargin\":true,\"gridcolor\":\"rgb(232,232,232)\",\"linecolor\":\"rgb(36,36,36)\",\"showgrid\":false,\"showline\":true,\"ticks\":\"outside\",\"title\":{\"standoff\":15},\"zeroline\":false,\"zerolinecolor\":\"rgb(36,36,36)\"},\"margin\":{\"b\":0,\"l\":20,\"r\":20,\"t\":40}}}},                        {\"responsive\": true}                    ).then(function(){\n",
       "                            \n",
       "var gd = document.getElementById('83c0e711-acf0-4b02-b253-9e51f5fbe8a9');\n",
       "var x = new MutationObserver(function (mutations, observer) {{\n",
       "        var display = window.getComputedStyle(gd).display;\n",
       "        if (!display || display === 'none') {{\n",
       "            console.log([gd, 'removed!']);\n",
       "            Plotly.purge(gd);\n",
       "            observer.disconnect();\n",
       "        }}\n",
       "}});\n",
       "\n",
       "// Listen for the removal of the full notebook cells\n",
       "var notebookContainer = gd.closest('#notebook-container');\n",
       "if (notebookContainer) {{\n",
       "    x.observe(notebookContainer, {childList: true});\n",
       "}}\n",
       "\n",
       "// Listen for the clearing of the current output cell\n",
       "var outputEl = gd.closest('.output');\n",
       "if (outputEl) {{\n",
       "    x.observe(outputEl, {childList: true});\n",
       "}}\n",
       "\n",
       "                        })                };                });            </script>        </div>"
      ]
     },
     "metadata": {},
     "output_type": "display_data"
    }
   ],
   "source": [
    "sigma = round((lambda p: p*(1-p))(.6), 3)\n",
    "repeats = 10000\n",
    "rho = np.linspace(0,1, 10)\n",
    "Ts = np.array([1,5,10,15,20,25,50,75,100,125,150,175,200,250,300,400,500,600])\n",
    "\n",
    "variances = np.zeros((len(rho), len(Ts)))\n",
    "for i, r in enumerate(rho):\n",
    "    # Perform `repetitions` times T Bernoulli experiments\n",
    "    decisions = np.random.binomial(1, sigma, size=(repeats, max(Ts)))\n",
    "    change = np.c_[np.zeros(decisions.shape[0]), np.random.uniform(size=(repeats, max(Ts)-1)) <= r]\n",
    "    correlated_decisions = np.ma.array(decisions, mask=change).filled(fill_value=decisions[:,0][:, None])\n",
    "    correlated_decisions[correlated_decisions == 0] = -1\n",
    "\n",
    "    variances[i,:] = np.var(np.cumsum(correlated_decisions, axis=1) >= 0, axis=0)[Ts-1]\n",
    "    \n",
    "df = pd.DataFrame(variances, columns=Ts, index=rho)\n",
    "fig = go.Figure(go.Heatmap(x=df.columns.tolist(), y=df.index.tolist(), z=df.values.tolist(), colorscale=\"amp\"),\n",
    "          layout=go.Layout(title=rf\"$\\text{{Variance of Committee Decision - Correlated Committee Members - Member Decision Variance }}\\sigma^2 = {sigma}$\", \n",
    "                           xaxis=dict(title=r\"$T\\text{ - Committee Size}$\", type=\"category\"),\n",
    "                           yaxis=dict(title=r\"$\\rho\\text{ - Correlation Between Members}$\"),\n",
    "                           width=500, height=300))\n",
    "\n",
    "# fig.write_image(\"../figures/correlated_committee_decision.png\")\n",
    "fig.show()"
   ]
  },
  {
   "cell_type": "markdown",
   "metadata": {},
   "source": [
    "## Bootstrapping\n",
    "### Empirical CDF"
   ]
  },
  {
   "cell_type": "code",
   "execution_count": 12,
   "metadata": {},
   "outputs": [
    {
     "ename": "KeyboardInterrupt",
     "evalue": "",
     "output_type": "error",
     "traceback": [
      "\u001B[1;31m---------------------------------------------------------------------------\u001B[0m",
      "\u001B[1;31mKeyboardInterrupt\u001B[0m                         Traceback (most recent call last)",
      "\u001B[1;32m~\\AppData\\Local\\Temp/ipykernel_13368/3732187978.py\u001B[0m in \u001B[0;36m<module>\u001B[1;34m\u001B[0m\n\u001B[0;32m     22\u001B[0m \u001B[1;33m\u001B[0m\u001B[0m\n\u001B[0;32m     23\u001B[0m \u001B[1;31m# animation_to_gif(fig, \"../figures/empirical_cdf.gif\", 700, width=600, height=450)\u001B[0m\u001B[1;33m\u001B[0m\u001B[1;33m\u001B[0m\u001B[0m\n\u001B[1;32m---> 24\u001B[1;33m \u001B[0mfig\u001B[0m\u001B[1;33m.\u001B[0m\u001B[0mshow\u001B[0m\u001B[1;33m(\u001B[0m\u001B[1;33m)\u001B[0m\u001B[1;33m\u001B[0m\u001B[1;33m\u001B[0m\u001B[0m\n\u001B[0m",
      "\u001B[1;32mC:\\ProgramData\\Anaconda3\\envs\\IML\\lib\\site-packages\\plotly\\basedatatypes.py\u001B[0m in \u001B[0;36mshow\u001B[1;34m(self, *args, **kwargs)\u001B[0m\n\u001B[0;32m   3396\u001B[0m         \u001B[1;32mimport\u001B[0m \u001B[0mplotly\u001B[0m\u001B[1;33m.\u001B[0m\u001B[0mio\u001B[0m \u001B[1;32mas\u001B[0m \u001B[0mpio\u001B[0m\u001B[1;33m\u001B[0m\u001B[1;33m\u001B[0m\u001B[0m\n\u001B[0;32m   3397\u001B[0m \u001B[1;33m\u001B[0m\u001B[0m\n\u001B[1;32m-> 3398\u001B[1;33m         \u001B[1;32mreturn\u001B[0m \u001B[0mpio\u001B[0m\u001B[1;33m.\u001B[0m\u001B[0mshow\u001B[0m\u001B[1;33m(\u001B[0m\u001B[0mself\u001B[0m\u001B[1;33m,\u001B[0m \u001B[1;33m*\u001B[0m\u001B[0margs\u001B[0m\u001B[1;33m,\u001B[0m \u001B[1;33m**\u001B[0m\u001B[0mkwargs\u001B[0m\u001B[1;33m)\u001B[0m\u001B[1;33m\u001B[0m\u001B[1;33m\u001B[0m\u001B[0m\n\u001B[0m\u001B[0;32m   3399\u001B[0m \u001B[1;33m\u001B[0m\u001B[0m\n\u001B[0;32m   3400\u001B[0m     \u001B[1;32mdef\u001B[0m \u001B[0mto_json\u001B[0m\u001B[1;33m(\u001B[0m\u001B[0mself\u001B[0m\u001B[1;33m,\u001B[0m \u001B[1;33m*\u001B[0m\u001B[0margs\u001B[0m\u001B[1;33m,\u001B[0m \u001B[1;33m**\u001B[0m\u001B[0mkwargs\u001B[0m\u001B[1;33m)\u001B[0m\u001B[1;33m:\u001B[0m\u001B[1;33m\u001B[0m\u001B[1;33m\u001B[0m\u001B[0m\n",
      "\u001B[1;32mC:\\ProgramData\\Anaconda3\\envs\\IML\\lib\\site-packages\\plotly\\io\\_renderers.py\u001B[0m in \u001B[0;36mshow\u001B[1;34m(fig, renderer, validate, **kwargs)\u001B[0m\n\u001B[0;32m    399\u001B[0m             )\n\u001B[0;32m    400\u001B[0m \u001B[1;33m\u001B[0m\u001B[0m\n\u001B[1;32m--> 401\u001B[1;33m         \u001B[0mipython_display\u001B[0m\u001B[1;33m.\u001B[0m\u001B[0mdisplay\u001B[0m\u001B[1;33m(\u001B[0m\u001B[0mbundle\u001B[0m\u001B[1;33m,\u001B[0m \u001B[0mraw\u001B[0m\u001B[1;33m=\u001B[0m\u001B[1;32mTrue\u001B[0m\u001B[1;33m)\u001B[0m\u001B[1;33m\u001B[0m\u001B[1;33m\u001B[0m\u001B[0m\n\u001B[0m\u001B[0;32m    402\u001B[0m \u001B[1;33m\u001B[0m\u001B[0m\n\u001B[0;32m    403\u001B[0m     \u001B[1;31m# external renderers\u001B[0m\u001B[1;33m\u001B[0m\u001B[1;33m\u001B[0m\u001B[0m\n",
      "\u001B[1;32mC:\\ProgramData\\Anaconda3\\envs\\IML\\lib\\site-packages\\IPython\\core\\display.py\u001B[0m in \u001B[0;36mdisplay\u001B[1;34m(include, exclude, metadata, transient, display_id, *objs, **kwargs)\u001B[0m\n\u001B[0;32m    316\u001B[0m     \u001B[1;32mfor\u001B[0m \u001B[0mobj\u001B[0m \u001B[1;32min\u001B[0m \u001B[0mobjs\u001B[0m\u001B[1;33m:\u001B[0m\u001B[1;33m\u001B[0m\u001B[1;33m\u001B[0m\u001B[0m\n\u001B[0;32m    317\u001B[0m         \u001B[1;32mif\u001B[0m \u001B[0mraw\u001B[0m\u001B[1;33m:\u001B[0m\u001B[1;33m\u001B[0m\u001B[1;33m\u001B[0m\u001B[0m\n\u001B[1;32m--> 318\u001B[1;33m             \u001B[0mpublish_display_data\u001B[0m\u001B[1;33m(\u001B[0m\u001B[0mdata\u001B[0m\u001B[1;33m=\u001B[0m\u001B[0mobj\u001B[0m\u001B[1;33m,\u001B[0m \u001B[0mmetadata\u001B[0m\u001B[1;33m=\u001B[0m\u001B[0mmetadata\u001B[0m\u001B[1;33m,\u001B[0m \u001B[1;33m**\u001B[0m\u001B[0mkwargs\u001B[0m\u001B[1;33m)\u001B[0m\u001B[1;33m\u001B[0m\u001B[1;33m\u001B[0m\u001B[0m\n\u001B[0m\u001B[0;32m    319\u001B[0m         \u001B[1;32melse\u001B[0m\u001B[1;33m:\u001B[0m\u001B[1;33m\u001B[0m\u001B[1;33m\u001B[0m\u001B[0m\n\u001B[0;32m    320\u001B[0m             \u001B[0mformat_dict\u001B[0m\u001B[1;33m,\u001B[0m \u001B[0mmd_dict\u001B[0m \u001B[1;33m=\u001B[0m \u001B[0mformat\u001B[0m\u001B[1;33m(\u001B[0m\u001B[0mobj\u001B[0m\u001B[1;33m,\u001B[0m \u001B[0minclude\u001B[0m\u001B[1;33m=\u001B[0m\u001B[0minclude\u001B[0m\u001B[1;33m,\u001B[0m \u001B[0mexclude\u001B[0m\u001B[1;33m=\u001B[0m\u001B[0mexclude\u001B[0m\u001B[1;33m)\u001B[0m\u001B[1;33m\u001B[0m\u001B[1;33m\u001B[0m\u001B[0m\n",
      "\u001B[1;32mC:\\ProgramData\\Anaconda3\\envs\\IML\\lib\\site-packages\\IPython\\core\\display.py\u001B[0m in \u001B[0;36mpublish_display_data\u001B[1;34m(data, metadata, source, transient, **kwargs)\u001B[0m\n\u001B[0;32m    117\u001B[0m         \u001B[0mkwargs\u001B[0m\u001B[1;33m[\u001B[0m\u001B[1;34m'transient'\u001B[0m\u001B[1;33m]\u001B[0m \u001B[1;33m=\u001B[0m \u001B[0mtransient\u001B[0m\u001B[1;33m\u001B[0m\u001B[1;33m\u001B[0m\u001B[0m\n\u001B[0;32m    118\u001B[0m \u001B[1;33m\u001B[0m\u001B[0m\n\u001B[1;32m--> 119\u001B[1;33m     display_pub.publish(\n\u001B[0m\u001B[0;32m    120\u001B[0m         \u001B[0mdata\u001B[0m\u001B[1;33m=\u001B[0m\u001B[0mdata\u001B[0m\u001B[1;33m,\u001B[0m\u001B[1;33m\u001B[0m\u001B[1;33m\u001B[0m\u001B[0m\n\u001B[0;32m    121\u001B[0m         \u001B[0mmetadata\u001B[0m\u001B[1;33m=\u001B[0m\u001B[0mmetadata\u001B[0m\u001B[1;33m,\u001B[0m\u001B[1;33m\u001B[0m\u001B[1;33m\u001B[0m\u001B[0m\n",
      "\u001B[1;32mC:\\ProgramData\\Anaconda3\\envs\\IML\\lib\\site-packages\\ipykernel\\zmqshell.py\u001B[0m in \u001B[0;36mpublish\u001B[1;34m(self, data, metadata, transient, update)\u001B[0m\n\u001B[0;32m    107\u001B[0m             \u001B[0mIf\u001B[0m \u001B[1;32mTrue\u001B[0m\u001B[1;33m,\u001B[0m \u001B[0msend\u001B[0m \u001B[0man\u001B[0m \u001B[0mupdate_display_data\u001B[0m \u001B[0mmessage\u001B[0m \u001B[0minstead\u001B[0m \u001B[0mof\u001B[0m \u001B[0mdisplay_data\u001B[0m\u001B[1;33m.\u001B[0m\u001B[1;33m\u001B[0m\u001B[1;33m\u001B[0m\u001B[0m\n\u001B[0;32m    108\u001B[0m         \"\"\"\n\u001B[1;32m--> 109\u001B[1;33m         \u001B[0mself\u001B[0m\u001B[1;33m.\u001B[0m\u001B[0m_flush_streams\u001B[0m\u001B[1;33m(\u001B[0m\u001B[1;33m)\u001B[0m\u001B[1;33m\u001B[0m\u001B[1;33m\u001B[0m\u001B[0m\n\u001B[0m\u001B[0;32m    110\u001B[0m         \u001B[1;32mif\u001B[0m \u001B[0mmetadata\u001B[0m \u001B[1;32mis\u001B[0m \u001B[1;32mNone\u001B[0m\u001B[1;33m:\u001B[0m\u001B[1;33m\u001B[0m\u001B[1;33m\u001B[0m\u001B[0m\n\u001B[0;32m    111\u001B[0m             \u001B[0mmetadata\u001B[0m \u001B[1;33m=\u001B[0m \u001B[1;33m{\u001B[0m\u001B[1;33m}\u001B[0m\u001B[1;33m\u001B[0m\u001B[1;33m\u001B[0m\u001B[0m\n",
      "\u001B[1;32mC:\\ProgramData\\Anaconda3\\envs\\IML\\lib\\site-packages\\ipykernel\\zmqshell.py\u001B[0m in \u001B[0;36m_flush_streams\u001B[1;34m(self)\u001B[0m\n\u001B[0;32m     70\u001B[0m     \u001B[1;32mdef\u001B[0m \u001B[0m_flush_streams\u001B[0m\u001B[1;33m(\u001B[0m\u001B[0mself\u001B[0m\u001B[1;33m)\u001B[0m\u001B[1;33m:\u001B[0m\u001B[1;33m\u001B[0m\u001B[1;33m\u001B[0m\u001B[0m\n\u001B[0;32m     71\u001B[0m         \u001B[1;34m\"\"\"flush IO Streams prior to display\"\"\"\u001B[0m\u001B[1;33m\u001B[0m\u001B[1;33m\u001B[0m\u001B[0m\n\u001B[1;32m---> 72\u001B[1;33m         \u001B[0msys\u001B[0m\u001B[1;33m.\u001B[0m\u001B[0mstdout\u001B[0m\u001B[1;33m.\u001B[0m\u001B[0mflush\u001B[0m\u001B[1;33m(\u001B[0m\u001B[1;33m)\u001B[0m\u001B[1;33m\u001B[0m\u001B[1;33m\u001B[0m\u001B[0m\n\u001B[0m\u001B[0;32m     73\u001B[0m         \u001B[0msys\u001B[0m\u001B[1;33m.\u001B[0m\u001B[0mstderr\u001B[0m\u001B[1;33m.\u001B[0m\u001B[0mflush\u001B[0m\u001B[1;33m(\u001B[0m\u001B[1;33m)\u001B[0m\u001B[1;33m\u001B[0m\u001B[1;33m\u001B[0m\u001B[0m\n\u001B[0;32m     74\u001B[0m \u001B[1;33m\u001B[0m\u001B[0m\n",
      "\u001B[1;32mC:\\ProgramData\\Anaconda3\\envs\\IML\\lib\\site-packages\\ipykernel\\iostream.py\u001B[0m in \u001B[0;36mflush\u001B[1;34m(self)\u001B[0m\n\u001B[0;32m    464\u001B[0m                 \u001B[0mself\u001B[0m\u001B[1;33m.\u001B[0m\u001B[0mpub_thread\u001B[0m\u001B[1;33m.\u001B[0m\u001B[0mschedule\u001B[0m\u001B[1;33m(\u001B[0m\u001B[0mevt\u001B[0m\u001B[1;33m.\u001B[0m\u001B[0mset\u001B[0m\u001B[1;33m)\u001B[0m\u001B[1;33m\u001B[0m\u001B[1;33m\u001B[0m\u001B[0m\n\u001B[0;32m    465\u001B[0m                 \u001B[1;31m# and give a timeout to avoid\u001B[0m\u001B[1;33m\u001B[0m\u001B[1;33m\u001B[0m\u001B[0m\n\u001B[1;32m--> 466\u001B[1;33m                 \u001B[1;32mif\u001B[0m \u001B[1;32mnot\u001B[0m \u001B[0mevt\u001B[0m\u001B[1;33m.\u001B[0m\u001B[0mwait\u001B[0m\u001B[1;33m(\u001B[0m\u001B[0mself\u001B[0m\u001B[1;33m.\u001B[0m\u001B[0mflush_timeout\u001B[0m\u001B[1;33m)\u001B[0m\u001B[1;33m:\u001B[0m\u001B[1;33m\u001B[0m\u001B[1;33m\u001B[0m\u001B[0m\n\u001B[0m\u001B[0;32m    467\u001B[0m                     \u001B[1;31m# write directly to __stderr__ instead of warning because\u001B[0m\u001B[1;33m\u001B[0m\u001B[1;33m\u001B[0m\u001B[0m\n\u001B[0;32m    468\u001B[0m                     \u001B[1;31m# if this is happening sys.stderr may be the problem.\u001B[0m\u001B[1;33m\u001B[0m\u001B[1;33m\u001B[0m\u001B[0m\n",
      "\u001B[1;32mC:\\ProgramData\\Anaconda3\\envs\\IML\\lib\\threading.py\u001B[0m in \u001B[0;36mwait\u001B[1;34m(self, timeout)\u001B[0m\n\u001B[0;32m    572\u001B[0m             \u001B[0msignaled\u001B[0m \u001B[1;33m=\u001B[0m \u001B[0mself\u001B[0m\u001B[1;33m.\u001B[0m\u001B[0m_flag\u001B[0m\u001B[1;33m\u001B[0m\u001B[1;33m\u001B[0m\u001B[0m\n\u001B[0;32m    573\u001B[0m             \u001B[1;32mif\u001B[0m \u001B[1;32mnot\u001B[0m \u001B[0msignaled\u001B[0m\u001B[1;33m:\u001B[0m\u001B[1;33m\u001B[0m\u001B[1;33m\u001B[0m\u001B[0m\n\u001B[1;32m--> 574\u001B[1;33m                 \u001B[0msignaled\u001B[0m \u001B[1;33m=\u001B[0m \u001B[0mself\u001B[0m\u001B[1;33m.\u001B[0m\u001B[0m_cond\u001B[0m\u001B[1;33m.\u001B[0m\u001B[0mwait\u001B[0m\u001B[1;33m(\u001B[0m\u001B[0mtimeout\u001B[0m\u001B[1;33m)\u001B[0m\u001B[1;33m\u001B[0m\u001B[1;33m\u001B[0m\u001B[0m\n\u001B[0m\u001B[0;32m    575\u001B[0m             \u001B[1;32mreturn\u001B[0m \u001B[0msignaled\u001B[0m\u001B[1;33m\u001B[0m\u001B[1;33m\u001B[0m\u001B[0m\n\u001B[0;32m    576\u001B[0m \u001B[1;33m\u001B[0m\u001B[0m\n",
      "\u001B[1;32mC:\\ProgramData\\Anaconda3\\envs\\IML\\lib\\threading.py\u001B[0m in \u001B[0;36mwait\u001B[1;34m(self, timeout)\u001B[0m\n\u001B[0;32m    314\u001B[0m             \u001B[1;32melse\u001B[0m\u001B[1;33m:\u001B[0m\u001B[1;33m\u001B[0m\u001B[1;33m\u001B[0m\u001B[0m\n\u001B[0;32m    315\u001B[0m                 \u001B[1;32mif\u001B[0m \u001B[0mtimeout\u001B[0m \u001B[1;33m>\u001B[0m \u001B[1;36m0\u001B[0m\u001B[1;33m:\u001B[0m\u001B[1;33m\u001B[0m\u001B[1;33m\u001B[0m\u001B[0m\n\u001B[1;32m--> 316\u001B[1;33m                     \u001B[0mgotit\u001B[0m \u001B[1;33m=\u001B[0m \u001B[0mwaiter\u001B[0m\u001B[1;33m.\u001B[0m\u001B[0macquire\u001B[0m\u001B[1;33m(\u001B[0m\u001B[1;32mTrue\u001B[0m\u001B[1;33m,\u001B[0m \u001B[0mtimeout\u001B[0m\u001B[1;33m)\u001B[0m\u001B[1;33m\u001B[0m\u001B[1;33m\u001B[0m\u001B[0m\n\u001B[0m\u001B[0;32m    317\u001B[0m                 \u001B[1;32melse\u001B[0m\u001B[1;33m:\u001B[0m\u001B[1;33m\u001B[0m\u001B[1;33m\u001B[0m\u001B[0m\n\u001B[0;32m    318\u001B[0m                     \u001B[0mgotit\u001B[0m \u001B[1;33m=\u001B[0m \u001B[0mwaiter\u001B[0m\u001B[1;33m.\u001B[0m\u001B[0macquire\u001B[0m\u001B[1;33m(\u001B[0m\u001B[1;32mFalse\u001B[0m\u001B[1;33m)\u001B[0m\u001B[1;33m\u001B[0m\u001B[1;33m\u001B[0m\u001B[0m\n",
      "\u001B[1;31mKeyboardInterrupt\u001B[0m: "
     ]
    }
   ],
   "source": [
    "from statsmodels.distributions.empirical_distribution import ECDF\n",
    "from scipy.stats import norm\n",
    "\n",
    "data = np.random.normal(size=10000)\n",
    "frames = []\n",
    "for m in [5,10, 15, 20, 25, 50, 75, 100, 150, 200, 250, 500, 750, 1000,1500, 2000, 2500, 5000, 7500, 10000]:\n",
    "    ecdf = ECDF(data[:m])\n",
    "    frames.append(go.Frame(\n",
    "        data = [\n",
    "            go.Scatter(x=data[:m], y=[-.1]*m, mode=\"markers\", marker=dict(size=5, color=norm.pdf(data[:m])), name=\"Samples\"),\n",
    "            go.Scatter(x=ecdf.x, y=ecdf.y, marker_color=\"black\", name=\"Empirical CDF\"),                \n",
    "            go.Scatter(x=np.linspace(-3,3,100), y=norm.cdf(np.linspace(-3,3,100), 0, 1), mode=\"lines\", \n",
    "                       line=dict(color=\"grey\", dash='dash'), name=\"Theoretical CDF\")],\n",
    "        layout = go.Layout(title=rf\"$\\text{{Empirical CDF of }}m={m}\\text{{ Samples Drawn From }}\\mathcal{{N}}\\left(0,1\\right)$\")\n",
    "    ))\n",
    "\n",
    "fig = go.Figure(data = frames[0].data, frames=frames[1:], \n",
    "                layout=go.Layout(title=frames[0].layout.title,\n",
    "                                 updatemenus=[dict(type=\"buttons\", buttons=[AnimationButtons.play(frame_duration=1000), \n",
    "                                                                            AnimationButtons.pause()])]))\n",
    "\n",
    "\n",
    "# animation_to_gif(fig, \"../figures/empirical_cdf.gif\", 700, width=600, height=450)\n",
    "fig.show()"
   ]
  },
  {
   "cell_type": "markdown",
   "metadata": {},
   "source": [
    "## AdaBoost"
   ]
  },
  {
   "cell_type": "code",
   "execution_count": null,
   "metadata": {},
   "outputs": [],
   "source": [
    "from sklearn.ensemble import AdaBoostClassifier\n",
    "from sklearn.tree import DecisionTreeClassifier\n",
    "\n",
    "class StagedAdaBoostClassifier(AdaBoostClassifier):\n",
    "    def __init__(self, **kwargs):\n",
    "        super().__init__(*kwargs)\n",
    "        self.sample_weights = []\n",
    "\n",
    "    def _boost(self, iboost, X, y, sample_weight, random_state):\n",
    "        self.sample_weights.append(sample_weight.copy())\n",
    "#         self.res_list.append(super()._boost(iboost, X, y, sample_weight, random_state))\n",
    "#         return self.res_list[-1]\n",
    "        return super()._boost(iboost, X, y, sample_weight, random_state)\n",
    "\n",
    "    def _iteration_callback(self, iboost, X, y, sample_weight, \n",
    "                            estimator_weight = None, estimator_error = None):\n",
    "        self.sample_weights.append(sample_weight.copy())\n",
    "        \n",
    "        \n",
    "from sklearn.datasets import make_gaussian_quantiles\n",
    "\n",
    "# Construct dataset of two sets of Gaussian quantiles\n",
    "X1, y1 = make_gaussian_quantiles(cov=2., n_samples=50, n_features=2, n_classes=2, random_state=1)\n",
    "X2, y2 = make_gaussian_quantiles(mean=(3, 3), cov=1.5, n_samples=50, n_features=2, n_classes=2, random_state=1)\n",
    "X, y = np.concatenate((X1, X2)), np.concatenate((y1, - y2 + 1))\n",
    "\n",
    "\n",
    "# Form grid of points to use for plotting decision boundaries \n",
    "lims = np.array([X.min(axis=0), X.max(axis=0)]).T + np.array([-.2, .2])\n",
    "xx, yy = list(map(np.ravel, np.meshgrid(np.arange(*lims[0], .2), np.arange(*lims[1], .2))))\n",
    "\n",
    "\n",
    "# Fit AdaBoost classifier over training set\n",
    "model = StagedAdaBoostClassifier().fit(X, y)\n",
    "# Retrieve model train error at each iteration of fitting\n",
    "staged_scores = list(model.staged_score(X, y))\n",
    "# Predict labels of grid points at each iteration of fitting\n",
    "staged_predictions = np.array(list(model.staged_predict(np.vstack([xx, yy]).T)))"
   ]
  },
  {
   "cell_type": "code",
   "execution_count": null,
   "metadata": {},
   "outputs": [],
   "source": [
    "# Create animation frames\n",
    "frames = []\n",
    "for i in range(len(staged_predictions)):\n",
    "    frames.append(go.Frame(\n",
    "        data=[\n",
    "            # Scatter of sample weights\n",
    "            go.Scatter(x=X[:,0], y= X[:,1], mode='markers', showlegend=False, marker=dict(color=y, colorscale=class_colors(2),\n",
    "                       size=np.maximum(230*model.sample_weights[i]+1, np.ones(len(model.sample_weights[i]))*5)),\n",
    "                       xaxis=\"x\", yaxis=\"y\"), \n",
    "            \n",
    "            # Staged decision surface \n",
    "            go.Scatter(x=xx,  y=yy, marker=dict(symbol = \"square\", colorscale=custom, color=staged_predictions[i,:]), \n",
    "                       mode='markers', opacity = 0.4, showlegend=False, xaxis=\"x2\", yaxis=\"y2\"),\n",
    "            \n",
    "            # Scatter of train samples with true class\n",
    "            go.Scatter(x=X[:,0],  y=X[:,1], mode='markers', showlegend=False, xaxis=\"x2\", yaxis=\"y2\",\n",
    "                       marker=dict(color=y, colorscale=class_colors(2), symbol=class_symbols[y])),\n",
    "            \n",
    "            # Scatter of staged score\n",
    "            go.Scatter(x=list(range(i)), y=staged_scores[:i], mode='lines+markers', showlegend=False, marker_color=\"black\",\n",
    "                       xaxis=\"x3\", yaxis=\"y3\")\n",
    "        ],\n",
    "        layout = go.Layout(title = rf\"$\\text{{AdaBoost Training - Iteration }}{i+1}/{len(staged_predictions)}$)\"),\n",
    "        traces=[0, 1, 2, 3]))    \n",
    "\n",
    "    \n",
    "fig = make_subplots(rows=2, cols=2, row_heights=[350, 200],\n",
    "                    subplot_titles=(r\"$\\text{Sample Weights}$\", r\"$\\text{Decisions Boundaries}$\", \n",
    "                                    r\"$\\text{Ensemble Train Accuracy}$\"),\n",
    "                    specs=[[{}, {}], [{\"colspan\": 2}, None]])\\\n",
    "    .add_traces(data=frames[0].data, rows=[1,1,1,2], cols=[1,2,2,1])\\\n",
    "    .update(frames = frames)\\\n",
    "    .update_layout(title=frames[0].layout.title,\n",
    "                   updatemenus = [dict(type=\"buttons\", buttons=[AnimationButtons.play(), AnimationButtons.pause()])], \n",
    "                   width=600, height=550, margin=dict(t=100))\\\n",
    "    .update_yaxes(range=[min(staged_scores)-.1, 1.1], autorange=False, row=2, col=1)\\\n",
    "    .update_xaxes(range=[0, len(frames)], autorange=False, row=2, col=1)\n",
    "\n",
    "# animation_to_gif(fig, \"../figures/adaboost.gif\", 1000, width=600, height=550)\n",
    "fig.show()"
   ]
  }
 ],
 "metadata": {
  "kernelspec": {
   "display_name": "Python 3 (ipykernel)",
   "language": "python",
   "name": "python3"
  },
  "language_info": {
   "codemirror_mode": {
    "name": "ipython",
    "version": 3
   },
   "file_extension": ".py",
   "mimetype": "text/x-python",
   "name": "python",
   "nbconvert_exporter": "python",
   "pygments_lexer": "ipython3",
   "version": "3.9.7"
  }
 },
 "nbformat": 4,
 "nbformat_minor": 1
}